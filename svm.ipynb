{
 "cells": [
  {
   "cell_type": "code",
   "execution_count": 16,
   "metadata": {},
   "outputs": [],
   "source": [
    "import pickle\n",
    "import re\n",
    "from nltk.tokenize import TweetTokenizer\n",
    "from nltk import ngrams\n",
    "import numpy as np\n",
    "from sklearn import svm\n",
    "from sklearn import metrics\n",
    "from sklearn.feature_extraction.text import CountVectorizer\n"
   ]
  },
  {
   "cell_type": "code",
   "execution_count": 2,
   "metadata": {},
   "outputs": [],
   "source": [
    "\n",
    "train_set = np.asarray(pickle.load(open(\"train_set.p\", \"rb\")))\n",
    "test_set = np.asarray(pickle.load(open(\"test_set.p\", \"rb\")))\n"
   ]
  },
  {
   "cell_type": "code",
   "execution_count": 3,
   "metadata": {},
   "outputs": [],
   "source": [
    "y_train = train_set[:, 1].astype(np.int_)\n",
    "train = train_set[:, 0]\n",
    "\n",
    "y_test = test_set[:, 1].astype(np.int_)\n",
    "test = test_set[:, 0]\n"
   ]
  },
  {
   "cell_type": "code",
   "execution_count": 4,
   "metadata": {},
   "outputs": [],
   "source": [
    "#print(train_set[30:40])"
   ]
  },
  {
   "cell_type": "code",
   "execution_count": 5,
   "metadata": {},
   "outputs": [],
   "source": [
    "def get_num_of_hastags(tweet):\n",
    "    return tweet.count(\"#\")\n"
   ]
  },
  {
   "cell_type": "code",
   "execution_count": 6,
   "metadata": {},
   "outputs": [],
   "source": [
    "def get_num_of_mult_punctuation(tweet):\n",
    "    return len(re.findall(r\"[?!]{2,}\", tweet))\n"
   ]
  },
  {
   "cell_type": "code",
   "execution_count": 7,
   "metadata": {},
   "outputs": [],
   "source": [
    "# TODO: remove if not needed\n",
    "\n",
    "def get_ngrams(tweet, n):\n",
    "    tknzr = TweetTokenizer()\n",
    "    tokens = tknzr.tokenize(tweet)\n",
    "    \n",
    "    l = []\n",
    "    for ngram in ngrams(tokens, n):\n",
    "        l.append(' '.join(str(i) for i in ngram))\n",
    "\n",
    "    return l\n"
   ]
  },
  {
   "cell_type": "code",
   "execution_count": 8,
   "metadata": {},
   "outputs": [],
   "source": [
    "# TODO: rethink, maybe include loop over tweets in functions itself\n",
    "# TODO: extract features always for train and test like in get_n...\n",
    "\n",
    "def extract_features(data_set):\n",
    "    X = np.zeros((len(data_set), 2))    \n",
    "\n",
    "    for i, tweet in enumerate(data_set): \n",
    "        num_hastags = get_num_of_hastags(tweet)\n",
    "        num_mult_punct = get_num_of_mult_punctuation(tweet)\n",
    "\n",
    "        X[i] = np.asarray([num_hastags, num_mult_punct])\n",
    "    \n",
    "    return X\n",
    "\n",
    "X_train = extract_features(train)\n",
    "X_test = extract_features(test)\n"
   ]
  },
  {
   "cell_type": "code",
   "execution_count": 55,
   "metadata": {},
   "outputs": [],
   "source": [
    "def transform_to_pos_neg(np_array):\n",
    "    np_array[np_array < 0] = -1\n",
    "    np_array[np_array > 0] = 1\n",
    "    \n",
    "    return np_array\n",
    "\n"
   ]
  },
  {
   "cell_type": "code",
   "execution_count": 45,
   "metadata": {},
   "outputs": [],
   "source": [
    "def eveluate_model(model, X_test):\n",
    "    prediction = model.predict(X_test)\n",
    "\n",
    "    acc = metrics.accuracy_score(y_test, prediction)\n",
    "    print(\"Accuracy:\", acc)\n",
    "\n",
    "    acc_interval = acc + metrics.accuracy_score(y_test + 1, prediction) \\\n",
    "                   + metrics.accuracy_score(y_test - 1, prediction)\n",
    "    print(\"Accuracy for small interval:\", acc_interval)  # Accuracy if predicted value is +-1\n",
    "\n",
    "    acc_dir = metrics.accuracy_score(transform_to_pos_neg(y_test), transform_to_pos_neg(prediction))\n",
    "    print(\"Accuracy for right direction:\", acc_dir)\n"
   ]
  },
  {
   "cell_type": "code",
   "execution_count": 66,
   "metadata": {},
   "outputs": [],
   "source": [
    "# TODO: include n\n",
    "# TODO: move above extract features again\n",
    "\n",
    "def get_ngram_vectors(train, test, n):\n",
    "    #print(train_set[0:5, 0])\n",
    "    #print(sum([len(tweet) for tweet in train_set[0:5, 0]]))\n",
    "\n",
    "    vectorizer = CountVectorizer(ngram_range=(1, n), tokenizer=TweetTokenizer().tokenize)\n",
    "    train_vector = vectorizer.fit_transform(train)\n",
    "    test_vector = vectorizer.transform(test)\n",
    "\n",
    "    return train_vector, test_vector\n",
    "\n",
    "X_train, X_test = get_ngram_vectors(train, test, 3)\n"
   ]
  },
  {
   "cell_type": "code",
   "execution_count": 67,
   "metadata": {},
   "outputs": [
    {
     "data": {
      "text/plain": [
       "LinearSVC(C=1.0, class_weight=None, dual=True, fit_intercept=True,\n     intercept_scaling=1, loss='squared_hinge', max_iter=1000,\n     multi_class='ovr', penalty='l2', random_state=None, tol=0.0001,\n     verbose=0)"
      ]
     },
     "execution_count": 67,
     "metadata": {},
     "output_type": "execute_result"
    }
   ],
   "source": [
    "lin_svm = svm.LinearSVC()\n",
    "lin_svm.fit(X_train, y_train)"
   ]
  },
  {
   "cell_type": "code",
   "execution_count": 65,
   "metadata": {},
   "outputs": [
    {
     "name": "stdout",
     "output_type": "stream",
     "text": [
      "Accuracy: 0.185\nAccuracy for small interval: 0.625\nAccuracy for right direction: 0.52\n"
     ]
    }
   ],
   "source": [
    "eveluate_model(lin_svm, X_test)"
   ]
  },
  {
   "cell_type": "code",
   "execution_count": null,
   "metadata": {},
   "outputs": [],
   "source": []
  }
 ],
 "metadata": {
  "kernelspec": {
   "display_name": "Python 2",
   "language": "python",
   "name": "python2"
  },
  "language_info": {
   "codemirror_mode": {
    "name": "ipython",
    "version": 2
   },
   "file_extension": ".py",
   "mimetype": "text/x-python",
   "name": "python",
   "nbconvert_exporter": "python",
   "pygments_lexer": "ipython2",
   "version": "2.7.6"
  }
 },
 "nbformat": 4,
 "nbformat_minor": 0
}
