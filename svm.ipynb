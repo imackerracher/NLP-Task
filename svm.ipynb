{
 "cells": [
  {
   "cell_type": "code",
   "execution_count": 1,
   "metadata": {},
   "outputs": [],
   "source": [
    "import pickle\n",
    "import re\n",
    "import numpy as np\n",
    "from nltk.tokenize import TweetTokenizer\n",
    "from sklearn import svm\n",
    "from sklearn import metrics\n",
    "from sklearn.model_selection import GridSearchCV\n",
    "from sklearn.feature_extraction.text import CountVectorizer\n",
    "from sklearn.feature_selection import SelectKBest\n",
    "from sklearn.feature_selection import chi2\n",
    "from sklearn.feature_selection import VarianceThreshold\n",
    "from preprocessing.tweet import Tweet\n",
    "from nltk.data import load\n"
   ]
  },
  {
   "cell_type": "code",
   "execution_count": 2,
   "metadata": {},
   "outputs": [
    {
     "name": "stdout",
     "output_type": "stream",
     "text": [
      "(1174,) (200,)\n"
     ]
    }
   ],
   "source": [
    "train = np.asarray(pickle.load(open(\"preprocessing/train_set\", \"rb\")))\n",
    "test = np.asarray(pickle.load(open(\"preprocessing/test_set\", \"rb\")))\n",
    "\n",
    "print(train.shape, test.shape)"
   ]
  },
  {
   "cell_type": "code",
   "execution_count": 3,
   "metadata": {},
   "outputs": [],
   "source": [
    "# TODO: remove workaround\n",
    "\n",
    "for i, tweet in enumerate(train):\n",
    "    if \":\" in tweet.valence:\n",
    "        train[i].valence = int(str.split(tweet.valence, \":\")[0])\n"
   ]
  },
  {
   "cell_type": "code",
   "execution_count": 4,
   "metadata": {},
   "outputs": [],
   "source": [
    "# TODO: remove workaround\n",
    "\n",
    "for i, tweet in enumerate(test):\n",
    "    if \":\" in tweet.valence:\n",
    "        test[i].valence = int(str.split(tweet.valence, \":\")[0])\n"
   ]
  },
  {
   "cell_type": "code",
   "execution_count": 5,
   "metadata": {},
   "outputs": [],
   "source": [
    "y_train = np.asarray([int(tweet.valence) for tweet in train])\n",
    "y_test = np.asarray([int(tweet.valence) for tweet in test])\n"
   ]
  },
  {
   "cell_type": "markdown",
   "metadata": {},
   "source": [
    "## Feature Selection\n"
   ]
  },
  {
   "cell_type": "code",
   "execution_count": 6,
   "metadata": {},
   "outputs": [],
   "source": [
    "def get_num_of_hashtags(data_set):\n",
    "    X = np.zeros((len(data_set), 1))\n",
    "    \n",
    "    for i, tweet in enumerate(data_set):\n",
    "        X[i, 0] = np.asarray(len(tweet.hashtags))\n",
    "        \n",
    "    return X\n"
   ]
  },
  {
   "cell_type": "code",
   "execution_count": 7,
   "metadata": {},
   "outputs": [],
   "source": [
    "def get_num_of_mult_punctuation(data_set):\n",
    "    X = np.zeros((len(data_set), 1))\n",
    "\n",
    "    for i, tweet in enumerate(data_set):\n",
    "        X[i, 0] = len(re.findall(r\"[?!]{2,}\", tweet.raw))\n",
    "        \n",
    "    return X\n"
   ]
  },
  {
   "cell_type": "code",
   "execution_count": 8,
   "metadata": {},
   "outputs": [],
   "source": [
    "def get_num_pos_tags(train, test):\n",
    "    vocabulary = list(load('help/tagsets/upenn_tagset.pickle'))\n",
    "    pos_tags_train = [tweet.pos_tags for tweet in train]\n",
    "    pos_tags_test = [tweet.pos_tags for tweet in test]\n",
    "\n",
    "    vectorizer = CountVectorizer(vocabulary=vocabulary, tokenizer=lambda doc: doc, lowercase=False)\n",
    "\n",
    "    train_vector = vectorizer.transform(pos_tags_train)\n",
    "    test_vector = vectorizer.transform(pos_tags_test)\n",
    "   \n",
    "    return np.asarray(train_vector.toarray()), np.asarray(test_vector.toarray())\n",
    "\n"
   ]
  },
  {
   "cell_type": "code",
   "execution_count": 9,
   "metadata": {},
   "outputs": [],
   "source": [
    "def get_ngram_vectors(train, test, method=\"word\", upper=3, lower=1):\n",
    "    vectorizer = CountVectorizer(ngram_range=(lower, upper), tokenizer=TweetTokenizer().tokenize, \n",
    "                                 analyzer=method)\n",
    "    \n",
    "    raw_train = [tweet.raw for tweet in train]\n",
    "    raw_test = [tweet.raw for tweet in test]\n",
    "    \n",
    "    train_vector = vectorizer.fit_transform(raw_train)\n",
    "    test_vector = vectorizer.transform(raw_test)\n",
    "\n",
    "    return np.asarray(train_vector.toarray()), np.asarray(test_vector.toarray())\n"
   ]
  },
  {
   "cell_type": "code",
   "execution_count": 10,
   "metadata": {},
   "outputs": [],
   "source": [
    "def extract_features(train, test):\n",
    "    word_ngram_upper_bound = 4\n",
    "    char_ngram_upper_bound = 5\n",
    "    char_ngram_lower_bound = 3\n",
    "\n",
    "    pos_vec_train, pos_vec_test = get_num_pos_tags(train, test)\n",
    "    train_word_vectors, test_word_vectors = get_ngram_vectors(\n",
    "        train, test, \"word\", word_ngram_upper_bound)\n",
    "    train_char_vectors, test_char_vectors = get_ngram_vectors(\n",
    "        train, test, \"char\", char_ngram_upper_bound, char_ngram_lower_bound)\n",
    "    \n",
    "    train_features = np.concatenate([get_num_of_hashtags(train),\n",
    "                                     get_num_of_mult_punctuation(train),\n",
    "                                     pos_vec_train,\n",
    "                                     train_word_vectors,\n",
    "                                     train_char_vectors], axis=1)\n",
    "\n",
    "    test_features = np.concatenate([get_num_of_hashtags(test),\n",
    "                                    get_num_of_mult_punctuation(test),\n",
    "                                    test_word_vectors,\n",
    "                                    test_char_vectors,\n",
    "                                    pos_vec_test], axis=1)\n",
    "    \n",
    "    \n",
    "    return train_features, test_features\n"
   ]
  },
  {
   "cell_type": "code",
   "execution_count": 11,
   "metadata": {},
   "outputs": [],
   "source": [
    "X_train, X_test = extract_features(train, test)\n"
   ]
  },
  {
   "cell_type": "markdown",
   "metadata": {},
   "source": [
    "## Baseline"
   ]
  },
  {
   "cell_type": "code",
   "execution_count": 12,
   "metadata": {},
   "outputs": [],
   "source": [
    "def transform_to_pos_neg(np_array):\n",
    "    np_array[np_array < 0] = -1\n",
    "    np_array[np_array > 0] = 1\n",
    "    \n",
    "    return np_array\n"
   ]
  },
  {
   "cell_type": "code",
   "execution_count": 13,
   "metadata": {},
   "outputs": [],
   "source": [
    "def evaluate_model(model, X, y):\n",
    "    prediction = model.predict(X)\n",
    "\n",
    "    acc = metrics.accuracy_score(y, prediction)\n",
    "    print(\"Accuracy:\", acc)\n",
    "\n",
    "    acc_interval = acc + metrics.accuracy_score(y + 1, prediction) \\\n",
    "                   + metrics.accuracy_score(y - 1, prediction)\n",
    "    print(\"Accuracy for small interval:\", acc_interval)  # Accuracy if predicted value is +-1\n",
    "\n",
    "    acc_dir = metrics.accuracy_score(transform_to_pos_neg(y), transform_to_pos_neg(prediction))\n",
    "    print(\"Accuracy for right direction:\", acc_dir)\n"
   ]
  },
  {
   "cell_type": "code",
   "execution_count": 17,
   "metadata": {
    "collapsed": true
   },
   "outputs": [
    {
     "name": "stdout",
     "output_type": "stream",
     "text": [
      "Accuracy: 0.07\nAccuracy for small interval: 0.505\nAccuracy for right direction: 0.41\n"
     ]
    }
   ],
   "source": [
    "# TODO: find out why first run yields much higher accuracy\n",
    "\n",
    "lin_svm = svm.LinearSVC()\n",
    "lin_svm.fit(X_train, y_train)\n",
    "evaluate_model(lin_svm, X_test, y_test)"
   ]
  },
  {
   "cell_type": "markdown",
   "metadata": {},
   "source": [
    "## Training with Grid Search"
   ]
  },
  {
   "cell_type": "code",
   "execution_count": 18,
   "metadata": {
    "collapsed": false
   },
   "outputs": [
    {
     "name": "stdout",
     "output_type": "stream",
     "text": [
      "Fitting 5 folds for each of 5 candidates, totalling 25 fits\n[CV] C=0.001 .........................................................\n"
     ]
    },
    {
     "name": "stdout",
     "output_type": "stream",
     "text": [
      "[CV] .......................... C=0.001, score=0.338983, total=   1.0s\n[CV] C=0.001 .........................................................\n"
     ]
    },
    {
     "name": "stderr",
     "output_type": "stream",
     "text": [
      "[Parallel(n_jobs=1)]: Done   1 out of   1 | elapsed:    1.4s remaining:    0.0s\n"
     ]
    },
    {
     "name": "stdout",
     "output_type": "stream",
     "text": [
      "[CV] .......................... C=0.001, score=0.372881, total=   0.9s\n[CV] C=0.001 .........................................................\n"
     ]
    },
    {
     "name": "stderr",
     "output_type": "stream",
     "text": [
      "[Parallel(n_jobs=1)]: Done   2 out of   2 | elapsed:    2.7s remaining:    0.0s\n"
     ]
    },
    {
     "name": "stdout",
     "output_type": "stream",
     "text": [
      "[CV] .......................... C=0.001, score=0.323404, total=   0.9s\n[CV] C=0.001 .........................................................\n"
     ]
    },
    {
     "name": "stderr",
     "output_type": "stream",
     "text": [
      "[Parallel(n_jobs=1)]: Done   3 out of   3 | elapsed:    3.8s remaining:    0.0s\n"
     ]
    },
    {
     "name": "stdout",
     "output_type": "stream",
     "text": [
      "[CV] .......................... C=0.001, score=0.350427, total=   0.7s\n[CV] C=0.001 .........................................................\n"
     ]
    },
    {
     "name": "stderr",
     "output_type": "stream",
     "text": [
      "[Parallel(n_jobs=1)]: Done   4 out of   4 | elapsed:    4.8s remaining:    0.0s\n"
     ]
    },
    {
     "name": "stdout",
     "output_type": "stream",
     "text": [
      "[CV] .......................... C=0.001, score=0.313305, total=   0.7s\n[CV] C=0.01 ..........................................................\n"
     ]
    },
    {
     "name": "stderr",
     "output_type": "stream",
     "text": [
      "[Parallel(n_jobs=1)]: Done   5 out of   5 | elapsed:    5.8s remaining:    0.0s\n"
     ]
    },
    {
     "name": "stdout",
     "output_type": "stream",
     "text": [
      "[CV] ........................... C=0.01, score=0.313559, total=   1.1s\n[CV] C=0.01 ..........................................................\n"
     ]
    },
    {
     "name": "stderr",
     "output_type": "stream",
     "text": [
      "[Parallel(n_jobs=1)]: Done   6 out of   6 | elapsed:    7.2s remaining:    0.0s\n"
     ]
    },
    {
     "name": "stdout",
     "output_type": "stream",
     "text": [
      "[CV] ........................... C=0.01, score=0.322034, total=   1.5s\n[CV] C=0.01 ..........................................................\n"
     ]
    },
    {
     "name": "stderr",
     "output_type": "stream",
     "text": [
      "[Parallel(n_jobs=1)]: Done   7 out of   7 | elapsed:    9.1s remaining:    0.0s\n"
     ]
    },
    {
     "name": "stdout",
     "output_type": "stream",
     "text": [
      "[CV] ........................... C=0.01, score=0.344681, total=   1.7s\n[CV] C=0.01 ..........................................................\n"
     ]
    },
    {
     "name": "stderr",
     "output_type": "stream",
     "text": [
      "[Parallel(n_jobs=1)]: Done   8 out of   8 | elapsed:   11.2s remaining:    0.0s\n"
     ]
    },
    {
     "name": "stdout",
     "output_type": "stream",
     "text": [
      "[CV] ........................... C=0.01, score=0.333333, total=   1.8s\n[CV] C=0.01 ..........................................................\n"
     ]
    },
    {
     "name": "stderr",
     "output_type": "stream",
     "text": [
      "[Parallel(n_jobs=1)]: Done   9 out of   9 | elapsed:   13.4s remaining:    0.0s\n"
     ]
    },
    {
     "name": "stdout",
     "output_type": "stream",
     "text": [
      "[CV] ........................... C=0.01, score=0.296137, total=   1.5s\n[CV] C=0.1 ...........................................................\n"
     ]
    },
    {
     "name": "stdout",
     "output_type": "stream",
     "text": [
      "[CV] ............................ C=0.1, score=0.300847, total=   3.7s\n[CV] C=0.1 ...........................................................\n"
     ]
    },
    {
     "name": "stdout",
     "output_type": "stream",
     "text": [
      "[CV] ............................ C=0.1, score=0.313559, total=   3.2s\n[CV] C=0.1 ...........................................................\n"
     ]
    },
    {
     "name": "stdout",
     "output_type": "stream",
     "text": [
      "[CV] ............................ C=0.1, score=0.327660, total=   3.7s\n[CV] C=0.1 ...........................................................\n"
     ]
    },
    {
     "name": "stdout",
     "output_type": "stream",
     "text": [
      "[CV] ............................ C=0.1, score=0.316239, total=   3.2s\n[CV] C=0.1 ...........................................................\n"
     ]
    },
    {
     "name": "stdout",
     "output_type": "stream",
     "text": [
      "[CV] ............................ C=0.1, score=0.287554, total=   3.1s\n[CV] C=1 .............................................................\n"
     ]
    },
    {
     "name": "stdout",
     "output_type": "stream",
     "text": [
      "[CV] .............................. C=1, score=0.313559, total=   3.0s\n[CV] C=1 .............................................................\n"
     ]
    },
    {
     "name": "stdout",
     "output_type": "stream",
     "text": [
      "[CV] .............................. C=1, score=0.322034, total=   2.6s\n[CV] C=1 .............................................................\n"
     ]
    },
    {
     "name": "stdout",
     "output_type": "stream",
     "text": [
      "[CV] .............................. C=1, score=0.323404, total=   3.2s\n[CV] C=1 .............................................................\n"
     ]
    },
    {
     "name": "stdout",
     "output_type": "stream",
     "text": [
      "[CV] .............................. C=1, score=0.307692, total=   2.3s\n[CV] C=1 .............................................................\n"
     ]
    },
    {
     "name": "stdout",
     "output_type": "stream",
     "text": [
      "[CV] .............................. C=1, score=0.278970, total=   2.4s\n[CV] C=10 ............................................................\n"
     ]
    },
    {
     "name": "stdout",
     "output_type": "stream",
     "text": [
      "[CV] ............................. C=10, score=0.313559, total=   2.7s\n[CV] C=10 ............................................................\n"
     ]
    },
    {
     "name": "stdout",
     "output_type": "stream",
     "text": [
      "[CV] ............................. C=10, score=0.317797, total=   2.4s\n[CV] C=10 ............................................................\n"
     ]
    },
    {
     "name": "stdout",
     "output_type": "stream",
     "text": [
      "[CV] ............................. C=10, score=0.323404, total=   3.2s\n[CV] C=10 ............................................................\n"
     ]
    },
    {
     "name": "stdout",
     "output_type": "stream",
     "text": [
      "[CV] ............................. C=10, score=0.303419, total=   2.3s\n[CV] C=10 ............................................................\n"
     ]
    },
    {
     "name": "stdout",
     "output_type": "stream",
     "text": [
      "[CV] ............................. C=10, score=0.283262, total=   2.8s\n"
     ]
    },
    {
     "name": "stderr",
     "output_type": "stream",
     "text": [
      "[Parallel(n_jobs=1)]: Done  25 out of  25 | elapsed:  1.1min finished\n"
     ]
    },
    {
     "name": "stdout",
     "output_type": "stream",
     "text": [
      "{'C': 0.001}\nAccuracy: 0.05\nAccuracy for small interval: 0.365\nAccuracy for right direction: 0.415\n"
     ]
    }
   ],
   "source": [
    "cs = [0.001, 0.01, 0.1, 1, 10]\n",
    "grid = {'C': cs}\n",
    "\n",
    "grid_search = GridSearchCV(svm.LinearSVC(), grid, cv=5, verbose=10)\n",
    "grid_search.fit(X_train, y_train)\n",
    "print(grid_search.best_params_)\n",
    "evaluate_model(grid_search, X_test, y_test)\n"
   ]
  },
  {
   "cell_type": "markdown",
   "metadata": {},
   "source": [
    "## Feature Selection\n"
   ]
  },
  {
   "cell_type": "markdown",
   "metadata": {},
   "source": [
    "### Variance Threshold"
   ]
  },
  {
   "cell_type": "code",
   "execution_count": 19,
   "metadata": {},
   "outputs": [],
   "source": [
    "# TODO: use different values for threshold!\n",
    "\n",
    "variance_selector = VarianceThreshold(0.05)\n",
    "X_train_selected = variance_selector.fit_transform(X_train)\n",
    "X_test_selected = variance_selector.transform(X_test)\n"
   ]
  },
  {
   "cell_type": "code",
   "execution_count": 20,
   "metadata": {},
   "outputs": [
    {
     "name": "stdout",
     "output_type": "stream",
     "text": [
      "Accuracy: 0.105\nAccuracy for small interval: 0.51\nAccuracy for right direction: 0.34\n"
     ]
    }
   ],
   "source": [
    "lin_svm = svm.LinearSVC()\n",
    "lin_svm.fit(X_train_selected, y_train)\n",
    "evaluate_model(lin_svm, X_test_selected, y_test)\n"
   ]
  },
  {
   "cell_type": "markdown",
   "metadata": {},
   "source": [
    "### Selection of kBest"
   ]
  },
  {
   "cell_type": "code",
   "execution_count": 21,
   "metadata": {},
   "outputs": [],
   "source": [
    "# TODO: also try with different values for k\n",
    "\n",
    "kbest_selector = SelectKBest(chi2, k=100) #50 and 200 are worse\n",
    "X_train_selected = kbest_selector.fit_transform(X_train, y_train)\n",
    "X_test_selected = kbest_selector.transform(X_test)\n"
   ]
  },
  {
   "cell_type": "code",
   "execution_count": 22,
   "metadata": {},
   "outputs": [
    {
     "name": "stdout",
     "output_type": "stream",
     "text": [
      "Accuracy: 0.215\nAccuracy for small interval: 0.935\nAccuracy for right direction: 0.235\n"
     ]
    }
   ],
   "source": [
    "lin_svm = svm.LinearSVC()\n",
    "lin_svm.fit(X_train_selected, y_train)\n",
    "evaluate_model(lin_svm, X_test_selected, y_test)\n"
   ]
  }
 ],
 "metadata": {
  "kernelspec": {
   "display_name": "Python 2",
   "language": "python",
   "name": "python2"
  },
  "language_info": {
   "codemirror_mode": {
    "name": "ipython",
    "version": 2
   },
   "file_extension": ".py",
   "mimetype": "text/x-python",
   "name": "python",
   "nbconvert_exporter": "python",
   "pygments_lexer": "ipython2",
   "version": "2.7.6"
  }
 },
 "nbformat": 4,
 "nbformat_minor": 0
}
