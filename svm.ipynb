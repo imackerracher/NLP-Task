{
 "cells": [
  {
   "cell_type": "code",
   "execution_count": 1,
   "metadata": {},
   "outputs": [],
   "source": [
    "import pickle\n",
    "import re\n",
    "from nltk.tokenize import TweetTokenizer\n",
    "from nltk import ngrams\n",
    "import numpy as np\n",
    "from sklearn import svm\n",
    "from sklearn import metrics\n",
    "from sklearn.feature_extraction.text import CountVectorizer\n"
   ]
  },
  {
   "cell_type": "code",
   "execution_count": 2,
   "metadata": {},
   "outputs": [],
   "source": [
    "\n",
    "train_set = np.asarray(pickle.load(open(\"train_set.p\", \"rb\")))\n",
    "test_set = np.asarray(pickle.load(open(\"test_set.p\", \"rb\")))\n"
   ]
  },
  {
   "cell_type": "code",
   "execution_count": 3,
   "metadata": {},
   "outputs": [],
   "source": [
    "y_train = train_set[:, 1].astype(np.int_)\n",
    "train = train_set[:, 0]\n",
    "\n",
    "y_test = test_set[:, 1].astype(np.int_)\n",
    "test = test_set[:, 0]\n"
   ]
  },
  {
   "cell_type": "code",
   "execution_count": 5,
   "metadata": {},
   "outputs": [],
   "source": [
    "def get_num_of_hastags(data_set):\n",
    "    X = np.zeros((len(data_set), 1))\n",
    "    \n",
    "    for i, tweet in enumerate(data_set):\n",
    "        X[i, 0] = np.asarray(tweet.count(\"#\"))\n",
    "        \n",
    "    return X\n"
   ]
  },
  {
   "cell_type": "code",
   "execution_count": 6,
   "metadata": {},
   "outputs": [],
   "source": [
    "def get_num_of_mult_punctuation(data_set):\n",
    "    X = np.zeros((len(data_set), 1))\n",
    "\n",
    "    for i, tweet in enumerate(data_set):\n",
    "        X[i, 0] = len(re.findall(r\"[?!]{2,}\", tweet))\n",
    "        \n",
    "    return X\n",
    "\n"
   ]
  },
  {
   "cell_type": "code",
   "execution_count": 7,
   "metadata": {},
   "outputs": [],
   "source": [
    "def get_ngram_vectors(train, test, n):\n",
    "    vectorizer = CountVectorizer(ngram_range=(1, n), tokenizer=TweetTokenizer().tokenize)\n",
    "    train_vector = vectorizer.fit_transform(train)\n",
    "    test_vector = vectorizer.transform(test)\n",
    "\n",
    "    return np.asarray(train_vector.toarray()), np.asarray(test_vector.toarray())\n",
    "\n",
    "\n"
   ]
  },
  {
   "cell_type": "code",
   "execution_count": 8,
   "metadata": {},
   "outputs": [],
   "source": [
    "def extract_features(train, test):\n",
    "    # TODO: remove magic number?\n",
    "    train_vectors, test_vectors = get_ngram_vectors(train, test, 3)\n",
    "\n",
    "    train_features = np.concatenate([get_num_of_hastags(train),\n",
    "                                     get_num_of_mult_punctuation(train),\n",
    "                                     train_vectors], axis=1)\n",
    "\n",
    "    test_features = np.concatenate([get_num_of_hastags(test),\n",
    "                                    get_num_of_mult_punctuation(test),\n",
    "                                    test_vectors], axis=1)\n",
    "    return train_features, test_features\n",
    "\n"
   ]
  },
  {
   "cell_type": "code",
   "execution_count": 9,
   "metadata": {},
   "outputs": [],
   "source": [
    "def transform_to_pos_neg(np_array):\n",
    "    np_array[np_array < 0] = -1\n",
    "    np_array[np_array > 0] = 1\n",
    "    \n",
    "    return np_array\n",
    "\n"
   ]
  },
  {
   "cell_type": "code",
   "execution_count": 10,
   "metadata": {},
   "outputs": [],
   "source": [
    "def eveluate_model(model, X_test):\n",
    "    prediction = model.predict(X_test)\n",
    "\n",
    "    acc = metrics.accuracy_score(y_test, prediction)\n",
    "    print(\"Accuracy:\", acc)\n",
    "\n",
    "    acc_interval = acc + metrics.accuracy_score(y_test + 1, prediction) \\\n",
    "                   + metrics.accuracy_score(y_test - 1, prediction)\n",
    "    print(\"Accuracy for small interval:\", acc_interval)  # Accuracy if predicted value is +-1\n",
    "\n",
    "    acc_dir = metrics.accuracy_score(transform_to_pos_neg(y_test), transform_to_pos_neg(prediction))\n",
    "    print(\"Accuracy for right direction:\", acc_dir)\n"
   ]
  },
  {
   "cell_type": "code",
   "execution_count": 11,
   "metadata": {},
   "outputs": [],
   "source": [
    "X_train, X_test = extract_features(train, test)\n"
   ]
  },
  {
   "cell_type": "code",
   "execution_count": 12,
   "metadata": {},
   "outputs": [
    {
     "data": {
      "text/plain": [
       "LinearSVC(C=1.0, class_weight=None, dual=True, fit_intercept=True,\n     intercept_scaling=1, loss='squared_hinge', max_iter=1000,\n     multi_class='ovr', penalty='l2', random_state=None, tol=0.0001,\n     verbose=0)"
      ]
     },
     "execution_count": 12,
     "metadata": {},
     "output_type": "execute_result"
    }
   ],
   "source": [
    "# TODO: implement cross validation\n",
    "# TODO: normalization? \n",
    "# TODO: find out about c and y (grid search maybe)\n",
    "\n",
    "lin_svm = svm.LinearSVC()\n",
    "lin_svm.fit(X_train, y_train)"
   ]
  },
  {
   "cell_type": "code",
   "execution_count": 13,
   "metadata": {},
   "outputs": [
    {
     "name": "stdout",
     "output_type": "stream",
     "text": [
      "Accuracy: 0.26\nAccuracy for small interval: 0.505\nAccuracy for right direction: 0.45\n"
     ]
    }
   ],
   "source": [
    "eveluate_model(lin_svm, X_test)"
   ]
  },
  {
   "cell_type": "code",
   "execution_count": null,
   "metadata": {},
   "outputs": [],
   "source": []
  }
 ],
 "metadata": {
  "kernelspec": {
   "display_name": "Python 2",
   "language": "python",
   "name": "python2"
  },
  "language_info": {
   "codemirror_mode": {
    "name": "ipython",
    "version": 2
   },
   "file_extension": ".py",
   "mimetype": "text/x-python",
   "name": "python",
   "nbconvert_exporter": "python",
   "pygments_lexer": "ipython2",
   "version": "2.7.6"
  }
 },
 "nbformat": 4,
 "nbformat_minor": 0
}
