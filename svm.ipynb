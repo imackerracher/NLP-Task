{
 "cells": [
  {
   "cell_type": "code",
   "execution_count": 1,
   "metadata": {},
   "outputs": [],
   "source": [
    "import pickle\n",
    "import re\n",
    "from nltk.tokenize import TweetTokenizer\n",
    "import numpy as np\n",
    "from sklearn import svm\n",
    "from sklearn import metrics\n",
    "from sklearn.feature_extraction.text import CountVectorizer\n",
    "from sklearn.model_selection import GridSearchCV \n"
   ]
  },
  {
   "cell_type": "code",
   "execution_count": 2,
   "metadata": {},
   "outputs": [],
   "source": [
    "\n",
    "train_set = np.asarray(pickle.load(open(\"train_set.p\", \"rb\")))\n",
    "test_set = np.asarray(pickle.load(open(\"test_set.p\", \"rb\")))\n"
   ]
  },
  {
   "cell_type": "code",
   "execution_count": 3,
   "metadata": {},
   "outputs": [],
   "source": [
    "y_train = train_set[:, 1].astype(np.int_)\n",
    "train = train_set[:, 0]\n",
    "\n",
    "y_test = test_set[:, 1].astype(np.int_)\n",
    "test = test_set[:, 0]\n"
   ]
  },
  {
   "cell_type": "code",
   "execution_count": 4,
   "metadata": {},
   "outputs": [],
   "source": [
    "def get_num_of_hashtags(data_set):\n",
    "    X = np.zeros((len(data_set), 1))\n",
    "    \n",
    "    for i, tweet in enumerate(data_set):\n",
    "        X[i, 0] = np.asarray(tweet.count(\"#\"))\n",
    "        \n",
    "    return X\n"
   ]
  },
  {
   "cell_type": "code",
   "execution_count": 5,
   "metadata": {},
   "outputs": [],
   "source": [
    "def get_num_of_mult_punctuation(data_set):\n",
    "    X = np.zeros((len(data_set), 1))\n",
    "\n",
    "    for i, tweet in enumerate(data_set):\n",
    "        X[i, 0] = len(re.findall(r\"[?!]{2,}\", tweet))\n",
    "        \n",
    "    return X\n",
    "\n"
   ]
  },
  {
   "cell_type": "code",
   "execution_count": 6,
   "metadata": {},
   "outputs": [],
   "source": [
    "# TODO: split for train and test and return vectorizer\n",
    "\n",
    "\n",
    "def get_ngram_vectors(train, test, method=\"word\", upper=3, lower=1):\n",
    "    vectorizer = CountVectorizer(ngram_range=(lower, upper), tokenizer=TweetTokenizer().tokenize, \n",
    "                                 analyzer=method)\n",
    "    train_vector = vectorizer.fit_transform(train)\n",
    "    test_vector = vectorizer.transform(test)\n",
    "\n",
    "    return np.asarray(train_vector.toarray()), np.asarray(test_vector.toarray())\n",
    "\n",
    "\n"
   ]
  },
  {
   "cell_type": "code",
   "execution_count": 7,
   "metadata": {},
   "outputs": [],
   "source": [
    "def extract_features(train, test):\n",
    "    word_ngram_upper_bound = 4\n",
    "    char_ngram_upper_bound = 5\n",
    "    char_ngram_lower_bound = 3\n",
    "    \n",
    "    train_word_vectors, test_word_vectors = get_ngram_vectors(\n",
    "        train, test, \"word\", word_ngram_upper_bound)\n",
    "    train_char_vectors, test_char_vectors = get_ngram_vectors(\n",
    "        train, test, \"char\", char_ngram_upper_bound, char_ngram_lower_bound)\n",
    "\n",
    "    train_features = np.concatenate([get_num_of_hashtags(train),\n",
    "                                     get_num_of_mult_punctuation(train),\n",
    "                                     train_word_vectors,\n",
    "                                     train_char_vectors], axis=1)\n",
    "\n",
    "    test_features = np.concatenate([get_num_of_hashtags(test),\n",
    "                                    get_num_of_mult_punctuation(test),\n",
    "                                    test_word_vectors,\n",
    "                                    test_char_vectors], axis=1)\n",
    "    \n",
    "    return train_features, test_features\n",
    "\n"
   ]
  },
  {
   "cell_type": "code",
   "execution_count": 8,
   "metadata": {},
   "outputs": [],
   "source": [
    "def transform_to_pos_neg(np_array):\n",
    "    np_array[np_array < 0] = -1\n",
    "    np_array[np_array > 0] = 1\n",
    "    \n",
    "    return np_array\n",
    "\n"
   ]
  },
  {
   "cell_type": "code",
   "execution_count": 9,
   "metadata": {},
   "outputs": [],
   "source": [
    "def evaluate_model(model, X, y):\n",
    "    prediction = model.predict(X)\n",
    "\n",
    "    acc = metrics.accuracy_score(y, prediction)\n",
    "    print(\"Accuracy:\", acc)\n",
    "\n",
    "    acc_interval = acc + metrics.accuracy_score(y + 1, prediction) \\\n",
    "                   + metrics.accuracy_score(y - 1, prediction)\n",
    "    print(\"Accuracy for small interval:\", acc_interval)  # Accuracy if predicted value is +-1\n",
    "\n",
    "    acc_dir = metrics.accuracy_score(transform_to_pos_neg(y), transform_to_pos_neg(prediction))\n",
    "    print(\"Accuracy for right direction:\", acc_dir)\n"
   ]
  },
  {
   "cell_type": "code",
   "execution_count": 10,
   "metadata": {},
   "outputs": [],
   "source": [
    "X_train, X_test = extract_features(train, test)\n"
   ]
  },
  {
   "cell_type": "markdown",
   "metadata": {},
   "source": [
    "## Training without Grid Search"
   ]
  },
  {
   "cell_type": "code",
   "execution_count": 11,
   "metadata": {},
   "outputs": [
    {
     "data": {
      "text/plain": [
       "LinearSVC(C=1.0, class_weight=None, dual=True, fit_intercept=True,\n     intercept_scaling=1, loss='squared_hinge', max_iter=1000,\n     multi_class='ovr', penalty='l2', random_state=None, tol=0.0001,\n     verbose=0)"
      ]
     },
     "execution_count": 11,
     "metadata": {},
     "output_type": "execute_result"
    }
   ],
   "source": [
    "# TODO: normalization? \n",
    "\n",
    "lin_svm = svm.LinearSVC()\n",
    "lin_svm.fit(X_train, y_train)"
   ]
  },
  {
   "cell_type": "code",
   "execution_count": 12,
   "metadata": {},
   "outputs": [
    {
     "name": "stdout",
     "output_type": "stream",
     "text": [
      "Accuracy: 0.285\nAccuracy for small interval: 0.54\nAccuracy for right direction: 0.495\n"
     ]
    }
   ],
   "source": [
    "evaluate_model(lin_svm, X_test, y_test)"
   ]
  },
  {
   "cell_type": "markdown",
   "metadata": {},
   "source": [
    "## Training with Grid Search"
   ]
  },
  {
   "cell_type": "code",
   "execution_count": 14,
   "metadata": {},
   "outputs": [
    {
     "name": "stdout",
     "output_type": "stream",
     "text": [
      "Fitting 5 folds for each of 5 candidates, totalling 25 fits\n[CV] C=0.001 .........................................................\n"
     ]
    },
    {
     "name": "stdout",
     "output_type": "stream",
     "text": [
      "[CV] .......................... C=0.001, score=0.309322, total=   1.0s\n[CV] C=0.001 .........................................................\n"
     ]
    },
    {
     "name": "stderr",
     "output_type": "stream",
     "text": [
      "[Parallel(n_jobs=1)]: Done   1 out of   1 | elapsed:    1.2s remaining:    0.0s\n"
     ]
    },
    {
     "name": "stdout",
     "output_type": "stream",
     "text": [
      "[CV] .......................... C=0.001, score=0.360169, total=   0.9s\n[CV] C=0.001 .........................................................\n"
     ]
    },
    {
     "name": "stderr",
     "output_type": "stream",
     "text": [
      "[Parallel(n_jobs=1)]: Done   2 out of   2 | elapsed:    2.3s remaining:    0.0s\n"
     ]
    },
    {
     "name": "stdout",
     "output_type": "stream",
     "text": [
      "[CV] .......................... C=0.001, score=0.340426, total=   0.9s\n[CV] C=0.001 .........................................................\n"
     ]
    },
    {
     "name": "stderr",
     "output_type": "stream",
     "text": [
      "[Parallel(n_jobs=1)]: Done   3 out of   3 | elapsed:    3.5s remaining:    0.0s\n"
     ]
    },
    {
     "name": "stdout",
     "output_type": "stream",
     "text": [
      "[CV] .......................... C=0.001, score=0.354701, total=   0.8s\n[CV] C=0.001 .........................................................\n"
     ]
    },
    {
     "name": "stderr",
     "output_type": "stream",
     "text": [
      "[Parallel(n_jobs=1)]: Done   4 out of   4 | elapsed:    4.6s remaining:    0.0s\n"
     ]
    },
    {
     "name": "stdout",
     "output_type": "stream",
     "text": [
      "[CV] .......................... C=0.001, score=0.334764, total=   0.9s\n[CV] C=0.01 ..........................................................\n"
     ]
    },
    {
     "name": "stderr",
     "output_type": "stream",
     "text": [
      "[Parallel(n_jobs=1)]: Done   5 out of   5 | elapsed:    5.8s remaining:    0.0s\n"
     ]
    },
    {
     "name": "stdout",
     "output_type": "stream",
     "text": [
      "[CV] ........................... C=0.01, score=0.296610, total=   1.3s\n[CV] C=0.01 ..........................................................\n"
     ]
    },
    {
     "name": "stderr",
     "output_type": "stream",
     "text": [
      "[Parallel(n_jobs=1)]: Done   6 out of   6 | elapsed:    7.3s remaining:    0.0s\n"
     ]
    },
    {
     "name": "stdout",
     "output_type": "stream",
     "text": [
      "[CV] ........................... C=0.01, score=0.381356, total=   1.2s\n[CV] C=0.01 ..........................................................\n"
     ]
    },
    {
     "name": "stderr",
     "output_type": "stream",
     "text": [
      "[Parallel(n_jobs=1)]: Done   7 out of   7 | elapsed:    8.8s remaining:    0.0s\n"
     ]
    },
    {
     "name": "stdout",
     "output_type": "stream",
     "text": [
      "[CV] ........................... C=0.01, score=0.331915, total=   1.2s\n[CV] C=0.01 ..........................................................\n"
     ]
    },
    {
     "name": "stderr",
     "output_type": "stream",
     "text": [
      "[Parallel(n_jobs=1)]: Done   8 out of   8 | elapsed:   10.3s remaining:    0.0s\n"
     ]
    }
   ],
   "source": [
    "cs = [0.001, 0.01, 0.1, 1, 10]\n",
    "grid = {'C': cs}\n",
    "\n",
    "grid_search = GridSearchCV(svm.LinearSVC(), grid, cv=5, verbose=10)\n",
    "grid_search.fit(X_train, y_train)\n",
    "print(grid_search.best_params_)"
   ]
  },
  {
   "cell_type": "code",
   "execution_count": 42,
   "metadata": {},
   "outputs": [
    {
     "data": {
      "text/plain": [
       "0.14499999999999999"
      ]
     },
     "execution_count": 42,
     "metadata": {},
     "output_type": "execute_result"
    }
   ],
   "source": [
    "evaluate_model(grid_search, X_test, y_test)\n"
   ]
  },
  {
   "cell_type": "code",
   "execution_count": null,
   "metadata": {},
   "outputs": [],
   "source": []
  }
 ],
 "metadata": {
  "kernelspec": {
   "display_name": "Python 2",
   "language": "python",
   "name": "python2"
  },
  "language_info": {
   "codemirror_mode": {
    "name": "ipython",
    "version": 2
   },
   "file_extension": ".py",
   "mimetype": "text/x-python",
   "name": "python",
   "nbconvert_exporter": "python",
   "pygments_lexer": "ipython2",
   "version": "2.7.6"
  }
 },
 "nbformat": 4,
 "nbformat_minor": 0
}
