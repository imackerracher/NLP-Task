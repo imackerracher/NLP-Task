{
 "cells": [
  {
   "cell_type": "code",
   "execution_count": 2,
   "metadata": {
    "collapsed": true
   },
   "outputs": [],
   "source": [
    "import csv\n",
    "import re\n",
    "import pickle\n"
   ]
  },
  {
   "cell_type": "code",
   "execution_count": 3,
   "metadata": {},
   "outputs": [],
   "source": [
    "def preprocess_tweets(tweets):\n",
    "    # lowercase all tweets\n",
    "    tweets = [[tweet[0].lower(), tweet[1]] for tweet in tweets]\n",
    "\n",
    "    # replace all users by @someuser\n",
    "    for i in range(0, len(tweets)):\n",
    "        tweets[i][0] = re.sub(r'(?<=^|(?<=[^a-zA-Z0-9-_\\.]))@([A-Za-z_]+[A-Za-z0-9_]+)',\n",
    "                              '@someuser',\n",
    "                              tweets[i][0])\n",
    "    return tweets\n"
   ]
  },
  {
   "cell_type": "markdown",
   "metadata": {},
   "source": [
    "## Possible further preprocessing\n",
    "\n",
    "- Several emoticons are replaced by the tokens <smile>, <sadface>, <lolface> or <neutralface>. (There are some libraries for this)\n",
    "- convert hastags into normal words but keep the hash, e.g. #funnytimes -> # funny times\n",
    "- Better splitting of the tweets when calculating document vectors (now only split a spaces)\n",
    "- remove stopwords"
   ]
  },
  {
   "cell_type": "code",
   "execution_count": 4,
   "metadata": {
    "collapsed": true
   },
   "outputs": [],
   "source": [
    "def create_datasets(filename):\n",
    "    tweets = []\n",
    "    \n",
    "    with open(filename) as csvfile:\n",
    "        reader = csv.reader(csvfile, delimiter='\\t')\n",
    "        for row in reader:\n",
    "            assert len(row) == 4\n",
    "            tweets.append([row[1], row[3].split(':')[0]])\n",
    "    \n",
    "    return preprocess_tweets(tweets)\n"
   ]
  },
  {
   "cell_type": "code",
   "execution_count": 5,
   "metadata": {},
   "outputs": [],
   "source": [
    "train_set = create_datasets('2018-Valence-oc-En-train.txt')\n",
    "test_set = create_datasets('2018-Valence-oc-En-dev.txt')\n",
    "\n",
    "pickle.dump(train_set, open(\"train_set.p\", \"wb\"))\n",
    "pickle.dump(test_set, open(\"test_set.p\", \"wb\"))\n"
   ]
  },
  {
   "cell_type": "code",
   "execution_count": null,
   "metadata": {},
   "outputs": [],
   "source": []
  },
  {
   "cell_type": "code",
   "execution_count": null,
   "metadata": {},
   "outputs": [],
   "source": []
  }
 ],
 "metadata": {
  "kernelspec": {
   "display_name": "Python 2",
   "language": "python",
   "name": "python2"
  },
  "language_info": {
   "codemirror_mode": {
    "name": "ipython",
    "version": 2
   },
   "file_extension": ".py",
   "mimetype": "text/x-python",
   "name": "python",
   "nbconvert_exporter": "python",
   "pygments_lexer": "ipython2",
   "version": "2.7.6"
  }
 },
 "nbformat": 4,
 "nbformat_minor": 0
}
