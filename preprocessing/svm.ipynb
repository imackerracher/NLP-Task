{
 "cells": [
  {
   "cell_type": "code",
   "execution_count": 2,
   "metadata": {},
   "outputs": [],
   "source": [
    "import pickle\n",
    "import re\n",
    "import numpy as np\n",
    "from nltk.tokenize import TweetTokenizer\n",
    "from sklearn import svm\n",
    "from sklearn import metrics\n",
    "from sklearn.model_selection import GridSearchCV\n",
    "from sklearn.feature_extraction.text import CountVectorizer\n",
    "from sklearn.feature_selection import SelectKBest\n",
    "from sklearn.feature_selection import chi2\n",
    "from sklearn.feature_selection import VarianceThreshold\n",
    "from sklearn.feature_selection import RFECV\n",
    "from nltk.data import load\n"
   ]
  },
  {
   "cell_type": "code",
   "execution_count": 5,
   "metadata": {},
   "outputs": [
    {
     "name": "stdout",
     "output_type": "stream",
     "text": [
      "(1181,) (449,)\n"
     ]
    }
   ],
   "source": [
    "train = np.asarray(pickle.load(open(\"train_set\", \"rb\")))\n",
    "test = np.asarray(pickle.load(open(\"test_set\", \"rb\")))\n",
    "\n",
    "print(train.shape, test.shape)"
   ]
  },
  {
   "cell_type": "code",
   "execution_count": 6,
   "metadata": {},
   "outputs": [],
   "source": [
    "# Extracting valence from the dataset\n",
    "\n",
    "y_train = np.asarray([int(tweet.valence) for tweet in train])\n",
    "y_test = np.asarray([int(tweet.valence) for tweet in test])\n"
   ]
  },
  {
   "cell_type": "markdown",
   "metadata": {},
   "source": [
    "## Feature Generation\n"
   ]
  },
  {
   "cell_type": "code",
   "execution_count": 7,
   "metadata": {},
   "outputs": [],
   "source": [
    "def get_num_of_hashtags(data_set):\n",
    "    # This oddly shape array is needed, because the features need to be in a column-like shape\n",
    "    X = np.zeros((len(data_set), 1))\n",
    "\n",
    "    for i, tweet in enumerate(data_set):\n",
    "        X[i, 0] = np.asarray(len(tweet.hashtags))\n",
    "\n",
    "    return X\n"
   ]
  },
  {
   "cell_type": "code",
   "execution_count": 8,
   "metadata": {},
   "outputs": [],
   "source": [
    "def get_num_of_mult_punctuation(data_set):\n",
    "    # multiple punctuation means sth. like ../!!!\n",
    "    X = np.zeros((len(data_set), 1))\n",
    "\n",
    "    for i, tweet in enumerate(data_set):\n",
    "        X[i, 0] = len(re.findall(r\"[?!]{2,}\", tweet.raw))\n",
    "        \n",
    "    return X\n"
   ]
  },
  {
   "cell_type": "code",
   "execution_count": 9,
   "metadata": {},
   "outputs": [],
   "source": [
    "def get_num_pos_tags(train, test):\n",
    "    # First find out which POS tags are possible\n",
    "    vocabulary = list(load('help/tagsets/upenn_tagset.pickle'))\n",
    "    pos_tags_train = [tweet.pos_tags for tweet in train]\n",
    "    pos_tags_test = [tweet.pos_tags for tweet in test]\n",
    "\n",
    "    # CountVectorizer is used to create a vector for each tweet. Each number in this vector \n",
    "    # represents the number of occurrences for a specific POS tag.\n",
    "    # All those vectors have the same length, which is needed to use them for the SVM.\n",
    "    vectorizer = CountVectorizer(vocabulary=vocabulary, tokenizer=lambda doc: doc, lowercase=False)\n",
    "\n",
    "    train_vector = vectorizer.transform(pos_tags_train)\n",
    "    test_vector = vectorizer.transform(pos_tags_test)\n",
    "   \n",
    "    return np.asarray(train_vector.toarray()), np.asarray(test_vector.toarray())\n",
    "\n"
   ]
  },
  {
   "cell_type": "code",
   "execution_count": 10,
   "metadata": {},
   "outputs": [],
   "source": [
    "def get_ngram_vectors(train, test, method=\"word\", upper=3, lower=1):\n",
    "    # This method either extracts word (method=\"word)\" or char ngrams (method=\"char\").\n",
    "    # Again, they need to be transformed into one hot encoded vectors\n",
    "    vectorizer = CountVectorizer(ngram_range=(lower, upper), tokenizer=TweetTokenizer().tokenize, \n",
    "                                 analyzer=method)\n",
    "    \n",
    "    raw_train = [tweet.raw for tweet in train]\n",
    "    raw_test = [tweet.raw for tweet in test]\n",
    "    \n",
    "    train_vector = vectorizer.fit_transform(raw_train)\n",
    "    test_vector = vectorizer.transform(raw_test)\n",
    "\n",
    "    return np.asarray(train_vector.toarray()), np.asarray(test_vector.toarray())\n"
   ]
  },
  {
   "cell_type": "code",
   "execution_count": 11,
   "metadata": {},
   "outputs": [],
   "source": [
    "def extract_features(train, test):\n",
    "    word_ngram_upper_bound = 4\n",
    "    char_ngram_upper_bound = 5\n",
    "    char_ngram_lower_bound = 3\n",
    "\n",
    "    pos_vec_train, pos_vec_test = get_num_pos_tags(train, test)\n",
    "    train_word_vectors, test_word_vectors = get_ngram_vectors(\n",
    "        train, test, \"word\", word_ngram_upper_bound)\n",
    "    train_char_vectors, test_char_vectors = get_ngram_vectors(\n",
    "        train, test, \"char\", char_ngram_upper_bound, char_ngram_lower_bound)\n",
    "\n",
    "    # Put all the features together. Each feature is represented as a column in the resulting array\n",
    "    train_features = np.concatenate([get_num_of_hashtags(train),\n",
    "                                     get_num_of_mult_punctuation(train),\n",
    "                                     pos_vec_train,\n",
    "                                     train_word_vectors,\n",
    "                                     train_char_vectors], axis=1)\n",
    "\n",
    "    test_features = np.concatenate([get_num_of_hashtags(test),\n",
    "                                    get_num_of_mult_punctuation(test),\n",
    "                                    test_word_vectors,\n",
    "                                    test_char_vectors,\n",
    "                                    pos_vec_test], axis=1)\n",
    "\n",
    "    return train_features, test_features\n"
   ]
  },
  {
   "cell_type": "code",
   "execution_count": 12,
   "metadata": {},
   "outputs": [],
   "source": [
    "X_train, X_test = extract_features(train, test)\n"
   ]
  },
  {
   "cell_type": "markdown",
   "metadata": {},
   "source": [
    "## Baseline"
   ]
  },
  {
   "cell_type": "code",
   "execution_count": 13,
   "metadata": {},
   "outputs": [],
   "source": [
    "def transform_to_pos_neg(np_array):\n",
    "    np_array[np_array < 0] = -1\n",
    "    np_array[np_array > 0] = 1\n",
    "    \n",
    "    return np_array\n"
   ]
  },
  {
   "cell_type": "code",
   "execution_count": 14,
   "metadata": {},
   "outputs": [],
   "source": [
    "def evaluate_model(model, X, y):\n",
    "    # To make sure that the original y is not modified when applying the transform_to... function\n",
    "    y_copy = np.copy(y)  \n",
    "    prediction = model.predict(X)\n",
    "\n",
    "    acc = metrics.accuracy_score(y, prediction)\n",
    "    print(\"Accuracy:\", acc)\n",
    "\n",
    "    # Accuracy if predicted value is +-1\n",
    "    acc_interval = acc + metrics.accuracy_score(y_copy + 1, prediction) \\\n",
    "                   + metrics.accuracy_score(y_copy - 1, prediction)\n",
    "    print(\"Accuracy for small interval:\", acc_interval)\n",
    "\n",
    "    # checks if at least the predicted direction is the right one\n",
    "    acc_dir = metrics.accuracy_score(transform_to_pos_neg(y_copy), transform_to_pos_neg(prediction))\n",
    "    print(\"Accuracy for right direction:\", acc_dir, \"\\n\")\n"
   ]
  },
  {
   "cell_type": "code",
   "execution_count": 15,
   "metadata": {},
   "outputs": [],
   "source": [
    "def fit_and_eval_svm(X_train, y_train, X_test, y_test):\n",
    "    lin_svm = svm.LinearSVC()\n",
    "    lin_svm.fit(X_train, y_train)\n",
    "    evaluate_model(lin_svm, X_test, y_test)\n"
   ]
  },
  {
   "cell_type": "code",
   "execution_count": 16,
   "metadata": {
    "collapsed": true
   },
   "outputs": [
    {
     "name": "stdout",
     "output_type": "stream",
     "text": [
      "Accuracy: 0.224944320713\nAccuracy for small interval: 0.445434298441\nAccuracy for right direction: 0.412026726058 \n\n"
     ]
    }
   ],
   "source": [
    "fit_and_eval_svm(X_train, y_train, X_test, y_test)"
   ]
  },
  {
   "cell_type": "markdown",
   "metadata": {},
   "source": [
    "## Training with Grid Search"
   ]
  },
  {
   "cell_type": "code",
   "execution_count": 18,
   "metadata": {
    "collapsed": false
   },
   "outputs": [
    {
     "name": "stdout",
     "output_type": "stream",
     "text": [
      "Fitting 5 folds for each of 5 candidates, totalling 25 fits\n[CV] C=0.001 .........................................................\n"
     ]
    },
    {
     "name": "stdout",
     "output_type": "stream",
     "text": [
      "[CV] .......................... C=0.001, score=0.338983, total=   1.3s\n[CV] C=0.001 .........................................................\n"
     ]
    },
    {
     "name": "stderr",
     "output_type": "stream",
     "text": [
      "[Parallel(n_jobs=1)]: Done   1 out of   1 | elapsed:    1.7s remaining:    0.0s\n"
     ]
    },
    {
     "name": "stdout",
     "output_type": "stream",
     "text": [
      "[CV] .......................... C=0.001, score=0.372881, total=   1.3s\n[CV] C=0.001 .........................................................\n"
     ]
    },
    {
     "name": "stderr",
     "output_type": "stream",
     "text": [
      "[Parallel(n_jobs=1)]: Done   2 out of   2 | elapsed:    3.4s remaining:    0.0s\n"
     ]
    },
    {
     "name": "stdout",
     "output_type": "stream",
     "text": [
      "[CV] .......................... C=0.001, score=0.323404, total=   1.1s\n[CV] C=0.001 .........................................................\n"
     ]
    },
    {
     "name": "stderr",
     "output_type": "stream",
     "text": [
      "[Parallel(n_jobs=1)]: Done   3 out of   3 | elapsed:    4.9s remaining:    0.0s\n"
     ]
    },
    {
     "name": "stdout",
     "output_type": "stream",
     "text": [
      "[CV] .......................... C=0.001, score=0.350427, total=   1.1s\n[CV] C=0.001 .........................................................\n"
     ]
    },
    {
     "name": "stderr",
     "output_type": "stream",
     "text": [
      "[Parallel(n_jobs=1)]: Done   4 out of   4 | elapsed:    6.3s remaining:    0.0s\n"
     ]
    },
    {
     "name": "stdout",
     "output_type": "stream",
     "text": [
      "[CV] .......................... C=0.001, score=0.313305, total=   0.8s\n[CV] C=0.01 ..........................................................\n"
     ]
    },
    {
     "name": "stderr",
     "output_type": "stream",
     "text": [
      "[Parallel(n_jobs=1)]: Done   5 out of   5 | elapsed:    7.4s remaining:    0.0s\n"
     ]
    },
    {
     "name": "stdout",
     "output_type": "stream",
     "text": [
      "[CV] ........................... C=0.01, score=0.313559, total=   1.1s\n[CV] C=0.01 ..........................................................\n"
     ]
    },
    {
     "name": "stderr",
     "output_type": "stream",
     "text": [
      "[Parallel(n_jobs=1)]: Done   6 out of   6 | elapsed:    8.7s remaining:    0.0s\n"
     ]
    },
    {
     "name": "stdout",
     "output_type": "stream",
     "text": [
      "[CV] ........................... C=0.01, score=0.322034, total=   1.0s\n[CV] C=0.01 ..........................................................\n"
     ]
    },
    {
     "name": "stderr",
     "output_type": "stream",
     "text": [
      "[Parallel(n_jobs=1)]: Done   7 out of   7 | elapsed:   10.0s remaining:    0.0s\n"
     ]
    },
    {
     "name": "stdout",
     "output_type": "stream",
     "text": [
      "[CV] ........................... C=0.01, score=0.344681, total=   1.1s\n[CV] C=0.01 ..........................................................\n"
     ]
    },
    {
     "name": "stderr",
     "output_type": "stream",
     "text": [
      "[Parallel(n_jobs=1)]: Done   8 out of   8 | elapsed:   11.4s remaining:    0.0s\n"
     ]
    },
    {
     "name": "stdout",
     "output_type": "stream",
     "text": [
      "[CV] ........................... C=0.01, score=0.333333, total=   1.1s\n[CV] C=0.01 ..........................................................\n"
     ]
    },
    {
     "name": "stderr",
     "output_type": "stream",
     "text": [
      "[Parallel(n_jobs=1)]: Done   9 out of   9 | elapsed:   12.8s remaining:    0.0s\n"
     ]
    },
    {
     "name": "stdout",
     "output_type": "stream",
     "text": [
      "[CV] ........................... C=0.01, score=0.296137, total=   1.1s\n[CV] C=0.1 ...........................................................\n"
     ]
    },
    {
     "name": "stdout",
     "output_type": "stream",
     "text": [
      "[CV] ............................ C=0.1, score=0.300847, total=   2.1s\n[CV] C=0.1 ...........................................................\n"
     ]
    },
    {
     "name": "stdout",
     "output_type": "stream",
     "text": [
      "[CV] ............................ C=0.1, score=0.313559, total=   1.8s\n[CV] C=0.1 ...........................................................\n"
     ]
    },
    {
     "name": "stdout",
     "output_type": "stream",
     "text": [
      "[CV] ............................ C=0.1, score=0.327660, total=   3.1s\n[CV] C=0.1 ...........................................................\n"
     ]
    },
    {
     "name": "stdout",
     "output_type": "stream",
     "text": [
      "[CV] ............................ C=0.1, score=0.316239, total=   2.1s\n[CV] C=0.1 ...........................................................\n"
     ]
    },
    {
     "name": "stdout",
     "output_type": "stream",
     "text": [
      "[CV] ............................ C=0.1, score=0.287554, total=   1.9s\n[CV] C=1 .............................................................\n"
     ]
    },
    {
     "name": "stdout",
     "output_type": "stream",
     "text": [
      "[CV] .............................. C=1, score=0.313559, total=   2.8s\n[CV] C=1 .............................................................\n"
     ]
    },
    {
     "name": "stdout",
     "output_type": "stream",
     "text": [
      "[CV] .............................. C=1, score=0.322034, total=   2.5s\n[CV] C=1 .............................................................\n"
     ]
    },
    {
     "name": "stdout",
     "output_type": "stream",
     "text": [
      "[CV] .............................. C=1, score=0.323404, total=   3.1s\n[CV] C=1 .............................................................\n"
     ]
    },
    {
     "name": "stdout",
     "output_type": "stream",
     "text": [
      "[CV] .............................. C=1, score=0.307692, total=   2.5s\n[CV] C=1 .............................................................\n"
     ]
    },
    {
     "name": "stdout",
     "output_type": "stream",
     "text": [
      "[CV] .............................. C=1, score=0.278970, total=   2.6s\n[CV] C=10 ............................................................\n"
     ]
    },
    {
     "name": "stdout",
     "output_type": "stream",
     "text": [
      "[CV] ............................. C=10, score=0.313559, total=   3.0s\n[CV] C=10 ............................................................\n"
     ]
    },
    {
     "name": "stdout",
     "output_type": "stream",
     "text": [
      "[CV] ............................. C=10, score=0.317797, total=   2.8s\n[CV] C=10 ............................................................\n"
     ]
    },
    {
     "name": "stdout",
     "output_type": "stream",
     "text": [
      "[CV] ............................. C=10, score=0.323404, total=   3.4s\n[CV] C=10 ............................................................\n"
     ]
    },
    {
     "name": "stdout",
     "output_type": "stream",
     "text": [
      "[CV] ............................. C=10, score=0.303419, total=   2.8s\n[CV] C=10 ............................................................\n"
     ]
    },
    {
     "name": "stdout",
     "output_type": "stream",
     "text": [
      "[CV] ............................. C=10, score=0.283262, total=   2.9s\n"
     ]
    },
    {
     "name": "stderr",
     "output_type": "stream",
     "text": [
      "[Parallel(n_jobs=1)]: Done  25 out of  25 | elapsed:   58.2s finished\n"
     ]
    },
    {
     "name": "stdout",
     "output_type": "stream",
     "text": [
      "{'C': 0.001}\nAccuracy: 0.185\nAccuracy for small interval: 0.375\nAccuracy for right direction: 0.415 \n\n"
     ]
    }
   ],
   "source": [
    "# Determining the hyperparameter C through grid search with cross validation\n",
    "cs = [0.001, 0.01, 0.1, 1, 10]\n",
    "grid = {'C': cs}\n",
    "\n",
    "grid_search = GridSearchCV(svm.LinearSVC(), grid, cv=5, verbose=10)\n",
    "grid_search.fit(X_train, y_train)\n",
    "print(grid_search.best_params_)\n",
    "evaluate_model(grid_search, X_test, y_test)\n"
   ]
  },
  {
   "cell_type": "markdown",
   "metadata": {},
   "source": [
    "## Feature Selection\n"
   ]
  },
  {
   "cell_type": "markdown",
   "metadata": {},
   "source": [
    "### Variance Threshold"
   ]
  },
  {
   "cell_type": "code",
   "execution_count": 19,
   "metadata": {
    "collapsed": true
   },
   "outputs": [
    {
     "name": "stdout",
     "output_type": "stream",
     "text": [
      "Threshhold: 0\n"
     ]
    },
    {
     "name": "stdout",
     "output_type": "stream",
     "text": [
      "Accuracy: 0.225\nAccuracy for small interval: 0.465\nAccuracy for right direction: 0.41 \n\n"
     ]
    },
    {
     "name": "stdout",
     "output_type": "stream",
     "text": [
      "Threshhold: 0.01\n"
     ]
    },
    {
     "name": "stdout",
     "output_type": "stream",
     "text": [
      "Accuracy: 0.175\nAccuracy for small interval: 0.41\nAccuracy for right direction: 0.33 \n\n"
     ]
    },
    {
     "name": "stdout",
     "output_type": "stream",
     "text": [
      "Threshhold: 0.05\n"
     ]
    },
    {
     "name": "stdout",
     "output_type": "stream",
     "text": [
      "Accuracy: 0.135\nAccuracy for small interval: 0.425\nAccuracy for right direction: 0.335 \n\n"
     ]
    },
    {
     "name": "stdout",
     "output_type": "stream",
     "text": [
      "Threshhold: 0.1\n"
     ]
    },
    {
     "name": "stdout",
     "output_type": "stream",
     "text": [
      "Accuracy: 0.155\nAccuracy for small interval: 0.36\nAccuracy for right direction: 0.36 \n\n"
     ]
    },
    {
     "name": "stdout",
     "output_type": "stream",
     "text": [
      "Threshhold: 0.5\n"
     ]
    },
    {
     "name": "stdout",
     "output_type": "stream",
     "text": [
      "Accuracy: 0.195\nAccuracy for small interval: 0.41\nAccuracy for right direction: 0.235 \n\n"
     ]
    }
   ],
   "source": [
    "# Variance threshold removes all the features which variance is smaller than a certain percentage\n",
    "thresholds = [0, 0.01, 0.05, 0.1, 0.5]\n",
    "\n",
    "for threshold in thresholds:\n",
    "    variance_selector = VarianceThreshold(threshold)\n",
    "    X_train_selected = variance_selector.fit_transform(X_train)\n",
    "    X_test_selected = variance_selector.transform(X_test)\n",
    "\n",
    "    print(\"Threshhold:\", threshold)\n",
    "    fit_and_eval_svm(X_train_selected, y_train, X_test_selected, y_test)\n"
   ]
  },
  {
   "cell_type": "markdown",
   "metadata": {},
   "source": [
    "### Selection of kBest"
   ]
  },
  {
   "cell_type": "code",
   "execution_count": 20,
   "metadata": {
    "collapsed": false
   },
   "outputs": [
    {
     "name": "stdout",
     "output_type": "stream",
     "text": [
      "k: 10\n"
     ]
    },
    {
     "name": "stdout",
     "output_type": "stream",
     "text": [
      "Accuracy: 0.215\nAccuracy for small interval: 0.44\nAccuracy for right direction: 0.22 \n\n"
     ]
    },
    {
     "name": "stdout",
     "output_type": "stream",
     "text": [
      "k: 50\n"
     ]
    },
    {
     "name": "stdout",
     "output_type": "stream",
     "text": [
      "Accuracy: 0.19\nAccuracy for small interval: 0.405\nAccuracy for right direction: 0.2 \n\n"
     ]
    },
    {
     "name": "stdout",
     "output_type": "stream",
     "text": [
      "k: 100\n"
     ]
    },
    {
     "name": "stdout",
     "output_type": "stream",
     "text": [
      "Accuracy: 0.21\nAccuracy for small interval: 0.445\nAccuracy for right direction: 0.235 \n\n"
     ]
    },
    {
     "name": "stdout",
     "output_type": "stream",
     "text": [
      "k: 200\n"
     ]
    },
    {
     "name": "stdout",
     "output_type": "stream",
     "text": [
      "Accuracy: 0.195\nAccuracy for small interval: 0.44\nAccuracy for right direction: 0.27 \n\n"
     ]
    },
    {
     "name": "stdout",
     "output_type": "stream",
     "text": [
      "k: 500\n"
     ]
    },
    {
     "name": "stdout",
     "output_type": "stream",
     "text": [
      "Accuracy: 0.195\nAccuracy for small interval: 0.425\nAccuracy for right direction: 0.28 \n\n"
     ]
    },
    {
     "name": "stdout",
     "output_type": "stream",
     "text": [
      "k: 1000\n"
     ]
    },
    {
     "name": "stdout",
     "output_type": "stream",
     "text": [
      "Accuracy: 0.22\nAccuracy for small interval: 0.47\nAccuracy for right direction: 0.32 \n\n"
     ]
    },
    {
     "name": "stdout",
     "output_type": "stream",
     "text": [
      "k: 5000\n"
     ]
    },
    {
     "name": "stdout",
     "output_type": "stream",
     "text": [
      "Accuracy: 0.22\nAccuracy for small interval: 0.47\nAccuracy for right direction: 0.345 \n\n"
     ]
    }
   ],
   "source": [
    "# Uses chi square to find significance of features and only selects the top k features\n",
    "ks = [10, 50, 100, 200, 500, 1000, 5000]\n",
    "\n",
    "for k in ks:\n",
    "    kbest_selector = SelectKBest(chi2, k=k)\n",
    "    X_train_selected = kbest_selector.fit_transform(X_train, y_train)\n",
    "    X_test_selected = kbest_selector.transform(X_test)\n",
    "    \n",
    "    print(\"k:\", k)\n",
    "    fit_and_eval_svm(X_train_selected, y_train, X_test_selected, y_test)\n"
   ]
  },
  {
   "cell_type": "markdown",
   "metadata": {},
   "source": [
    "### Recursive Feature Elimination with Cross Validation\n"
   ]
  },
  {
   "cell_type": "code",
   "execution_count": 22,
   "metadata": {
    "collapsed": true
   },
   "outputs": [
    {
     "name": "stdout",
     "output_type": "stream",
     "text": [
      "Fitting estimator with 121131 features.\n"
     ]
    },
    {
     "name": "stdout",
     "output_type": "stream",
     "text": [
      "Fitting estimator with 120631 features."
     ]
    },
    {
     "name": "stdout",
     "output_type": "stream",
     "text": [
      "\nFitting estimator with 120131 features.\n"
     ]
    },
    {
     "name": "stdout",
     "output_type": "stream",
     "text": [
      "Fitting estimator with 119631 features.\n"
     ]
    },
    {
     "name": "stdout",
     "output_type": "stream",
     "text": [
      "Fitting estimator with 119131 features.\n"
     ]
    },
    {
     "name": "stdout",
     "output_type": "stream",
     "text": [
      "Fitting estimator with 118631 features.\n"
     ]
    },
    {
     "name": "stdout",
     "output_type": "stream",
     "text": [
      "Fitting estimator with 118131 features.\n"
     ]
    },
    {
     "name": "stdout",
     "output_type": "stream",
     "text": [
      "Fitting estimator with 117631 features.\n"
     ]
    },
    {
     "name": "stdout",
     "output_type": "stream",
     "text": [
      "Fitting estimator with 117131 features.\n"
     ]
    },
    {
     "name": "stdout",
     "output_type": "stream",
     "text": [
      "Fitting estimator with 116631 features.\n"
     ]
    },
    {
     "name": "stdout",
     "output_type": "stream",
     "text": [
      "Fitting estimator with 116131 features.\n"
     ]
    },
    {
     "name": "stdout",
     "output_type": "stream",
     "text": [
      "Fitting estimator with 115631 features.\n"
     ]
    },
    {
     "name": "stderr",
     "output_type": "stream",
     "text": [
      "ERROR:root:Internal Python error in the inspect module.\nBelow is the traceback from this internal error.\n\n"
     ]
    },
    {
     "name": "stdout",
     "output_type": "stream",
     "text": [
      "Traceback (most recent call last):\n  File \"/home/hendaet/anaconda3/lib/python3.6/site-packages/IPython/core/interactiveshell.py\", line 2881, in run_code\n    exec(code_obj, self.user_global_ns, self.user_ns)\n  File \"<ipython-input-22-1adb49fe5d6d>\", line 4, in <module>\n    selector.fit(X_train, y_train)\n  File \"/home/hendaet/anaconda3/lib/python3.6/site-packages/sklearn/feature_selection/rfe.py\", line 430, in fit\n    for train, test in cv.split(X, y))\n"
     ]
    },
    {
     "name": "stdout",
     "output_type": "stream",
     "text": [
      "  File \"/home/hendaet/anaconda3/lib/python3.6/site-packages/sklearn/feature_selection/rfe.py\", line 430, in <genexpr>\n    for train, test in cv.split(X, y))\n  File \"/home/hendaet/anaconda3/lib/python3.6/site-packages/sklearn/feature_selection/rfe.py\", line 30, in _rfe_single_fit\n    X_train, y_train, lambda estimator, features:\n  File \"/home/hendaet/anaconda3/lib/python3.6/site-packages/sklearn/feature_selection/rfe.py\", line 169, in _fit\n    estimator.fit(X[:, features], y)\n  File \"/home/hendaet/anaconda3/lib/python3.6/site-packages/sklearn/svm/classes.py\", line 207, in fit\n    dtype=np.float64, order=\"C\")\n  File \"/home/hendaet/anaconda3/lib/python3.6/site-packages/sklearn/utils/validation.py\", line 521, in check_X_y\n    ensure_min_features, warn_on_dtype, estimator)\n  File \"/home/hendaet/anaconda3/lib/python3.6/site-packages/sklearn/utils/validation.py\", line 382, in check_array\n    array = np.array(array, dtype=dtype, order=order, copy=copy)\nKeyboardInterrupt\n\nDuring handling of the above exception, another exception occurred:\n\nTraceback (most recent call last):\n  File \"/home/hendaet/anaconda3/lib/python3.6/site-packages/IPython/core/interactiveshell.py\", line 1821, in showtraceback\n    stb = value._render_traceback_()\nAttributeError: 'KeyboardInterrupt' object has no attribute '_render_traceback_'\n\nDuring handling of the above exception, another exception occurred:\n\nTraceback (most recent call last):\n  File \"/home/hendaet/anaconda3/lib/python3.6/site-packages/IPython/core/ultratb.py\", line 1132, in get_records\n    return _fixed_getinnerframes(etb, number_of_lines_of_context, tb_offset)\n  File \"/home/hendaet/anaconda3/lib/python3.6/site-packages/IPython/core/ultratb.py\", line 313, in wrapped\n    return f(*args, **kwargs)\n  File \"/home/hendaet/anaconda3/lib/python3.6/site-packages/IPython/core/ultratb.py\", line 358, in _fixed_getinnerframes\n    records = fix_frame_records_filenames(inspect.getinnerframes(etb, context))\n  File \"/home/hendaet/anaconda3/lib/python3.6/inspect.py\", line 1453, in getinnerframes\n    frameinfo = (tb.tb_frame,) + getframeinfo(tb, context)\n  File \"/home/hendaet/anaconda3/lib/python3.6/inspect.py\", line 1411, in getframeinfo\n    filename = getsourcefile(frame) or getfile(frame)\n  File \"/home/hendaet/anaconda3/lib/python3.6/inspect.py\", line 666, in getsourcefile\n    if getattr(getmodule(object, filename), '__loader__', None) is not None:\n  File \"/home/hendaet/anaconda3/lib/python3.6/inspect.py\", line 702, in getmodule\n    for modname, module in list(sys.modules.items()):\nKeyboardInterrupt\n"
     ]
    },
    {
     "ename": "KeyboardInterrupt",
     "evalue": "",
     "traceback": [
      "\u001b[0;31m---------------------------------------------------------------------------\u001b[0m"
     ],
     "output_type": "error"
    }
   ],
   "source": [
    "# Another form of feature selection\n",
    "\n",
    "selector = RFECV(svm.LinearSVC(), step=500, cv=5, verbose=10)\n",
    "selector.fit(X_train, y_train)\n",
    "evaluate_model(selector, X_test, y_test)\n"
   ]
  },
  {
   "cell_type": "markdown",
   "metadata": {},
   "source": [
    "## Naive Bayes (comparison)"
   ]
  },
  {
   "cell_type": "code",
   "execution_count": 18,
   "metadata": {},
   "outputs": [
    {
     "name": "stdout",
     "output_type": "stream",
     "text": [
      "Accuracy: 0.216035634744\nAccuracy for small interval: 0.412026726058\nAccuracy for right direction: 0.293986636971 \n\n"
     ]
    }
   ],
   "source": [
    "from sklearn.naive_bayes import GaussianNB\n",
    "\n",
    "gnb = GaussianNB()\n",
    "gnb.fit(X_train, y_train)\n",
    "evaluate_model(gnb, X_test, y_test)"
   ]
  },
  {
   "cell_type": "code",
   "execution_count": 19,
   "metadata": {},
   "outputs": [
    {
     "name": "stdout",
     "output_type": "stream",
     "text": [
      "Accuracy: 0.102449888641\nAccuracy for small interval: 0.407572383073\nAccuracy for right direction: 0.43429844098 \n\n"
     ]
    }
   ],
   "source": [
    "from sklearn.naive_bayes import MultinomialNB \n",
    "\n",
    "mnb = MultinomialNB()\n",
    "mnb.fit(X_train, y_train)\n",
    "evaluate_model(mnb, X_test, y_test)\n"
   ]
  },
  {
   "cell_type": "code",
   "execution_count": 20,
   "metadata": {},
   "outputs": [
    {
     "name": "stdout",
     "output_type": "stream",
     "text": [
      "Accuracy: 0.233853006682\nAccuracy for small interval: 0.438752783964\nAccuracy for right direction: 0.233853006682 \n\n"
     ]
    }
   ],
   "source": [
    "from sklearn.svm import SVC\n",
    "\n",
    "svm = SVC()\n",
    "svm.fit(X_train, y_train)\n",
    "evaluate_model(svm, X_test, y_test)"
   ]
  },
  {
   "cell_type": "code",
   "execution_count": null,
   "metadata": {},
   "outputs": [],
   "source": []
  }
 ],
 "metadata": {
  "kernelspec": {
   "display_name": "Python 2",
   "language": "python",
   "name": "python2"
  },
  "language_info": {
   "codemirror_mode": {
    "name": "ipython",
    "version": 2
   },
   "file_extension": ".py",
   "mimetype": "text/x-python",
   "name": "python",
   "nbconvert_exporter": "python",
   "pygments_lexer": "ipython2",
   "version": "2.7.6"
  }
 },
 "nbformat": 4,
 "nbformat_minor": 0
}
