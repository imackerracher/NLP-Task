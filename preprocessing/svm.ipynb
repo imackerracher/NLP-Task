{
 "cells": [
  {
   "cell_type": "code",
   "execution_count": 21,
   "metadata": {
    "collapsed": true
   },
   "outputs": [],
   "source": [
    "import pickle\n",
    "import re\n",
    "import numpy as np\n",
    "from nltk.tokenize import TweetTokenizer\n",
    "from sklearn import svm\n",
    "from sklearn import metrics\n",
    "from sklearn.model_selection import GridSearchCV\n",
    "from sklearn.feature_extraction.text import CountVectorizer\n",
    "from sklearn.feature_selection import SelectKBest\n",
    "from sklearn.feature_selection import chi2\n",
    "from sklearn.feature_selection import VarianceThreshold\n",
    "from sklearn.feature_selection import RFECV\n",
    "from sklearn.svm import SVC\n",
    "from sklearn.metrics import classification_report\n",
    "\n",
    "from nltk.data import load\n",
    "from collections import Counter\n"
   ]
  },
  {
   "cell_type": "code",
   "execution_count": 2,
   "metadata": {},
   "outputs": [
    {
     "name": "stdout",
     "output_type": "stream",
     "text": [
      "(1181,) (449,)\n"
     ]
    }
   ],
   "source": [
    "train = np.asarray(pickle.load(open(\"train_set\", \"rb\")))\n",
    "test = np.asarray(pickle.load(open(\"test_set\", \"rb\")))\n",
    "\n",
    "print(train.shape, test.shape)"
   ]
  },
  {
   "cell_type": "code",
   "execution_count": 3,
   "metadata": {
    "collapsed": true
   },
   "outputs": [],
   "source": [
    "# Extracting valence from the dataset\n",
    "\n",
    "y_train = np.asarray([int(tweet.valence) for tweet in train])\n",
    "y_test = np.asarray([int(tweet.valence) for tweet in test])\n"
   ]
  },
  {
   "cell_type": "markdown",
   "metadata": {},
   "source": [
    "## Feature Generation\n"
   ]
  },
  {
   "cell_type": "code",
   "execution_count": 4,
   "metadata": {
    "collapsed": true
   },
   "outputs": [],
   "source": [
    "def get_num_of_hashtags(data_set):\n",
    "    # This oddly shape array is needed, because the features need to be in a column-like shape\n",
    "    X = np.zeros((len(data_set), 1))\n",
    "\n",
    "    for i, tweet in enumerate(data_set):\n",
    "        X[i, 0] = np.asarray(len(tweet.hashtags))\n",
    "\n",
    "    return X\n"
   ]
  },
  {
   "cell_type": "code",
   "execution_count": 5,
   "metadata": {
    "collapsed": true
   },
   "outputs": [],
   "source": [
    "def get_num_of_mult_punctuation(data_set):\n",
    "    # multiple punctuation means sth. like ../!!!\n",
    "    X = np.zeros((len(data_set), 1))\n",
    "\n",
    "    for i, tweet in enumerate(data_set):\n",
    "        X[i, 0] = len(re.findall(r\"[?!]{2,}\", tweet.raw))\n",
    "        \n",
    "    return X\n"
   ]
  },
  {
   "cell_type": "code",
   "execution_count": 6,
   "metadata": {
    "collapsed": true
   },
   "outputs": [],
   "source": [
    "def get_num_pos_tags(train, test):\n",
    "    # First find out which POS tags are possible\n",
    "    vocabulary = list(load('help/tagsets/upenn_tagset.pickle'))\n",
    "    pos_tags_train = [tweet.pos_tags for tweet in train]\n",
    "    pos_tags_test = [tweet.pos_tags for tweet in test]\n",
    "\n",
    "    # CountVectorizer is used to create a vector for each tweet. Each number in this vector \n",
    "    # represents the number of occurrences for a specific POS tag.\n",
    "    # All those vectors have the same length, which is needed to use them for the SVM.\n",
    "    vectorizer = CountVectorizer(vocabulary=vocabulary, tokenizer=lambda doc: doc, lowercase=False)\n",
    "\n",
    "    train_vector = vectorizer.transform(pos_tags_train)\n",
    "    test_vector = vectorizer.transform(pos_tags_test)\n",
    "   \n",
    "    return np.asarray(train_vector.toarray()), np.asarray(test_vector.toarray())\n",
    "\n"
   ]
  },
  {
   "cell_type": "code",
   "execution_count": 7,
   "metadata": {
    "collapsed": true
   },
   "outputs": [],
   "source": [
    "def get_ngram_vectors(train, test, method=\"word\", upper=3, lower=1):\n",
    "    # This method either extracts word (method=\"word)\" or char ngrams (method=\"char\").\n",
    "    # Again, they need to be transformed into one hot encoded vectors\n",
    "    vectorizer = CountVectorizer(ngram_range=(lower, upper), tokenizer=TweetTokenizer().tokenize, \n",
    "                                 analyzer=method)\n",
    "    \n",
    "    raw_train = [tweet.raw for tweet in train]\n",
    "    raw_test = [tweet.raw for tweet in test]\n",
    "    \n",
    "    train_vector = vectorizer.fit_transform(raw_train)\n",
    "    test_vector = vectorizer.transform(raw_test)\n",
    "\n",
    "    return np.asarray(train_vector.toarray()), np.asarray(test_vector.toarray())\n"
   ]
  },
  {
   "cell_type": "code",
   "execution_count": 19,
   "metadata": {
    "collapsed": true
   },
   "outputs": [],
   "source": [
    "from sklearn.preprocessing import normalize\n",
    "\n",
    "def extract_features(train, test):\n",
    "    word_ngram_upper_bound = 4\n",
    "    char_ngram_upper_bound = 5\n",
    "    char_ngram_lower_bound = 3\n",
    "\n",
    "    pos_vec_train, pos_vec_test = get_num_pos_tags(train, test)\n",
    "    train_word_vectors, test_word_vectors = get_ngram_vectors(\n",
    "        train, test, \"word\", word_ngram_upper_bound)\n",
    "    train_char_vectors, test_char_vectors = get_ngram_vectors(\n",
    "        train, test, \"char\", char_ngram_upper_bound, char_ngram_lower_bound)\n",
    "    \n",
    "    print(pos_vec_train.shape, train_word_vectors.shape, train_char_vectors.shape)\n",
    "\n",
    "    # Put all the features together. Each feature is represented as a column in the resulting array\n",
    "    train_features = np.concatenate([get_num_of_hashtags(train),\n",
    "                                     get_num_of_mult_punctuation(train),\n",
    "                                     pos_vec_train,\n",
    "                                     train_word_vectors,\n",
    "                                     train_char_vectors], axis=1)\n",
    "\n",
    "    test_features = np.concatenate([get_num_of_hashtags(test),\n",
    "                                    get_num_of_mult_punctuation(test),\n",
    "                                    test_word_vectors,\n",
    "                                    test_char_vectors,\n",
    "                                    pos_vec_test], axis=1)\n",
    "\n",
    "    return normalize(train_features), normalize(test_features)\n"
   ]
  },
  {
   "cell_type": "code",
   "execution_count": 20,
   "metadata": {},
   "outputs": [
    {
     "name": "stdout",
     "output_type": "stream",
     "text": [
      "(1181, 45) (1181, 41531) (1181, 79875)\n"
     ]
    }
   ],
   "source": [
    "X_train, X_test = extract_features(train, test)\n"
   ]
  },
  {
   "cell_type": "markdown",
   "metadata": {},
   "source": [
    "## Baseline"
   ]
  },
  {
   "cell_type": "code",
   "execution_count": 10,
   "metadata": {
    "collapsed": true
   },
   "outputs": [],
   "source": [
    "def transform_to_pos_neg(np_array):\n",
    "    np_array[np_array < 0] = -1\n",
    "    np_array[np_array > 0] = 1\n",
    "    \n",
    "    return np_array\n"
   ]
  },
  {
   "cell_type": "code",
   "execution_count": 11,
   "metadata": {
    "collapsed": true
   },
   "outputs": [],
   "source": [
    "from collections import Counter\n",
    "from sklearn.metrics import precision_recall_fscore_support\n",
    "from sklearn.metrics import f1_score\n",
    "from sklearn.metrics import precision_score\n",
    "from sklearn.metrics import recall_score\n",
    "\n",
    "results = []\n",
    "\n",
    "def evaluate_model(model, X, y):\n",
    "    # To make sure that the original y is not modified when applying the transform_to... function\n",
    "    y_copy = np.copy(y)  \n",
    "    prediction = model.predict(X)\n",
    "    \n",
    "    print(\"Real values:\", Counter(y))\n",
    "    print(\"Predicted values:\", Counter(prediction), \"\\n\")\n",
    "\n",
    "    acc = metrics.accuracy_score(y, prediction)\n",
    "    print(\"Accuracy:\", acc)\n",
    "    \n",
    "    precision = precision_score(y, prediction, average=\"weighted\")\n",
    "    recall = recall_score(y, prediction, average=\"weighted\")\n",
    "    f1 = f1_score(y, prediction, average=\"weighted\")\n",
    "\n",
    "    # Accuracy if predicted value is +-1\n",
    "    acc_interval = acc + metrics.accuracy_score(y_copy + 1, prediction) \\\n",
    "                   + metrics.accuracy_score(y_copy - 1, prediction)\n",
    "    print(\"Accuracy for small interval:\", acc_interval)\n",
    "\n",
    "    # checks if at least the predicted direction is the right one\n",
    "    acc_dir = metrics.accuracy_score(transform_to_pos_neg(y_copy), transform_to_pos_neg(prediction))\n",
    "    print(\"Accuracy for right direction:\", acc_dir, \"\\n\")\n",
    "    \n",
    "    print(\"Classwise evaluation:\")\n",
    "    print(classification_report(y, prediction))\n",
    "    \n",
    "    class_scores = np.asarray(precision_recall_fscore_support(y, prediction))\n",
    "    \n",
    "    results.append([acc, acc_interval, acc_dir, precision, recall, f1])\n"
   ]
  },
  {
   "cell_type": "code",
   "execution_count": 12,
   "metadata": {
    "collapsed": true
   },
   "outputs": [],
   "source": [
    "def fit_and_eval_svm(X_train, y_train, X_test, y_test):\n",
    "    lin_svm = svm.LinearSVC()\n",
    "    lin_svm.fit(X_train, y_train)\n",
    "    evaluate_model(lin_svm, X_test, y_test)"
   ]
  },
  {
   "cell_type": "code",
   "execution_count": 13,
   "metadata": {
    "scrolled": true
   },
   "outputs": [
    {
     "name": "stdout",
     "output_type": "stream",
     "text": [
      "Real values: Counter({0: 105, -2: 95, -3: 69, 1: 58, 3: 53, 2: 35, -1: 34})\n",
      "Predicted values: Counter({-2: 317, 0: 124, 3: 8}) \n",
      "\n",
      "Accuracy: 0.238307349666\n",
      "Accuracy for small interval: 0.45434298441\n",
      "Accuracy for right direction: 0.400890868597 \n",
      "\n",
      "Classwise evaluation:\n",
      "             precision    recall  f1-score   support\n",
      "\n",
      "         -3       0.00      0.00      0.00        69\n",
      "         -2       0.00      0.00      0.00        95\n",
      "         -1       0.07      0.65      0.13        34\n",
      "          0       0.28      0.33      0.31       105\n",
      "          1       0.00      0.00      0.00        58\n",
      "          2       0.00      0.00      0.00        35\n",
      "          3       0.00      0.00      0.00        53\n",
      "\n",
      "avg / total       0.07      0.13      0.08       449\n",
      "\n"
     ]
    },
    {
     "name": "stderr",
     "output_type": "stream",
     "text": [
      "/home/hendaet/anaconda3/lib/python3.6/site-packages/sklearn/metrics/classification.py:1113: UndefinedMetricWarning: Precision is ill-defined and being set to 0.0 in labels with no predicted samples.\n",
      "  'precision', 'predicted', average, warn_for)\n",
      "/home/hendaet/anaconda3/lib/python3.6/site-packages/sklearn/metrics/classification.py:1113: UndefinedMetricWarning: F-score is ill-defined and being set to 0.0 in labels with no predicted samples.\n",
      "  'precision', 'predicted', average, warn_for)\n",
      "/home/hendaet/anaconda3/lib/python3.6/site-packages/sklearn/metrics/classification.py:1113: UndefinedMetricWarning: Precision and F-score are ill-defined and being set to 0.0 in labels with no predicted samples.\n",
      "  'precision', 'predicted', average, warn_for)\n"
     ]
    }
   ],
   "source": [
    "fit_and_eval_svm(X_train, y_train, X_test, y_test)"
   ]
  },
  {
   "cell_type": "markdown",
   "metadata": {},
   "source": [
    "## Non Linear SVM (comparison)"
   ]
  },
  {
   "cell_type": "code",
   "execution_count": null,
   "metadata": {
    "scrolled": false
   },
   "outputs": [],
   "source": [
    "non_lin_svm = SVC()\n",
    "non_lin_svm.fit(X_train, y_train)\n",
    "evaluate_model(non_lin_svm, X_test, y_test)"
   ]
  },
  {
   "cell_type": "markdown",
   "metadata": {},
   "source": [
    "## Naive Bayes (comparison)"
   ]
  },
  {
   "cell_type": "code",
   "execution_count": null,
   "metadata": {},
   "outputs": [],
   "source": [
    "from sklearn.naive_bayes import GaussianNB\n",
    "\n",
    "gnb = GaussianNB()\n",
    "gnb.fit(X_train, y_train)\n",
    "evaluate_model(gnb, X_test, y_test)"
   ]
  },
  {
   "cell_type": "code",
   "execution_count": null,
   "metadata": {},
   "outputs": [],
   "source": [
    "from sklearn.naive_bayes import MultinomialNB \n",
    "\n",
    "mnb = MultinomialNB()\n",
    "mnb.fit(X_train, y_train)\n",
    "evaluate_model(mnb, X_test, y_test)\n"
   ]
  },
  {
   "cell_type": "markdown",
   "metadata": {},
   "source": [
    "## Training with Grid Search"
   ]
  },
  {
   "cell_type": "code",
   "execution_count": null,
   "metadata": {},
   "outputs": [],
   "source": [
    "# Determining the hyperparameter C through grid search with cross validation\n",
    "cs = [0.001, 0.01, 0.1, 1, 10]\n",
    "grid = {'C': cs}\n",
    "\n",
    "grid_search = GridSearchCV(svm.LinearSVC(), grid, cv=5, verbose=10)\n",
    "grid_search.fit(X_train, y_train)\n",
    "print(grid_search.best_params_)\n",
    "evaluate_model(grid_search, X_test, y_test)\n"
   ]
  },
  {
   "cell_type": "markdown",
   "metadata": {},
   "source": [
    "## Feature Selection\n"
   ]
  },
  {
   "cell_type": "markdown",
   "metadata": {},
   "source": [
    "### Variance Threshold"
   ]
  },
  {
   "cell_type": "code",
   "execution_count": 18,
   "metadata": {},
   "outputs": [
    {
     "name": "stdout",
     "output_type": "stream",
     "text": [
      "Threshhold: 0\n",
      "[ True  True]\n",
      "Real values: Counter({0: 105, -2: 95, -3: 69, 1: 58, 3: 53, 2: 35, -1: 34})\n",
      "Predicted values: Counter({-2: 317, 0: 124, 3: 8}) \n",
      "\n",
      "Accuracy: 0.238307349666\n",
      "Accuracy for small interval: 0.45434298441\n",
      "Accuracy for right direction: 0.400890868597 \n",
      "\n",
      "Classwise evaluation:\n",
      "             precision    recall  f1-score   support\n",
      "\n",
      "         -3       0.00      0.00      0.00        69\n",
      "         -2       0.00      0.00      0.00        95\n",
      "         -1       0.07      0.65      0.13        34\n",
      "          0       0.28      0.33      0.31       105\n",
      "          1       0.00      0.00      0.00        58\n",
      "          2       0.00      0.00      0.00        35\n",
      "          3       0.00      0.00      0.00        53\n",
      "\n",
      "avg / total       0.07      0.13      0.08       449\n",
      "\n",
      "Threshhold: 0.001\n"
     ]
    },
    {
     "name": "stderr",
     "output_type": "stream",
     "text": [
      "/home/hendaet/anaconda3/lib/python3.6/site-packages/sklearn/metrics/classification.py:1113: UndefinedMetricWarning: Precision is ill-defined and being set to 0.0 in labels with no predicted samples.\n",
      "  'precision', 'predicted', average, warn_for)\n",
      "/home/hendaet/anaconda3/lib/python3.6/site-packages/sklearn/metrics/classification.py:1113: UndefinedMetricWarning: F-score is ill-defined and being set to 0.0 in labels with no predicted samples.\n",
      "  'precision', 'predicted', average, warn_for)\n",
      "/home/hendaet/anaconda3/lib/python3.6/site-packages/sklearn/metrics/classification.py:1113: UndefinedMetricWarning: Precision and F-score are ill-defined and being set to 0.0 in labels with no predicted samples.\n",
      "  'precision', 'predicted', average, warn_for)\n"
     ]
    },
    {
     "name": "stdout",
     "output_type": "stream",
     "text": [
      "[ True False]\n",
      "Real values: Counter({0: 105, -2: 95, -3: 69, 1: 58, 3: 53, 2: 35, -1: 34})\n",
      "Predicted values: Counter({0: 358, 3: 91}) \n",
      "\n",
      "Accuracy: 0.202672605791\n",
      "Accuracy for small interval: 0.39420935412\n",
      "Accuracy for right direction: 0.247216035635 \n",
      "\n",
      "Classwise evaluation:\n",
      "             precision    recall  f1-score   support\n",
      "\n",
      "         -3       0.00      0.00      0.00        69\n",
      "         -2       0.00      0.00      0.00        95\n",
      "         -1       0.00      0.00      0.00        34\n",
      "          0       0.22      0.75      0.34       105\n",
      "          1       0.11      0.17      0.13        58\n",
      "          2       0.00      0.00      0.00        35\n",
      "          3       0.00      0.00      0.00        53\n",
      "\n",
      "avg / total       0.07      0.20      0.10       449\n",
      "\n",
      "Threshhold: 0.005\n",
      "[ True False]\n",
      "Real values: Counter({0: 105, -2: 95, -3: 69, 1: 58, 3: 53, 2: 35, -1: 34})\n",
      "Predicted values: Counter({0: 379, 3: 70}) \n",
      "\n",
      "Accuracy: 0.204899777283\n",
      "Accuracy for small interval: 0.398663697105\n",
      "Accuracy for right direction: 0.240534521158 \n",
      "\n",
      "Classwise evaluation:\n",
      "             precision    recall  f1-score   support\n",
      "\n",
      "         -3       0.00      0.00      0.00        69\n",
      "         -2       0.00      0.00      0.00        95\n",
      "         -1       0.00      0.00      0.00        34\n",
      "          0       0.21      0.77      0.33       105\n",
      "          1       0.11      0.14      0.12        58\n",
      "          2       0.00      0.00      0.00        35\n",
      "          3       0.00      0.00      0.00        53\n",
      "\n",
      "avg / total       0.06      0.20      0.09       449\n",
      "\n",
      "Threshhold: 0.01\n",
      "[False False]\n",
      "Real values: Counter({0: 105, -2: 95, -3: 69, 1: 58, 3: 53, 2: 35, -1: 34})\n",
      "Predicted values: Counter({0: 449}) \n",
      "\n",
      "Accuracy: 0.233853006682\n",
      "Accuracy for small interval: 0.438752783964\n",
      "Accuracy for right direction: 0.233853006682 \n",
      "\n",
      "Classwise evaluation:\n",
      "             precision    recall  f1-score   support\n",
      "\n",
      "         -3       0.00      0.00      0.00        69\n",
      "         -2       0.00      0.00      0.00        95\n",
      "         -1       0.00      0.00      0.00        34\n",
      "          0       0.23      1.00      0.38       105\n",
      "          1       0.00      0.00      0.00        58\n",
      "          2       0.00      0.00      0.00        35\n",
      "          3       0.00      0.00      0.00        53\n",
      "\n",
      "avg / total       0.05      0.23      0.09       449\n",
      "\n"
     ]
    }
   ],
   "source": [
    "# Variance threshold removes all the features which variance is smaller than a certain percentage\n",
    "thresholds = [0, 0.001, 0.005, 0.01]\n",
    "\n",
    "for threshold in thresholds:\n",
    "    print(\"Threshhold:\", threshold)\n",
    "    \n",
    "    variance_selector = VarianceThreshold(threshold)\n",
    "    X_train_selected = variance_selector.fit_transform(X_train)\n",
    "    X_test_selected = variance_selector.transform(X_test)\n",
    "    \n",
    "    # Returns an array which indicates if number of hastags/number of multiple punctuation was selected as features\n",
    "    print(variance_selector.get_support()[0:2])\n",
    "    \n",
    "    fit_and_eval_svm(X_train_selected, y_train, X_test_selected, y_test)\n"
   ]
  },
  {
   "cell_type": "markdown",
   "metadata": {},
   "source": [
    "### Selection of kBest"
   ]
  },
  {
   "cell_type": "code",
   "execution_count": 22,
   "metadata": {},
   "outputs": [
    {
     "name": "stdout",
     "output_type": "stream",
     "text": [
      "k: 10\n",
      "Num ashtags: True\n",
      "Num mult punct: False\n",
      "Pos tags Counter({False: 46})\n",
      "Word vectors Counter({False: 41532})\n",
      "Char vectors Counter({False: 79864, True: 9})\n",
      "Real values: Counter({0: 105, -2: 95, -3: 69, 1: 58, 3: 53, 2: 35, -1: 34})\n",
      "Predicted values: Counter({0: 384, 3: 65}) \n",
      "\n",
      "Accuracy: 0.207126948775\n",
      "Accuracy for small interval: 0.398663697105\n",
      "Accuracy for right direction: 0.236080178174"
     ]
    },
    {
     "name": "stderr",
     "output_type": "stream",
     "text": [
      "/home/hendaet/anaconda3/lib/python3.6/site-packages/sklearn/metrics/classification.py:1113: UndefinedMetricWarning: Precision is ill-defined and being set to 0.0 in labels with no predicted samples.\n",
      "  'precision', 'predicted', average, warn_for)\n",
      "/home/hendaet/anaconda3/lib/python3.6/site-packages/sklearn/metrics/classification.py:1113: UndefinedMetricWarning: F-score is ill-defined and being set to 0.0 in labels with no predicted samples.\n",
      "  'precision', 'predicted', average, warn_for)\n",
      "/home/hendaet/anaconda3/lib/python3.6/site-packages/sklearn/metrics/classification.py:1113: UndefinedMetricWarning: Precision and F-score are ill-defined and being set to 0.0 in labels with no predicted samples.\n",
      "  'precision', 'predicted', average, warn_for)\n"
     ]
    },
    {
     "name": "stdout",
     "output_type": "stream",
     "text": [
      " \n",
      "\n",
      "Classwise evaluation:\n",
      "             precision    recall  f1-score   support\n",
      "\n",
      "         -3       0.00      0.00      0.00        69\n",
      "         -2       0.00      0.00      0.00        95\n",
      "         -1       0.00      0.00      0.00        34\n",
      "          0       0.21      0.78      0.34       105\n",
      "          1       0.11      0.12      0.11        58\n",
      "          2       0.00      0.00      0.00        35\n",
      "          3       0.00      0.00      0.00        53\n",
      "\n",
      "avg / total       0.06      0.20      0.09       449\n",
      "\n",
      "k: 50\n",
      "Num ashtags: True\n",
      "Num mult punct: False\n",
      "Pos tags Counter({False: 45, True: 1})\n",
      "Word vectors Counter({False: 41530, True: 2})\n",
      "Char vectors Counter({False: 79827, True: 46})\n",
      "Real values: Counter({0: 105, -2: 95, -3: 69, 1: 58, 3: 53, 2: 35, -1: 34})\n",
      "Predicted values: Counter({0: 416, 3: 18, -2: 15}) \n",
      "\n",
      "Accuracy: 0.218262806236\n",
      "Accuracy for small interval: 0.420935412027\n",
      "Accuracy for right direction: 0.227171492205 \n",
      "\n",
      "Classwise evaluation:\n",
      "             precision    recall  f1-score   support\n",
      "\n",
      "         -3       0.00      0.00      0.00        69\n",
      "         -2       0.00      0.00      0.00        95\n",
      "         -1       0.00      0.00      0.00        34\n",
      "          0       0.23      0.90      0.36       105\n",
      "          1       0.00      0.00      0.00        58\n",
      "          2       0.00      0.00      0.00        35\n",
      "          3       0.00      0.00      0.00        53\n",
      "\n",
      "avg / total       0.05      0.21      0.08       449\n",
      "\n",
      "k: 100\n",
      "Num ashtags: True\n",
      "Num mult punct: False\n",
      "Pos tags Counter({False: 45, True: 1})\n",
      "Word vectors Counter({False: 41527, True: 5})\n",
      "Char vectors Counter({False: 79780, True: 93})\n",
      "Real values: Counter({0: 105, -2: 95, -3: 69, 1: 58, 3: 53, 2: 35, -1: 34})\n",
      "Predicted values: Counter({0: 422, -2: 21, 3: 6}) \n",
      "\n",
      "Accuracy: 0.218262806236\n",
      "Accuracy for small interval: 0.416481069042\n",
      "Accuracy for right direction: 0.224944320713 \n",
      "\n",
      "Classwise evaluation:\n",
      "             precision    recall  f1-score   support\n",
      "\n",
      "         -3       0.00      0.00      0.00        69\n",
      "         -2       0.00      0.00      0.00        95\n",
      "         -1       0.10      0.06      0.07        34\n",
      "          0       0.23      0.90      0.36       105\n",
      "          1       0.00      0.00      0.00        58\n",
      "          2       0.00      0.00      0.00        35\n",
      "          3       0.00      0.00      0.00        53\n",
      "\n",
      "avg / total       0.06      0.22      0.09       449\n",
      "\n",
      "k: 200\n",
      "Num ashtags: True\n",
      "Num mult punct: False\n",
      "Pos tags Counter({False: 45, True: 1})\n",
      "Word vectors Counter({False: 41508, True: 24})\n",
      "Char vectors Counter({False: 79699, True: 174})\n",
      "Real values: Counter({0: 105, -2: 95, -3: 69, 1: 58, 3: 53, 2: 35, -1: 34})\n",
      "Predicted values: Counter({0: 424, -2: 22, 3: 2, -3: 1}) \n",
      "\n",
      "Accuracy: 0.227171492205\n",
      "Accuracy for small interval: 0.425389755011\n",
      "Accuracy for right direction: 0.233853006682 \n",
      "\n",
      "Classwise evaluation:\n",
      "             precision    recall  f1-score   support\n",
      "\n",
      "         -3       0.00      0.00      0.00        69\n",
      "         -2       0.00      0.00      0.00        95\n",
      "         -1       0.09      0.06      0.07        34\n",
      "          0       0.23      0.93      0.37       105\n",
      "          1       0.00      0.00      0.00        58\n",
      "          2       0.00      0.00      0.00        35\n",
      "          3       0.00      0.00      0.00        53\n",
      "\n",
      "avg / total       0.06      0.22      0.09       449\n",
      "\n",
      "k: 500\n",
      "Num ashtags: True\n",
      "Num mult punct: False\n",
      "Pos tags Counter({False: 45, True: 1})\n",
      "Word vectors Counter({False: 41448, True: 84})\n",
      "Char vectors Counter({False: 79459, True: 414})\n",
      "Real values: Counter({0: 105, -2: 95, -3: 69, 1: 58, 3: 53, 2: 35, -1: 34})\n",
      "Predicted values: Counter({0: 421, -2: 26, 3: 1, -3: 1}) \n",
      "\n",
      "Accuracy: 0.227171492205\n",
      "Accuracy for small interval: 0.429844097996\n",
      "Accuracy for right direction: 0.24276169265 \n",
      "\n",
      "Classwise evaluation:\n",
      "             precision    recall  f1-score   support\n",
      "\n",
      "         -3       0.00      0.00      0.00        69\n",
      "         -2       0.00      0.00      0.00        95\n",
      "         -1       0.15      0.12      0.13        34\n",
      "          0       0.23      0.93      0.37       105\n",
      "          1       0.00      0.00      0.00        58\n",
      "          2       0.00      0.00      0.00        35\n",
      "          3       0.00      0.00      0.00        53\n",
      "\n",
      "avg / total       0.07      0.23      0.10       449\n",
      "\n",
      "k: 1000\n",
      "Num ashtags: True\n",
      "Num mult punct: False\n",
      "Pos tags Counter({False: 45, True: 1})\n",
      "Word vectors Counter({False: 41316, True: 216})\n",
      "Char vectors Counter({False: 79091, True: 782})\n",
      "Real values: Counter({0: 105, -2: 95, -3: 69, 1: 58, 3: 53, 2: 35, -1: 34})\n",
      "Predicted values: Counter({0: 430, -2: 18, 3: 1}) \n",
      "\n",
      "Accuracy: 0.236080178174\n",
      "Accuracy for small interval: 0.436525612472\n",
      "Accuracy for right direction: 0.247216035635 \n",
      "\n",
      "Classwise evaluation:\n",
      "             precision    recall  f1-score   support\n",
      "\n",
      "         -3       0.00      0.00      0.00        69\n",
      "         -2       0.00      0.00      0.00        95\n",
      "         -1       0.22      0.12      0.15        34\n",
      "          0       0.23      0.96      0.38       105\n",
      "          1       0.00      0.00      0.00        58\n",
      "          2       0.00      0.00      0.00        35\n",
      "          3       0.00      0.00      0.00        53\n",
      "\n",
      "avg / total       0.07      0.23      0.10       449\n",
      "\n",
      "k: 5000\n",
      "Num ashtags: True\n",
      "Num mult punct: False\n",
      "Pos tags Counter({False: 44, True: 2})\n",
      "Word vectors Counter({False: 40187, True: 1345})\n",
      "Char vectors Counter({False: 76221, True: 3652})\n",
      "Real values: Counter({0: 105, -2: 95, -3: 69, 1: 58, 3: 53, 2: 35, -1: 34})\n",
      "Predicted values: Counter({0: 409, -2: 39, 3: 1}) \n",
      "\n",
      "Accuracy: 0.22271714922\n",
      "Accuracy for small interval: 0.420935412027\n",
      "Accuracy for right direction: 0.240534521158 \n",
      "\n",
      "Classwise evaluation:\n",
      "             precision    recall  f1-score   support\n",
      "\n",
      "         -3       0.00      0.00      0.00        69\n",
      "         -2       0.00      0.00      0.00        95\n",
      "         -1       0.13      0.15      0.14        34\n",
      "          0       0.23      0.89      0.36       105\n",
      "          1       0.00      0.00      0.00        58\n",
      "          2       0.00      0.00      0.00        35\n",
      "          3       0.00      0.00      0.00        53\n",
      "\n",
      "avg / total       0.06      0.22      0.09       449\n",
      "\n"
     ]
    }
   ],
   "source": [
    "# Uses chi square to find significance of features and only selects the top k features\n",
    "ks = [10, 50, 100, 200, 500, 1000, 5000]\n",
    "\n",
    "for k in ks:\n",
    "    print(\"k:\", k)\n",
    "    \n",
    "    kbest_selector = SelectKBest(chi2, k=k)\n",
    "    X_train_selected = kbest_selector.fit_transform(X_train, y_train)\n",
    "    X_test_selected = kbest_selector.transform(X_test)\n",
    "    \n",
    "    support = kbest_selector.get_support()\n",
    "    print(\"Num hashtags:\", support[0])\n",
    "    print(\"Num mult punct:\", support[1])\n",
    "    print(\"Pos tags\", Counter(support[2:48]))\n",
    "    print(\"Word vectors\", Counter(support[48:41580]))\n",
    "    print(\"Char vectors\", Counter(support[41580:]))\n",
    "    \n",
    "    fit_and_eval_svm(X_train_selected, y_train, X_test_selected, y_test)\n"
   ]
  },
  {
   "cell_type": "code",
   "execution_count": null,
   "metadata": {
    "scrolled": true
   },
   "outputs": [],
   "source": [
    "print(results)"
   ]
  },
  {
   "cell_type": "markdown",
   "metadata": {},
   "source": [
    "### Recursive Feature Elimination with Cross Validation\n"
   ]
  },
  {
   "cell_type": "code",
   "execution_count": null,
   "metadata": {
    "collapsed": true
   },
   "outputs": [],
   "source": [
    "# Another form of feature selection\n",
    "\n",
    "selector = RFECV(svm.LinearSVC(), step=500, cv=5, verbose=10)\n",
    "selector.fit(X_train, y_train)\n",
    "evaluate_model(selector, X_test, y_test)\n"
   ]
  },
  {
   "cell_type": "code",
   "execution_count": null,
   "metadata": {
    "collapsed": true
   },
   "outputs": [],
   "source": []
  }
 ],
 "metadata": {
  "kernelspec": {
   "display_name": "Python 3",
   "language": "python",
   "name": "python3"
  },
  "language_info": {
   "codemirror_mode": {
    "name": "ipython",
    "version": 3
   },
   "file_extension": ".py",
   "mimetype": "text/x-python",
   "name": "python",
   "nbconvert_exporter": "python",
   "pygments_lexer": "ipython3",
   "version": "3.6.1"
  }
 },
 "nbformat": 4,
 "nbformat_minor": 1
}
