{
 "cells": [
  {
   "cell_type": "code",
   "execution_count": 19,
   "metadata": {
    "collapsed": true
   },
   "outputs": [],
   "source": [
    "import pickle\n",
    "import re\n",
    "import numpy as np\n",
    "from nltk.tokenize import TweetTokenizer\n",
    "from sklearn import svm\n",
    "from sklearn import metrics\n",
    "from sklearn.model_selection import GridSearchCV\n",
    "from sklearn.feature_extraction.text import CountVectorizer\n",
    "from sklearn.feature_selection import SelectKBest\n",
    "from sklearn.feature_selection import chi2\n",
    "from sklearn.feature_selection import VarianceThreshold\n",
    "from sklearn.feature_selection import RFECV\n",
    "from sklearn.svm import SVC\n",
    "from sklearn.metrics import classification_report\n",
    "\n",
    "from nltk.data import load\n"
   ]
  },
  {
   "cell_type": "code",
   "execution_count": 2,
   "metadata": {},
   "outputs": [
    {
     "name": "stdout",
     "output_type": "stream",
     "text": [
      "(1181,) (449,)\n"
     ]
    }
   ],
   "source": [
    "train = np.asarray(pickle.load(open(\"train_set\", \"rb\")))\n",
    "test = np.asarray(pickle.load(open(\"test_set\", \"rb\")))\n",
    "\n",
    "print(train.shape, test.shape)"
   ]
  },
  {
   "cell_type": "code",
   "execution_count": 3,
   "metadata": {
    "collapsed": true
   },
   "outputs": [],
   "source": [
    "# Extracting valence from the dataset\n",
    "\n",
    "y_train = np.asarray([int(tweet.valence) for tweet in train])\n",
    "y_test = np.asarray([int(tweet.valence) for tweet in test])\n"
   ]
  },
  {
   "cell_type": "markdown",
   "metadata": {},
   "source": [
    "## Feature Generation\n"
   ]
  },
  {
   "cell_type": "code",
   "execution_count": 4,
   "metadata": {
    "collapsed": true
   },
   "outputs": [],
   "source": [
    "def get_num_of_hashtags(data_set):\n",
    "    # This oddly shape array is needed, because the features need to be in a column-like shape\n",
    "    X = np.zeros((len(data_set), 1))\n",
    "\n",
    "    for i, tweet in enumerate(data_set):\n",
    "        X[i, 0] = np.asarray(len(tweet.hashtags))\n",
    "\n",
    "    return X\n"
   ]
  },
  {
   "cell_type": "code",
   "execution_count": 5,
   "metadata": {
    "collapsed": true
   },
   "outputs": [],
   "source": [
    "def get_num_of_mult_punctuation(data_set):\n",
    "    # multiple punctuation means sth. like ../!!!\n",
    "    X = np.zeros((len(data_set), 1))\n",
    "\n",
    "    for i, tweet in enumerate(data_set):\n",
    "        X[i, 0] = len(re.findall(r\"[?!]{2,}\", tweet.raw))\n",
    "        \n",
    "    return X\n"
   ]
  },
  {
   "cell_type": "code",
   "execution_count": 6,
   "metadata": {
    "collapsed": true
   },
   "outputs": [],
   "source": [
    "def get_num_pos_tags(train, test):\n",
    "    # First find out which POS tags are possible\n",
    "    vocabulary = list(load('help/tagsets/upenn_tagset.pickle'))\n",
    "    pos_tags_train = [tweet.pos_tags for tweet in train]\n",
    "    pos_tags_test = [tweet.pos_tags for tweet in test]\n",
    "\n",
    "    # CountVectorizer is used to create a vector for each tweet. Each number in this vector \n",
    "    # represents the number of occurrences for a specific POS tag.\n",
    "    # All those vectors have the same length, which is needed to use them for the SVM.\n",
    "    vectorizer = CountVectorizer(vocabulary=vocabulary, tokenizer=lambda doc: doc, lowercase=False)\n",
    "\n",
    "    train_vector = vectorizer.transform(pos_tags_train)\n",
    "    test_vector = vectorizer.transform(pos_tags_test)\n",
    "   \n",
    "    return np.asarray(train_vector.toarray()), np.asarray(test_vector.toarray())\n",
    "\n"
   ]
  },
  {
   "cell_type": "code",
   "execution_count": 7,
   "metadata": {
    "collapsed": true
   },
   "outputs": [],
   "source": [
    "def get_ngram_vectors(train, test, method=\"word\", upper=3, lower=1):\n",
    "    # This method either extracts word (method=\"word)\" or char ngrams (method=\"char\").\n",
    "    # Again, they need to be transformed into one hot encoded vectors\n",
    "    vectorizer = CountVectorizer(ngram_range=(lower, upper), tokenizer=TweetTokenizer().tokenize, \n",
    "                                 analyzer=method)\n",
    "    \n",
    "    raw_train = [tweet.raw for tweet in train]\n",
    "    raw_test = [tweet.raw for tweet in test]\n",
    "    \n",
    "    train_vector = vectorizer.fit_transform(raw_train)\n",
    "    test_vector = vectorizer.transform(raw_test)\n",
    "\n",
    "    return np.asarray(train_vector.toarray()), np.asarray(test_vector.toarray())\n"
   ]
  },
  {
   "cell_type": "code",
   "execution_count": 8,
   "metadata": {
    "collapsed": true
   },
   "outputs": [],
   "source": [
    "def extract_features(train, test):\n",
    "    word_ngram_upper_bound = 4\n",
    "    char_ngram_upper_bound = 5\n",
    "    char_ngram_lower_bound = 3\n",
    "\n",
    "    pos_vec_train, pos_vec_test = get_num_pos_tags(train, test)\n",
    "    train_word_vectors, test_word_vectors = get_ngram_vectors(\n",
    "        train, test, \"word\", word_ngram_upper_bound)\n",
    "    train_char_vectors, test_char_vectors = get_ngram_vectors(\n",
    "        train, test, \"char\", char_ngram_upper_bound, char_ngram_lower_bound)\n",
    "\n",
    "    # Put all the features together. Each feature is represented as a column in the resulting array\n",
    "    train_features = np.concatenate([get_num_of_hashtags(train),\n",
    "                                     get_num_of_mult_punctuation(train),\n",
    "                                     pos_vec_train,\n",
    "                                     train_word_vectors,\n",
    "                                     train_char_vectors], axis=1)\n",
    "\n",
    "    test_features = np.concatenate([get_num_of_hashtags(test),\n",
    "                                    get_num_of_mult_punctuation(test),\n",
    "                                    test_word_vectors,\n",
    "                                    test_char_vectors,\n",
    "                                    pos_vec_test], axis=1)\n",
    "\n",
    "    return train_features, test_features\n"
   ]
  },
  {
   "cell_type": "code",
   "execution_count": 9,
   "metadata": {
    "collapsed": true
   },
   "outputs": [],
   "source": [
    "X_train, X_test = extract_features(train, test)\n"
   ]
  },
  {
   "cell_type": "markdown",
   "metadata": {},
   "source": [
    "## Baseline"
   ]
  },
  {
   "cell_type": "code",
   "execution_count": 10,
   "metadata": {
    "collapsed": true
   },
   "outputs": [],
   "source": [
    "def transform_to_pos_neg(np_array):\n",
    "    np_array[np_array < 0] = -1\n",
    "    np_array[np_array > 0] = 1\n",
    "    \n",
    "    return np_array\n"
   ]
  },
  {
   "cell_type": "code",
   "execution_count": 11,
   "metadata": {},
   "outputs": [],
   "source": [
    "from collections import Counter\n",
    "\n",
    "def evaluate_model(model, X, y):\n",
    "    # To make sure that the original y is not modified when applying the transform_to... function\n",
    "    y_copy = np.copy(y)  \n",
    "    prediction = model.predict(X)\n",
    "    \n",
    "    print(\"Real values:\", Counter(y))\n",
    "    print(\"Predicted values:\", Counter(prediction), \"\\n\")\n",
    "\n",
    "    acc = metrics.accuracy_score(y, prediction)\n",
    "    print(\"Accuracy:\", acc)\n",
    "\n",
    "    # Accuracy if predicted value is +-1\n",
    "    acc_interval = acc + metrics.accuracy_score(y_copy + 1, prediction) \\\n",
    "                   + metrics.accuracy_score(y_copy - 1, prediction)\n",
    "    print(\"Accuracy for small interval:\", acc_interval)\n",
    "\n",
    "    # checks if at least the predicted direction is the right one\n",
    "    acc_dir = metrics.accuracy_score(transform_to_pos_neg(y_copy), transform_to_pos_neg(prediction))\n",
    "    print(\"Accuracy for right direction:\", acc_dir, \"\\n\")\n",
    "    \n",
    "    print(\"Classwise evaluation:\")\n",
    "    print(classification_report(y, prediction))\n"
   ]
  },
  {
   "cell_type": "code",
   "execution_count": 12,
   "metadata": {
    "collapsed": true
   },
   "outputs": [],
   "source": [
    "def fit_and_eval_svm(X_train, y_train, X_test, y_test):\n",
    "    lin_svm = svm.LinearSVC()\n",
    "    lin_svm.fit(X_train, y_train)\n",
    "    evaluate_model(lin_svm, X_test, y_test)"
   ]
  },
  {
   "cell_type": "code",
   "execution_count": 20,
   "metadata": {
    "scrolled": false
   },
   "outputs": [
    {
     "name": "stdout",
     "output_type": "stream",
     "text": [
      "Real values: Counter({0: 105, -2: 95, -3: 69, 1: 58, 3: 53, 2: 35, -1: 34})\n",
      "Predicted values: Counter({-2: 238, 3: 92, 0: 90, 1: 16, -3: 7, -1: 3, 2: 3}) \n",
      "\n",
      "Accuracy: 0.224944320713\n",
      "Accuracy for small interval: 0.445434298441\n",
      "Accuracy for right direction: 0.412026726058 \n",
      "\n",
      "Classwise evaluation:\n",
      "             precision    recall  f1-score   support\n",
      "\n",
      "         -3       0.00      0.00      0.00        69\n",
      "         -2       0.00      0.00      0.00        95\n",
      "         -1       0.07      0.53      0.13        34\n",
      "          0       0.28      0.24      0.26       105\n",
      "          1       0.12      0.22      0.15        58\n",
      "          2       0.00      0.00      0.00        35\n",
      "          3       0.00      0.00      0.00        53\n",
      "\n",
      "avg / total       0.09      0.12      0.09       449\n",
      "\n"
     ]
    },
    {
     "name": "stderr",
     "output_type": "stream",
     "text": [
      "/home/hendaet/anaconda3/lib/python3.6/site-packages/sklearn/metrics/classification.py:1113: UndefinedMetricWarning: Precision and F-score are ill-defined and being set to 0.0 in labels with no predicted samples.\n",
      "  'precision', 'predicted', average, warn_for)\n"
     ]
    }
   ],
   "source": [
    "fit_and_eval_svm(X_train, y_train, X_test, y_test)"
   ]
  },
  {
   "cell_type": "markdown",
   "metadata": {},
   "source": [
    "## Non Linear SVM (comparison)"
   ]
  },
  {
   "cell_type": "code",
   "execution_count": 14,
   "metadata": {
    "scrolled": false
   },
   "outputs": [
    {
     "name": "stdout",
     "output_type": "stream",
     "text": [
      "Real values: Counter({0: 105, -2: 95, -3: 69, 1: 58, 3: 53, 2: 35, -1: 34})\n",
      "Predicted values: Counter({0: 449}) \n",
      "\n",
      "Accuracy: 0.233853006682\n",
      "Accuracy for small interval: 0.438752783964\n",
      "Accuracy for right direction: 0.233853006682 \n",
      "\n",
      "Classwise evaluation:\n",
      "             precision    recall  f1-score   support\n",
      "\n",
      "         -3       0.00      0.00      0.00        69\n",
      "         -2       0.00      0.00      0.00        95\n",
      "         -1       0.00      0.00      0.00        34\n",
      "          0       0.23      1.00      0.38       105\n",
      "          1       0.00      0.00      0.00        58\n",
      "          2       0.00      0.00      0.00        35\n",
      "          3       0.00      0.00      0.00        53\n",
      "\n",
      "avg / total       0.05      0.23      0.09       449\n",
      "\n"
     ]
    },
    {
     "name": "stderr",
     "output_type": "stream",
     "text": [
      "/home/hendaet/anaconda3/lib/python3.6/site-packages/sklearn/metrics/classification.py:1113: UndefinedMetricWarning: Precision and F-score are ill-defined and being set to 0.0 in labels with no predicted samples.\n",
      "  'precision', 'predicted', average, warn_for)\n"
     ]
    }
   ],
   "source": [
    "non_lin_svm = SVC()\n",
    "non_lin_svm.fit(X_train, y_train)\n",
    "evaluate_model(non_lin_svm, X_test, y_test)"
   ]
  },
  {
   "cell_type": "markdown",
   "metadata": {},
   "source": [
    "## Naive Bayes (comparison)"
   ]
  },
  {
   "cell_type": "code",
   "execution_count": 15,
   "metadata": {},
   "outputs": [
    {
     "name": "stdout",
     "output_type": "stream",
     "text": [
      "Real values: Counter({0: 105, -2: 95, -3: 69, 1: 58, 3: 53, 2: 35, -1: 34})\n",
      "Predicted values: Counter({0: 308, -2: 96, 3: 45}) \n",
      "\n",
      "Accuracy: 0.216035634744\n",
      "Accuracy for small interval: 0.412026726058\n",
      "Accuracy for right direction: 0.293986636971 \n",
      "\n",
      "Classwise evaluation:\n",
      "             precision    recall  f1-score   support\n",
      "\n",
      "         -3       0.00      0.00      0.00        69\n",
      "         -2       0.00      0.00      0.00        95\n",
      "         -1       0.06      0.18      0.09        34\n",
      "          0       0.23      0.68      0.34       105\n",
      "          1       0.18      0.14      0.16        58\n",
      "          2       0.00      0.00      0.00        35\n",
      "          3       0.00      0.00      0.00        53\n",
      "\n",
      "avg / total       0.08      0.19      0.11       449\n",
      "\n"
     ]
    },
    {
     "name": "stderr",
     "output_type": "stream",
     "text": [
      "/home/hendaet/anaconda3/lib/python3.6/site-packages/sklearn/metrics/classification.py:1113: UndefinedMetricWarning: Precision and F-score are ill-defined and being set to 0.0 in labels with no predicted samples.\n",
      "  'precision', 'predicted', average, warn_for)\n"
     ]
    }
   ],
   "source": [
    "from sklearn.naive_bayes import GaussianNB\n",
    "\n",
    "gnb = GaussianNB()\n",
    "gnb.fit(X_train, y_train)\n",
    "evaluate_model(gnb, X_test, y_test)"
   ]
  },
  {
   "cell_type": "code",
   "execution_count": 16,
   "metadata": {},
   "outputs": [
    {
     "name": "stdout",
     "output_type": "stream",
     "text": [
      "Real values: Counter({0: 105, -2: 95, -3: 69, 1: 58, 3: 53, 2: 35, -1: 34})\n",
      "Predicted values: Counter({-1: 158, 2: 147, 3: 64, -3: 42, -2: 21, 1: 17}) \n",
      "\n",
      "Accuracy: 0.102449888641\n",
      "Accuracy for small interval: 0.407572383073\n",
      "Accuracy for right direction: 0.43429844098 \n",
      "\n",
      "Classwise evaluation:\n",
      "             precision    recall  f1-score   support\n",
      "\n",
      "         -3       0.00      0.00      0.00        69\n",
      "         -2       0.00      0.00      0.00        95\n",
      "         -1       0.08      0.50      0.13        34\n",
      "          0       0.00      0.00      0.00       105\n",
      "          1       0.14      0.55      0.22        58\n",
      "          2       0.00      0.00      0.00        35\n",
      "          3       0.00      0.00      0.00        53\n",
      "\n",
      "avg / total       0.02      0.11      0.04       449\n",
      "\n"
     ]
    },
    {
     "name": "stderr",
     "output_type": "stream",
     "text": [
      "/home/hendaet/anaconda3/lib/python3.6/site-packages/sklearn/metrics/classification.py:1113: UndefinedMetricWarning: Precision and F-score are ill-defined and being set to 0.0 in labels with no predicted samples.\n",
      "  'precision', 'predicted', average, warn_for)\n"
     ]
    }
   ],
   "source": [
    "from sklearn.naive_bayes import MultinomialNB \n",
    "\n",
    "mnb = MultinomialNB()\n",
    "mnb.fit(X_train, y_train)\n",
    "evaluate_model(mnb, X_test, y_test)\n"
   ]
  },
  {
   "cell_type": "markdown",
   "metadata": {},
   "source": [
    "## Training with Grid Search"
   ]
  },
  {
   "cell_type": "code",
   "execution_count": 21,
   "metadata": {},
   "outputs": [
    {
     "name": "stdout",
     "output_type": "stream",
     "text": [
      "Fitting 5 folds for each of 5 candidates, totalling 25 fits\n",
      "[CV] C=0.001 .........................................................\n",
      "[CV] .......................... C=0.001, score=0.347280, total=   0.8s\n",
      "[CV] C=0.001 .........................................................\n"
     ]
    },
    {
     "name": "stderr",
     "output_type": "stream",
     "text": [
      "[Parallel(n_jobs=1)]: Done   1 out of   1 | elapsed:    1.1s remaining:    0.0s\n"
     ]
    },
    {
     "name": "stdout",
     "output_type": "stream",
     "text": [
      "[CV] .......................... C=0.001, score=0.348739, total=   0.9s\n",
      "[CV] C=0.001 .........................................................\n"
     ]
    },
    {
     "name": "stderr",
     "output_type": "stream",
     "text": [
      "[Parallel(n_jobs=1)]: Done   2 out of   2 | elapsed:    2.3s remaining:    0.0s\n"
     ]
    },
    {
     "name": "stdout",
     "output_type": "stream",
     "text": [
      "[CV] .......................... C=0.001, score=0.338983, total=   0.8s\n",
      "[CV] C=0.001 .........................................................\n"
     ]
    },
    {
     "name": "stderr",
     "output_type": "stream",
     "text": [
      "[Parallel(n_jobs=1)]: Done   3 out of   3 | elapsed:    3.5s remaining:    0.0s\n"
     ]
    },
    {
     "name": "stdout",
     "output_type": "stream",
     "text": [
      "[CV] .......................... C=0.001, score=0.348936, total=   0.9s\n",
      "[CV] C=0.001 .........................................................\n"
     ]
    },
    {
     "name": "stderr",
     "output_type": "stream",
     "text": [
      "[Parallel(n_jobs=1)]: Done   4 out of   4 | elapsed:    4.6s remaining:    0.0s\n"
     ]
    },
    {
     "name": "stdout",
     "output_type": "stream",
     "text": [
      "[CV] .......................... C=0.001, score=0.334764, total=   0.9s\n",
      "[CV] C=0.01 ..........................................................\n"
     ]
    },
    {
     "name": "stderr",
     "output_type": "stream",
     "text": [
      "[Parallel(n_jobs=1)]: Done   5 out of   5 | elapsed:    5.7s remaining:    0.0s\n"
     ]
    },
    {
     "name": "stdout",
     "output_type": "stream",
     "text": [
      "[CV] ........................... C=0.01, score=0.380753, total=   1.2s\n",
      "[CV] C=0.01 ..........................................................\n"
     ]
    },
    {
     "name": "stderr",
     "output_type": "stream",
     "text": [
      "[Parallel(n_jobs=1)]: Done   6 out of   6 | elapsed:    7.2s remaining:    0.0s\n"
     ]
    },
    {
     "name": "stdout",
     "output_type": "stream",
     "text": [
      "[CV] ........................... C=0.01, score=0.315126, total=   1.1s\n",
      "[CV] C=0.01 ..........................................................\n"
     ]
    },
    {
     "name": "stderr",
     "output_type": "stream",
     "text": [
      "[Parallel(n_jobs=1)]: Done   7 out of   7 | elapsed:    8.6s remaining:    0.0s\n"
     ]
    },
    {
     "name": "stdout",
     "output_type": "stream",
     "text": [
      "[CV] ........................... C=0.01, score=0.292373, total=   1.1s\n",
      "[CV] C=0.01 ..........................................................\n"
     ]
    },
    {
     "name": "stderr",
     "output_type": "stream",
     "text": [
      "[Parallel(n_jobs=1)]: Done   8 out of   8 | elapsed:   10.0s remaining:    0.0s\n"
     ]
    },
    {
     "name": "stdout",
     "output_type": "stream",
     "text": [
      "[CV] ........................... C=0.01, score=0.327660, total=   1.3s\n",
      "[CV] C=0.01 ..........................................................\n"
     ]
    },
    {
     "name": "stderr",
     "output_type": "stream",
     "text": [
      "[Parallel(n_jobs=1)]: Done   9 out of   9 | elapsed:   11.6s remaining:    0.0s\n"
     ]
    },
    {
     "name": "stdout",
     "output_type": "stream",
     "text": [
      "[CV] ........................... C=0.01, score=0.334764, total=   1.1s\n",
      "[CV] C=0.1 ...........................................................\n",
      "[CV] ............................ C=0.1, score=0.364017, total=   2.2s\n",
      "[CV] C=0.1 ...........................................................\n",
      "[CV] ............................ C=0.1, score=0.281513, total=   1.9s\n",
      "[CV] C=0.1 ...........................................................\n",
      "[CV] ............................ C=0.1, score=0.275424, total=   2.4s\n",
      "[CV] C=0.1 ...........................................................\n",
      "[CV] ............................ C=0.1, score=0.319149, total=   2.2s\n",
      "[CV] C=0.1 ...........................................................\n",
      "[CV] ............................ C=0.1, score=0.300429, total=   1.8s\n",
      "[CV] C=1 .............................................................\n",
      "[CV] .............................. C=1, score=0.351464, total=   3.4s\n",
      "[CV] C=1 .............................................................\n",
      "[CV] .............................. C=1, score=0.281513, total=   3.0s\n",
      "[CV] C=1 .............................................................\n",
      "[CV] .............................. C=1, score=0.262712, total=   3.1s\n",
      "[CV] C=1 .............................................................\n",
      "[CV] .............................. C=1, score=0.310638, total=   2.7s\n",
      "[CV] C=1 .............................................................\n",
      "[CV] .............................. C=1, score=0.304721, total=   2.6s\n",
      "[CV] C=10 ............................................................\n",
      "[CV] ............................. C=10, score=0.351464, total=   3.5s\n",
      "[CV] C=10 ............................................................\n",
      "[CV] ............................. C=10, score=0.281513, total=   4.3s\n",
      "[CV] C=10 ............................................................\n",
      "[CV] ............................. C=10, score=0.262712, total=   3.9s\n",
      "[CV] C=10 ............................................................\n",
      "[CV] ............................. C=10, score=0.306383, total=   3.8s\n",
      "[CV] C=10 ............................................................\n",
      "[CV] ............................. C=10, score=0.304721, total=   2.1s\n"
     ]
    },
    {
     "name": "stderr",
     "output_type": "stream",
     "text": [
      "[Parallel(n_jobs=1)]: Done  25 out of  25 | elapsed:  1.0min finished\n"
     ]
    },
    {
     "name": "stdout",
     "output_type": "stream",
     "text": [
      "{'C': 0.001}\n",
      "Real values: Counter({0: 105, -2: 95, -3: 69, 1: 58, 3: 53, 2: 35, -1: 34})\n",
      "Predicted values: Counter({-2: 176, 3: 167, 0: 83, 1: 13, -3: 7, 2: 2, -1: 1}) \n",
      "\n",
      "Accuracy: 0.211581291759\n",
      "Accuracy for small interval: 0.380846325167\n",
      "Accuracy for right direction: 0.403118040089 \n",
      "\n",
      "Classwise evaluation:\n",
      "             precision    recall  f1-score   support\n",
      "\n",
      "         -3       0.00      0.00      0.00        69\n",
      "         -2       0.00      0.00      0.00        95\n",
      "         -1       0.09      0.47      0.15        34\n",
      "          0       0.29      0.23      0.26       105\n",
      "          1       0.16      0.50      0.24        58\n",
      "          2       0.00      0.00      0.00        35\n",
      "          3       0.00      0.00      0.00        53\n",
      "\n",
      "avg / total       0.09      0.15      0.10       449\n",
      "\n"
     ]
    },
    {
     "name": "stderr",
     "output_type": "stream",
     "text": [
      "/home/hendaet/anaconda3/lib/python3.6/site-packages/sklearn/metrics/classification.py:1113: UndefinedMetricWarning: Precision and F-score are ill-defined and being set to 0.0 in labels with no predicted samples.\n",
      "  'precision', 'predicted', average, warn_for)\n"
     ]
    }
   ],
   "source": [
    "# Determining the hyperparameter C through grid search with cross validation\n",
    "cs = [0.001, 0.01, 0.1, 1, 10]\n",
    "grid = {'C': cs}\n",
    "\n",
    "grid_search = GridSearchCV(svm.LinearSVC(), grid, cv=5, verbose=10)\n",
    "grid_search.fit(X_train, y_train)\n",
    "print(grid_search.best_params_)\n",
    "evaluate_model(grid_search, X_test, y_test)\n"
   ]
  },
  {
   "cell_type": "markdown",
   "metadata": {},
   "source": [
    "## Feature Selection\n"
   ]
  },
  {
   "cell_type": "markdown",
   "metadata": {},
   "source": [
    "### Variance Threshold"
   ]
  },
  {
   "cell_type": "code",
   "execution_count": 22,
   "metadata": {},
   "outputs": [
    {
     "name": "stdout",
     "output_type": "stream",
     "text": [
      "Threshhold: 0\n",
      "Real values: Counter({0: 105, -2: 95, -3: 69, 1: 58, 3: 53, 2: 35, -1: 34})\n",
      "Predicted values: Counter({-2: 238, 3: 92, 0: 90, 1: 16, -3: 7, -1: 3, 2: 3}) \n",
      "\n",
      "Accuracy: 0.224944320713\n",
      "Accuracy for small interval: 0.445434298441\n",
      "Accuracy for right direction: 0.412026726058 \n",
      "\n",
      "Classwise evaluation:\n",
      "             precision    recall  f1-score   support\n",
      "\n",
      "         -3       0.00      0.00      0.00        69\n",
      "         -2       0.00      0.00      0.00        95\n",
      "         -1       0.07      0.53      0.13        34\n",
      "          0       0.28      0.24      0.26       105\n",
      "          1       0.12      0.22      0.15        58\n",
      "          2       0.00      0.00      0.00        35\n",
      "          3       0.00      0.00      0.00        53\n",
      "\n",
      "avg / total       0.09      0.12      0.09       449\n",
      "\n"
     ]
    },
    {
     "name": "stderr",
     "output_type": "stream",
     "text": [
      "/home/hendaet/anaconda3/lib/python3.6/site-packages/sklearn/metrics/classification.py:1113: UndefinedMetricWarning: Precision and F-score are ill-defined and being set to 0.0 in labels with no predicted samples.\n",
      "  'precision', 'predicted', average, warn_for)\n"
     ]
    },
    {
     "name": "stdout",
     "output_type": "stream",
     "text": [
      "Threshhold: 0.01\n",
      "Real values: Counter({0: 105, -2: 95, -3: 69, 1: 58, 3: 53, 2: 35, -1: 34})\n",
      "Predicted values: Counter({-2: 248, 0: 108, 3: 53, -1: 23, 1: 9, -3: 5, 2: 3}) \n",
      "\n",
      "Accuracy: 0.207126948775\n",
      "Accuracy for small interval: 0.423162583519\n",
      "Accuracy for right direction: 0.369710467706 \n",
      "\n",
      "Classwise evaluation:\n",
      "             precision    recall  f1-score   support\n",
      "\n",
      "         -3       0.00      0.00      0.00        69\n",
      "         -2       0.00      0.00      0.00        95\n",
      "         -1       0.07      0.53      0.12        34\n",
      "          0       0.23      0.24      0.23       105\n",
      "          1       0.08      0.09      0.08        58\n",
      "          2       0.00      0.00      0.00        35\n",
      "          3       0.00      0.00      0.00        53\n",
      "\n",
      "avg / total       0.07      0.11      0.07       449\n",
      "\n",
      "Threshhold: 0.05\n",
      "Real values: Counter({0: 105, -2: 95, -3: 69, 1: 58, 3: 53, 2: 35, -1: 34})\n",
      "Predicted values: Counter({-2: 199, 0: 134, -1: 66, 3: 17, 1: 13, 2: 10, -3: 10}) \n",
      "\n",
      "Accuracy: 0.198218262806\n",
      "Accuracy for small interval: 0.463251670379\n",
      "Accuracy for right direction: 0.354120267261 \n",
      "\n",
      "Classwise evaluation:\n",
      "             precision    recall  f1-score   support\n",
      "\n",
      "         -3       0.00      0.00      0.00        69\n",
      "         -2       0.00      0.00      0.00        95\n",
      "         -1       0.06      0.47      0.10        34\n",
      "          0       0.21      0.27      0.23       105\n",
      "          1       0.15      0.10      0.12        58\n",
      "          2       0.00      0.00      0.00        35\n",
      "          3       0.00      0.00      0.00        53\n",
      "\n",
      "avg / total       0.07      0.11      0.08       449\n",
      "\n",
      "Threshhold: 0.1\n",
      "Real values: Counter({0: 105, -2: 95, -3: 69, 1: 58, 3: 53, 2: 35, -1: 34})\n",
      "Predicted values: Counter({-2: 352, -3: 55, 0: 26, 3: 9, -1: 4, 1: 3}) \n",
      "\n",
      "Accuracy: 0.189309576837\n",
      "Accuracy for small interval: 0.409799554566\n",
      "Accuracy for right direction: 0.403118040089 \n",
      "\n",
      "Classwise evaluation:\n",
      "             precision    recall  f1-score   support\n",
      "\n",
      "         -3       0.00      0.00      0.00        69\n",
      "         -2       0.00      0.00      0.00        95\n",
      "         -1       0.08      0.91      0.14        34\n",
      "          0       0.12      0.03      0.05       105\n",
      "          1       0.00      0.00      0.00        58\n",
      "          2       0.00      0.00      0.00        35\n",
      "          3       0.00      0.00      0.00        53\n",
      "\n",
      "avg / total       0.03      0.08      0.02       449\n",
      "\n",
      "Threshhold: 0.5\n",
      "Real values: Counter({0: 105, -2: 95, -3: 69, 1: 58, 3: 53, 2: 35, -1: 34})\n",
      "Predicted values: Counter({0: 372, 3: 77}) \n",
      "\n",
      "Accuracy: 0.202672605791\n",
      "Accuracy for small interval: 0.391982182628\n",
      "Accuracy for right direction: 0.247216035635 \n",
      "\n",
      "Classwise evaluation:\n",
      "             precision    recall  f1-score   support\n",
      "\n",
      "         -3       0.00      0.00      0.00        69\n",
      "         -2       0.00      0.00      0.00        95\n",
      "         -1       0.00      0.00      0.00        34\n",
      "          0       0.22      0.78      0.34       105\n",
      "          1       0.14      0.19      0.16        58\n",
      "          2       0.00      0.00      0.00        35\n",
      "          3       0.00      0.00      0.00        53\n",
      "\n",
      "avg / total       0.07      0.21      0.10       449\n",
      "\n"
     ]
    }
   ],
   "source": [
    "# Variance threshold removes all the features which variance is smaller than a certain percentage\n",
    "thresholds = [0, 0.01, 0.05, 0.1, 0.5]\n",
    "\n",
    "for threshold in thresholds:\n",
    "    variance_selector = VarianceThreshold(threshold)\n",
    "    X_train_selected = variance_selector.fit_transform(X_train)\n",
    "    X_test_selected = variance_selector.transform(X_test)\n",
    "\n",
    "    print(\"Threshhold:\", threshold)\n",
    "    fit_and_eval_svm(X_train_selected, y_train, X_test_selected, y_test)\n"
   ]
  },
  {
   "cell_type": "markdown",
   "metadata": {},
   "source": [
    "### Selection of kBest"
   ]
  },
  {
   "cell_type": "code",
   "execution_count": 23,
   "metadata": {},
   "outputs": [
    {
     "name": "stdout",
     "output_type": "stream",
     "text": [
      "k: 10\n",
      "Real values: Counter({0: 105, -2: 95, -3: 69, 1: 58, 3: 53, 2: 35, -1: 34})\n",
      "Predicted values: Counter({0: 411, 3: 34, -2: 4}) \n",
      "\n",
      "Accuracy: 0.213808463252\n",
      "Accuracy for small interval: 0.41425389755\n",
      "Accuracy for right direction: 0.227171492205 \n",
      "\n",
      "Classwise evaluation:\n",
      "             precision    recall  f1-score   support\n",
      "\n",
      "         -3       0.00      0.00      0.00        69\n",
      "         -2       0.00      0.00      0.00        95\n",
      "         -1       0.00      0.00      0.00        34\n",
      "          0       0.22      0.85      0.34       105\n",
      "          1       0.06      0.03      0.04        58\n",
      "          2       0.00      0.00      0.00        35\n",
      "          3       0.00      0.00      0.00        53\n",
      "\n",
      "avg / total       0.06      0.20      0.09       449\n",
      "\n"
     ]
    },
    {
     "name": "stderr",
     "output_type": "stream",
     "text": [
      "/home/hendaet/anaconda3/lib/python3.6/site-packages/sklearn/metrics/classification.py:1113: UndefinedMetricWarning: Precision and F-score are ill-defined and being set to 0.0 in labels with no predicted samples.\n",
      "  'precision', 'predicted', average, warn_for)\n"
     ]
    },
    {
     "name": "stdout",
     "output_type": "stream",
     "text": [
      "k: 50\n",
      "Real values: Counter({0: 105, -2: 95, -3: 69, 1: 58, 3: 53, 2: 35, -1: 34})\n",
      "Predicted values: Counter({0: 400, -2: 36, 1: 7, 3: 3, 2: 2, -1: 1}) \n",
      "\n",
      "Accuracy: 0.202672605791\n",
      "Accuracy for small interval: 0.405345211581\n",
      "Accuracy for right direction: 0.213808463252 \n",
      "\n",
      "Classwise evaluation:\n",
      "             precision    recall  f1-score   support\n",
      "\n",
      "         -3       0.00      0.00      0.00        69\n",
      "         -2       0.00      0.00      0.00        95\n",
      "         -1       0.08      0.09      0.08        34\n",
      "          0       0.21      0.81      0.34       105\n",
      "          1       0.08      0.02      0.03        58\n",
      "          2       0.00      0.00      0.00        35\n",
      "          3       0.00      0.00      0.00        53\n",
      "\n",
      "avg / total       0.07      0.20      0.09       449\n",
      "\n",
      "k: 100\n",
      "Real values: Counter({0: 105, -2: 95, -3: 69, 1: 58, 3: 53, 2: 35, -1: 34})\n",
      "Predicted values: Counter({0: 402, -2: 21, -1: 7, 1: 7, 3: 6, -3: 4, 2: 2}) \n",
      "\n",
      "Accuracy: 0.224944320713\n",
      "Accuracy for small interval: 0.438752783964\n",
      "Accuracy for right direction: 0.251670378619 \n",
      "\n",
      "Classwise evaluation:\n",
      "             precision    recall  f1-score   support\n",
      "\n",
      "         -3       0.00      0.00      0.00        69\n",
      "         -2       0.00      0.00      0.00        95\n",
      "         -1       0.09      0.09      0.09        34\n",
      "          0       0.23      0.90      0.37       105\n",
      "          1       0.13      0.03      0.05        58\n",
      "          2       0.00      0.00      0.00        35\n",
      "          3       0.00      0.00      0.00        53\n",
      "\n",
      "avg / total       0.08      0.22      0.10       449\n",
      "\n",
      "k: 200\n",
      "Real values: Counter({0: 105, -2: 95, -3: 69, 1: 58, 3: 53, 2: 35, -1: 34})\n",
      "Predicted values: Counter({0: 335, -2: 39, -3: 28, 1: 27, 2: 11, -1: 6, 3: 3}) \n",
      "\n",
      "Accuracy: 0.202672605791\n",
      "Accuracy for small interval: 0.41425389755\n",
      "Accuracy for right direction: 0.244988864143 \n",
      "\n",
      "Classwise evaluation:\n",
      "             precision    recall  f1-score   support\n",
      "\n",
      "         -3       0.00      0.00      0.00        69\n",
      "         -2       0.00      0.00      0.00        95\n",
      "         -1       0.07      0.15      0.09        34\n",
      "          0       0.22      0.71      0.34       105\n",
      "          1       0.12      0.09      0.10        58\n",
      "          2       0.00      0.00      0.00        35\n",
      "          3       0.00      0.00      0.00        53\n",
      "\n",
      "avg / total       0.07      0.19      0.10       449\n",
      "\n",
      "k: 500\n",
      "Real values: Counter({0: 105, -2: 95, -3: 69, 1: 58, 3: 53, 2: 35, -1: 34})\n",
      "Predicted values: Counter({0: 299, -2: 75, -1: 21, -3: 20, 1: 17, 2: 10, 3: 7}) \n",
      "\n",
      "Accuracy: 0.209354120267\n",
      "Accuracy for small interval: 0.438752783964\n",
      "Accuracy for right direction: 0.296213808463 \n",
      "\n",
      "Classwise evaluation:\n",
      "             precision    recall  f1-score   support\n",
      "\n",
      "         -3       0.00      0.00      0.00        69\n",
      "         -2       0.00      0.00      0.00        95\n",
      "         -1       0.09      0.29      0.13        34\n",
      "          0       0.24      0.68      0.35       105\n",
      "          1       0.09      0.05      0.07        58\n",
      "          2       0.00      0.00      0.00        35\n",
      "          3       0.00      0.00      0.00        53\n",
      "\n",
      "avg / total       0.07      0.19      0.10       449\n",
      "\n",
      "k: 1000\n",
      "Real values: Counter({0: 105, -2: 95, -3: 69, 1: 58, 3: 53, 2: 35, -1: 34})\n",
      "Predicted values: Counter({0: 248, -2: 103, 2: 40, -1: 22, 1: 20, -3: 9, 3: 7}) \n",
      "\n",
      "Accuracy: 0.200445434298\n",
      "Accuracy for small interval: 0.445434298441\n",
      "Accuracy for right direction: 0.314031180401 \n",
      "\n",
      "Classwise evaluation:\n",
      "             precision    recall  f1-score   support\n",
      "\n",
      "         -3       0.00      0.00      0.00        69\n",
      "         -2       0.00      0.00      0.00        95\n",
      "         -1       0.07      0.26      0.11        34\n",
      "          0       0.24      0.56      0.33       105\n",
      "          1       0.13      0.16      0.14        58\n",
      "          2       0.00      0.00      0.00        35\n",
      "          3       0.00      0.00      0.00        53\n",
      "\n",
      "avg / total       0.08      0.17      0.10       449\n",
      "\n",
      "k: 5000\n",
      "Real values: Counter({0: 105, -2: 95, -3: 69, 1: 58, 3: 53, 2: 35, -1: 34})\n",
      "Predicted values: Counter({0: 204, -2: 119, 1: 56, -1: 33, -3: 18, 3: 13, 2: 6}) \n",
      "\n",
      "Accuracy: 0.207126948775\n",
      "Accuracy for small interval: 0.427616926503\n",
      "Accuracy for right direction: 0.327394209354 \n",
      "\n",
      "Classwise evaluation:\n",
      "             precision    recall  f1-score   support\n",
      "\n",
      "         -3       0.00      0.00      0.00        69\n",
      "         -2       0.00      0.00      0.00        95\n",
      "         -1       0.07      0.35      0.12        34\n",
      "          0       0.24      0.46      0.31       105\n",
      "          1       0.16      0.21      0.18        58\n",
      "          2       0.00      0.00      0.00        35\n",
      "          3       0.00      0.00      0.00        53\n",
      "\n",
      "avg / total       0.08      0.16      0.10       449\n",
      "\n"
     ]
    }
   ],
   "source": [
    "# Uses chi square to find significance of features and only selects the top k features\n",
    "ks = [10, 50, 100, 200, 500, 1000, 5000]\n",
    "\n",
    "for k in ks:\n",
    "    kbest_selector = SelectKBest(chi2, k=k)\n",
    "    X_train_selected = kbest_selector.fit_transform(X_train, y_train)\n",
    "    X_test_selected = kbest_selector.transform(X_test)\n",
    "    \n",
    "    print(\"k:\", k)\n",
    "    fit_and_eval_svm(X_train_selected, y_train, X_test_selected, y_test)\n"
   ]
  },
  {
   "cell_type": "markdown",
   "metadata": {},
   "source": [
    "### Recursive Feature Elimination with Cross Validation\n"
   ]
  },
  {
   "cell_type": "code",
   "execution_count": null,
   "metadata": {
    "collapsed": true
   },
   "outputs": [],
   "source": [
    "# Another form of feature selection\n",
    "\n",
    "selector = RFECV(svm.LinearSVC(), step=500, cv=5, verbose=10)\n",
    "selector.fit(X_train, y_train)\n",
    "evaluate_model(selector, X_test, y_test)\n"
   ]
  },
  {
   "cell_type": "code",
   "execution_count": null,
   "metadata": {
    "collapsed": true
   },
   "outputs": [],
   "source": []
  }
 ],
 "metadata": {
  "kernelspec": {
   "display_name": "Python 3",
   "language": "python",
   "name": "python3"
  },
  "language_info": {
   "codemirror_mode": {
    "name": "ipython",
    "version": 3
   },
   "file_extension": ".py",
   "mimetype": "text/x-python",
   "name": "python",
   "nbconvert_exporter": "python",
   "pygments_lexer": "ipython3",
   "version": "3.6.1"
  }
 },
 "nbformat": 4,
 "nbformat_minor": 1
}
