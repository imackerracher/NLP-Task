{
 "cells": [
  {
   "cell_type": "code",
   "execution_count": 1,
   "metadata": {
    "collapsed": true
   },
   "outputs": [],
   "source": [
    "import pickle\n",
    "import re\n",
    "import numpy as np\n",
    "from nltk.tokenize import TweetTokenizer\n",
    "from sklearn import svm\n",
    "from sklearn import metrics\n",
    "from sklearn.model_selection import GridSearchCV\n",
    "from sklearn.feature_extraction.text import CountVectorizer\n",
    "from sklearn.feature_selection import SelectKBest\n",
    "from sklearn.feature_selection import chi2\n",
    "from sklearn.feature_selection import VarianceThreshold\n",
    "from sklearn.feature_selection import RFECV\n",
    "from sklearn.svm import SVC\n",
    "from sklearn.metrics import classification_report\n",
    "from collections import Counter\n",
    "from sklearn.metrics import precision_recall_fscore_support\n",
    "from sklearn.metrics import f1_score\n",
    "from sklearn.metrics import precision_score\n",
    "from sklearn.metrics import recall_score\n",
    "\n",
    "\n",
    "from nltk.data import load\n",
    "from collections import Counter\n"
   ]
  },
  {
   "cell_type": "code",
   "execution_count": 2,
   "metadata": {},
   "outputs": [
    {
     "name": "stdout",
     "output_type": "stream",
     "text": [
      "(1181,) (449,)\n"
     ]
    }
   ],
   "source": [
    "train = np.asarray(pickle.load(open(\"train_set\", \"rb\")))\n",
    "test = np.asarray(pickle.load(open(\"test_set\", \"rb\")))\n",
    "\n",
    "print(train.shape, test.shape)"
   ]
  },
  {
   "cell_type": "code",
   "execution_count": 3,
   "metadata": {
    "collapsed": true
   },
   "outputs": [],
   "source": [
    "# Extracting valence from the dataset\n",
    "\n",
    "y_train = np.asarray([int(tweet.valence) for tweet in train])\n",
    "y_test = np.asarray([int(tweet.valence) for tweet in test])\n"
   ]
  },
  {
   "cell_type": "markdown",
   "metadata": {},
   "source": [
    "## Feature Generation\n"
   ]
  },
  {
   "cell_type": "code",
   "execution_count": 4,
   "metadata": {
    "collapsed": true
   },
   "outputs": [],
   "source": [
    "def get_num_of_hashtags(data_set):\n",
    "    # This oddly shape array is needed, because the features need to be in a column-like shape\n",
    "    X = np.zeros((len(data_set), 1))\n",
    "\n",
    "    for i, tweet in enumerate(data_set):\n",
    "        X[i, 0] = np.asarray(len(tweet.hashtags))\n",
    "\n",
    "    return X\n"
   ]
  },
  {
   "cell_type": "code",
   "execution_count": 5,
   "metadata": {
    "collapsed": true
   },
   "outputs": [],
   "source": [
    "def get_num_of_mult_punctuation(data_set):\n",
    "    # multiple punctuation means sth. like ../!!!\n",
    "    X = np.zeros((len(data_set), 1))\n",
    "\n",
    "    for i, tweet in enumerate(data_set):\n",
    "        X[i, 0] = len(re.findall(r\"[?!]{2,}\", tweet.raw))\n",
    "        \n",
    "    return X\n"
   ]
  },
  {
   "cell_type": "code",
   "execution_count": 6,
   "metadata": {
    "collapsed": true
   },
   "outputs": [],
   "source": [
    "def get_valences(data_set):\n",
    "    X = np.zeros((len(data_set), 9))\n",
    "    \n",
    "    for i, tweet in enumerate(data_set):\n",
    "        valences = [[float(valence) for valence in tweet.emoticons_valence],\n",
    "                    [float(valence) for valence in tweet.hashtags_valence],\n",
    "                    [float(valence) for valence in tweet.tokens_valence]]\n",
    "\n",
    "        for j, valence_list in enumerate(valences):\n",
    "            if len(valence_list) is not 0:\n",
    "                X[i, 3 * j] = sum(valence_list)\n",
    "                X[i, 3 * j + 1] = max(valence_list, key=abs)\n",
    "                X[i, 3 * j + 2] = valence_list[-1]\n",
    "\n",
    "    return X\n"
   ]
  },
  {
   "cell_type": "code",
   "execution_count": 7,
   "metadata": {
    "collapsed": true
   },
   "outputs": [],
   "source": [
    "def get_num_pos_tags(train, test):\n",
    "    # First find out which POS tags are possible\n",
    "    vocabulary = list(load('help/tagsets/upenn_tagset.pickle'))\n",
    "    pos_tags_train = [tweet.pos_tags for tweet in train]\n",
    "    pos_tags_test = [tweet.pos_tags for tweet in test]\n",
    "\n",
    "    # CountVectorizer is used to create a vector for each tweet. Each number in this vector \n",
    "    # represents the number of occurrences for a specific POS tag.\n",
    "    # All those vectors have the same length, which is needed to use them for the SVM.\n",
    "    vectorizer = CountVectorizer(vocabulary=vocabulary, tokenizer=lambda doc: doc, lowercase=False)\n",
    "\n",
    "    train_vector = vectorizer.transform(pos_tags_train)\n",
    "    test_vector = vectorizer.transform(pos_tags_test)\n",
    "   \n",
    "    return np.asarray(train_vector.toarray()), np.asarray(test_vector.toarray())\n",
    "\n"
   ]
  },
  {
   "cell_type": "code",
   "execution_count": 8,
   "metadata": {
    "collapsed": true
   },
   "outputs": [],
   "source": [
    "def get_ngram_vectors(train, test, method=\"word\", upper=3, lower=1):\n",
    "    # This method either extracts word (method=\"word)\" or char ngrams (method=\"char\").\n",
    "    # Again, they need to be transformed into one hot encoded vectors\n",
    "    vectorizer = CountVectorizer(ngram_range=(lower, upper), tokenizer=TweetTokenizer().tokenize, \n",
    "                                 analyzer=method)\n",
    "    \n",
    "    raw_train = [tweet.raw for tweet in train]\n",
    "    raw_test = [tweet.raw for tweet in test]\n",
    "    \n",
    "    train_vector = vectorizer.fit_transform(raw_train)\n",
    "    test_vector = vectorizer.transform(raw_test)\n",
    "\n",
    "    return np.asarray(train_vector.toarray()), np.asarray(test_vector.toarray())\n"
   ]
  },
  {
   "cell_type": "code",
   "execution_count": 9,
   "metadata": {
    "collapsed": true
   },
   "outputs": [],
   "source": [
    "from sklearn.preprocessing import normalize\n",
    "\n",
    "def extract_features(train, test):\n",
    "    word_ngram_upper_bound = 4\n",
    "    char_ngram_upper_bound = 5\n",
    "    char_ngram_lower_bound = 3\n",
    "\n",
    "    pos_vec_train, pos_vec_test = get_num_pos_tags(train, test)\n",
    "    train_word_vectors, test_word_vectors = get_ngram_vectors(\n",
    "        train, test, \"word\", word_ngram_upper_bound)\n",
    "    train_char_vectors, test_char_vectors = get_ngram_vectors(\n",
    "        train, test, \"char\", char_ngram_upper_bound, char_ngram_lower_bound)\n",
    "    \n",
    "    # Put all the features together. Each feature is represented as a column in the resulting array\n",
    "    train_features = np.concatenate([get_num_of_hashtags(train),\n",
    "                                     get_num_of_mult_punctuation(train),\n",
    "                                     pos_vec_train,\n",
    "                                     train_word_vectors,\n",
    "                                     train_char_vectors,\n",
    "                                     get_valences(train)], axis=1)\n",
    "\n",
    "    test_features = np.concatenate([get_num_of_hashtags(test),\n",
    "                                    get_num_of_mult_punctuation(test),\n",
    "                                    test_word_vectors,\n",
    "                                    test_char_vectors,\n",
    "                                    pos_vec_test,\n",
    "                                    get_valences(test)], axis=1)\n",
    "\n",
    "    return train_features, test_features\n"
   ]
  },
  {
   "cell_type": "code",
   "execution_count": 10,
   "metadata": {
    "collapsed": true
   },
   "outputs": [],
   "source": [
    "def normalise_features(train, test):\n",
    "    train = normalize(train)\n",
    "    test = normalize(test)\n",
    "    \n",
    "    return train, test\n",
    "    "
   ]
  },
  {
   "cell_type": "code",
   "execution_count": 11,
   "metadata": {
    "collapsed": true
   },
   "outputs": [],
   "source": [
    "# Extract non normalized features\n",
    "X_train_nn, X_test_nn = extract_features(train, test)\n",
    "# remove all constant features and normalise\n",
    "X_train, X_test = normalise_features(X_train_nn, X_test_nn)\n"
   ]
  },
  {
   "cell_type": "markdown",
   "metadata": {},
   "source": [
    "## Baseline"
   ]
  },
  {
   "cell_type": "code",
   "execution_count": 12,
   "metadata": {
    "collapsed": true
   },
   "outputs": [],
   "source": [
    "def transform_to_pos_neg(np_array):\n",
    "    np_array[np_array < 0] = -1\n",
    "    np_array[np_array > 0] = 1\n",
    "    \n",
    "    return np_array\n"
   ]
  },
  {
   "cell_type": "code",
   "execution_count": 13,
   "metadata": {
    "collapsed": true
   },
   "outputs": [],
   "source": [
    "results = []\n",
    "\n",
    "def evaluate_model(model, X, y):\n",
    "    # To make sure that the original y is not modified when applying the transform_to... function\n",
    "    y_copy = np.copy(y)  \n",
    "    prediction = model.predict(X)\n",
    "    \n",
    "    print(\"Real values:\", Counter(y))\n",
    "    print(\"Predicted values:\", Counter(prediction), \"\\n\")\n",
    "\n",
    "    acc = metrics.accuracy_score(y, prediction)\n",
    "    print(\"Accuracy:\", acc)\n",
    "    \n",
    "    precision = precision_score(y, prediction, average=\"weighted\")\n",
    "    recall = recall_score(y, prediction, average=\"weighted\")\n",
    "    f1 = f1_score(y, prediction, average=\"weighted\")\n",
    "\n",
    "    # Accuracy if predicted value is +-1\n",
    "    acc_interval = acc + metrics.accuracy_score(y_copy + 1, prediction) \\\n",
    "                   + metrics.accuracy_score(y_copy - 1, prediction)\n",
    "    print(\"Accuracy for small interval:\", acc_interval)\n",
    "\n",
    "    # checks if at least the predicted direction is the right one\n",
    "    acc_dir = metrics.accuracy_score(transform_to_pos_neg(y_copy), transform_to_pos_neg(prediction))\n",
    "    print(\"Accuracy for right direction:\", acc_dir, \"\\n\")\n",
    "    \n",
    "    print(\"Classwise evaluation:\")\n",
    "    print(classification_report(y, prediction))\n",
    "    \n",
    "    class_scores = np.asarray(precision_recall_fscore_support(y, prediction))\n",
    "    \n",
    "    results.append([acc, acc_interval, acc_dir, precision, recall, f1])\n"
   ]
  },
  {
   "cell_type": "code",
   "execution_count": 14,
   "metadata": {
    "collapsed": true
   },
   "outputs": [],
   "source": [
    "def fit_and_eval_svm(X_train, y_train, X_test, y_test):\n",
    "    lin_svm = svm.LinearSVC()\n",
    "    lin_svm.fit(X_train, y_train)\n",
    "    evaluate_model(lin_svm, X_test, y_test)"
   ]
  },
  {
   "cell_type": "code",
   "execution_count": 15,
   "metadata": {
    "scrolled": true
   },
   "outputs": [
    {
     "name": "stdout",
     "output_type": "stream",
     "text": [
      "Real values: Counter({0: 105, -2: 95, -3: 69, 1: 58, 3: 53, 2: 35, -1: 34})\n",
      "Predicted values: Counter({-2: 247, 0: 106, 3: 43, 1: 40, -3: 11, 2: 2}) \n",
      "\n",
      "Accuracy: 0.3429844098\n",
      "Accuracy for small interval: 0.650334075724\n",
      "Accuracy for right direction: 0.610244988864 \n",
      "\n",
      "Classwise evaluation:\n",
      "             precision    recall  f1-score   support\n",
      "\n",
      "         -3       0.00      0.00      0.00        69\n",
      "         -2       0.00      0.00      0.00        95\n",
      "         -1       0.09      0.71      0.16        34\n",
      "          0       0.33      0.33      0.33       105\n",
      "          1       0.21      0.31      0.25        58\n",
      "          2       0.00      0.00      0.00        35\n",
      "          3       0.00      0.00      0.00        53\n",
      "\n",
      "avg / total       0.11      0.17      0.12       449\n",
      "\n"
     ]
    },
    {
     "name": "stderr",
     "output_type": "stream",
     "text": [
      "/home/hendaet/anaconda3/lib/python3.6/site-packages/sklearn/metrics/classification.py:1113: UndefinedMetricWarning: Precision is ill-defined and being set to 0.0 in labels with no predicted samples.\n",
      "  'precision', 'predicted', average, warn_for)\n",
      "/home/hendaet/anaconda3/lib/python3.6/site-packages/sklearn/metrics/classification.py:1113: UndefinedMetricWarning: F-score is ill-defined and being set to 0.0 in labels with no predicted samples.\n",
      "  'precision', 'predicted', average, warn_for)\n",
      "/home/hendaet/anaconda3/lib/python3.6/site-packages/sklearn/metrics/classification.py:1113: UndefinedMetricWarning: Precision and F-score are ill-defined and being set to 0.0 in labels with no predicted samples.\n",
      "  'precision', 'predicted', average, warn_for)\n"
     ]
    }
   ],
   "source": [
    "fit_and_eval_svm(X_train, y_train, X_test, y_test)"
   ]
  },
  {
   "cell_type": "markdown",
   "metadata": {},
   "source": [
    "## Radial Linear SVM (comparison)"
   ]
  },
  {
   "cell_type": "code",
   "execution_count": 16,
   "metadata": {
    "scrolled": false
   },
   "outputs": [
    {
     "name": "stdout",
     "output_type": "stream",
     "text": [
      "Real values: Counter({0: 105, -2: 95, -3: 69, 1: 58, 3: 53, 2: 35, -1: 34})\n",
      "Predicted values: Counter({0: 449}) \n",
      "\n",
      "Accuracy: 0.233853006682\n",
      "Accuracy for small interval: 0.438752783964\n",
      "Accuracy for right direction: 0.233853006682 \n",
      "\n",
      "Classwise evaluation:\n",
      "             precision    recall  f1-score   support\n",
      "\n",
      "         -3       0.00      0.00      0.00        69\n",
      "         -2       0.00      0.00      0.00        95\n",
      "         -1       0.00      0.00      0.00        34\n",
      "          0       0.23      1.00      0.38       105\n",
      "          1       0.00      0.00      0.00        58\n",
      "          2       0.00      0.00      0.00        35\n",
      "          3       0.00      0.00      0.00        53\n",
      "\n",
      "avg / total       0.05      0.23      0.09       449\n",
      "\n"
     ]
    },
    {
     "name": "stderr",
     "output_type": "stream",
     "text": [
      "/home/hendaet/anaconda3/lib/python3.6/site-packages/sklearn/metrics/classification.py:1113: UndefinedMetricWarning: Precision is ill-defined and being set to 0.0 in labels with no predicted samples.\n",
      "  'precision', 'predicted', average, warn_for)\n",
      "/home/hendaet/anaconda3/lib/python3.6/site-packages/sklearn/metrics/classification.py:1113: UndefinedMetricWarning: F-score is ill-defined and being set to 0.0 in labels with no predicted samples.\n",
      "  'precision', 'predicted', average, warn_for)\n",
      "/home/hendaet/anaconda3/lib/python3.6/site-packages/sklearn/metrics/classification.py:1113: UndefinedMetricWarning: Precision and F-score are ill-defined and being set to 0.0 in labels with no predicted samples.\n",
      "  'precision', 'predicted', average, warn_for)\n"
     ]
    }
   ],
   "source": [
    "non_lin_svm = SVC()\n",
    "non_lin_svm.fit(X_train, y_train)\n",
    "evaluate_model(non_lin_svm, X_test, y_test)"
   ]
  },
  {
   "cell_type": "markdown",
   "metadata": {},
   "source": [
    "## Naive Bayes (comparison)"
   ]
  },
  {
   "cell_type": "code",
   "execution_count": 17,
   "metadata": {},
   "outputs": [
    {
     "name": "stdout",
     "output_type": "stream",
     "text": [
      "Real values: Counter({0: 105, -2: 95, -3: 69, 1: 58, 3: 53, 2: 35, -1: 34})\n",
      "Predicted values: Counter({0: 308, -2: 96, 3: 45}) \n",
      "\n",
      "Accuracy: 0.216035634744\n",
      "Accuracy for small interval: 0.412026726058\n",
      "Accuracy for right direction: 0.293986636971 \n",
      "\n",
      "Classwise evaluation:\n",
      "             precision    recall  f1-score   support\n",
      "\n",
      "         -3       0.00      0.00      0.00        69\n",
      "         -2       0.00      0.00      0.00        95\n",
      "         -1       0.06      0.18      0.09        34\n",
      "          0       0.23      0.68      0.34       105\n",
      "          1       0.18      0.14      0.16        58\n",
      "          2       0.00      0.00      0.00        35\n",
      "          3       0.00      0.00      0.00        53\n",
      "\n",
      "avg / total       0.08      0.19      0.11       449\n",
      "\n"
     ]
    },
    {
     "name": "stderr",
     "output_type": "stream",
     "text": [
      "/home/hendaet/anaconda3/lib/python3.6/site-packages/sklearn/metrics/classification.py:1113: UndefinedMetricWarning: Precision is ill-defined and being set to 0.0 in labels with no predicted samples.\n",
      "  'precision', 'predicted', average, warn_for)\n",
      "/home/hendaet/anaconda3/lib/python3.6/site-packages/sklearn/metrics/classification.py:1113: UndefinedMetricWarning: F-score is ill-defined and being set to 0.0 in labels with no predicted samples.\n",
      "  'precision', 'predicted', average, warn_for)\n",
      "/home/hendaet/anaconda3/lib/python3.6/site-packages/sklearn/metrics/classification.py:1113: UndefinedMetricWarning: Precision and F-score are ill-defined and being set to 0.0 in labels with no predicted samples.\n",
      "  'precision', 'predicted', average, warn_for)\n"
     ]
    }
   ],
   "source": [
    "from sklearn.naive_bayes import GaussianNB\n",
    "\n",
    "gnb = GaussianNB()\n",
    "gnb.fit(X_train_nn, y_train)\n",
    "evaluate_model(gnb, X_test_nn, y_test)"
   ]
  },
  {
   "cell_type": "code",
   "execution_count": 18,
   "metadata": {
    "collapsed": true
   },
   "outputs": [],
   "source": [
    "# Not suitable anymore because of nature of the data\n",
    "# from sklearn.naive_bayes import MultinomialNB \n",
    "\n",
    "# mnb = MultinomialNB()\n",
    "# mnb.fit(X_train, y_train)\n",
    "# evaluate_model(mnb, X_test, y_test)\n"
   ]
  },
  {
   "cell_type": "markdown",
   "metadata": {},
   "source": [
    "## Training with Grid Search"
   ]
  },
  {
   "cell_type": "code",
   "execution_count": 19,
   "metadata": {},
   "outputs": [
    {
     "name": "stdout",
     "output_type": "stream",
     "text": [
      "Fitting 5 folds for each of 5 candidates, totalling 25 fits\n",
      "[CV] C=0.001 .........................................................\n",
      "[CV] .......................... C=0.001, score=0.288703, total=   0.8s\n",
      "[CV] C=0.001 .........................................................\n"
     ]
    },
    {
     "name": "stderr",
     "output_type": "stream",
     "text": [
      "[Parallel(n_jobs=1)]: Done   1 out of   1 | elapsed:    1.1s remaining:    0.0s\n"
     ]
    },
    {
     "name": "stdout",
     "output_type": "stream",
     "text": [
      "[CV] .......................... C=0.001, score=0.285714, total=   0.8s\n",
      "[CV] C=0.001 .........................................................\n"
     ]
    },
    {
     "name": "stderr",
     "output_type": "stream",
     "text": [
      "[Parallel(n_jobs=1)]: Done   2 out of   2 | elapsed:    2.1s remaining:    0.0s\n"
     ]
    },
    {
     "name": "stdout",
     "output_type": "stream",
     "text": [
      "[CV] .......................... C=0.001, score=0.288136, total=   0.8s\n",
      "[CV] C=0.001 .........................................................\n"
     ]
    },
    {
     "name": "stderr",
     "output_type": "stream",
     "text": [
      "[Parallel(n_jobs=1)]: Done   3 out of   3 | elapsed:    3.2s remaining:    0.0s\n"
     ]
    },
    {
     "name": "stdout",
     "output_type": "stream",
     "text": [
      "[CV] .......................... C=0.001, score=0.289362, total=   0.8s\n",
      "[CV] C=0.001 .........................................................\n"
     ]
    },
    {
     "name": "stderr",
     "output_type": "stream",
     "text": [
      "[Parallel(n_jobs=1)]: Done   4 out of   4 | elapsed:    4.3s remaining:    0.0s\n"
     ]
    },
    {
     "name": "stdout",
     "output_type": "stream",
     "text": [
      "[CV] .......................... C=0.001, score=0.291845, total=   0.8s\n",
      "[CV] C=0.01 ..........................................................\n"
     ]
    },
    {
     "name": "stderr",
     "output_type": "stream",
     "text": [
      "[Parallel(n_jobs=1)]: Done   5 out of   5 | elapsed:    5.3s remaining:    0.0s\n"
     ]
    },
    {
     "name": "stdout",
     "output_type": "stream",
     "text": [
      "[CV] ........................... C=0.01, score=0.330544, total=   0.7s\n",
      "[CV] C=0.01 ..........................................................\n"
     ]
    },
    {
     "name": "stderr",
     "output_type": "stream",
     "text": [
      "[Parallel(n_jobs=1)]: Done   6 out of   6 | elapsed:    6.4s remaining:    0.0s\n"
     ]
    },
    {
     "name": "stdout",
     "output_type": "stream",
     "text": [
      "[CV] ........................... C=0.01, score=0.327731, total=   0.8s\n",
      "[CV] C=0.01 ..........................................................\n"
     ]
    },
    {
     "name": "stderr",
     "output_type": "stream",
     "text": [
      "[Parallel(n_jobs=1)]: Done   7 out of   7 | elapsed:    7.4s remaining:    0.0s\n"
     ]
    },
    {
     "name": "stdout",
     "output_type": "stream",
     "text": [
      "[CV] ........................... C=0.01, score=0.309322, total=   0.8s\n",
      "[CV] C=0.01 ..........................................................\n"
     ]
    },
    {
     "name": "stderr",
     "output_type": "stream",
     "text": [
      "[Parallel(n_jobs=1)]: Done   8 out of   8 | elapsed:    8.5s remaining:    0.0s\n"
     ]
    },
    {
     "name": "stdout",
     "output_type": "stream",
     "text": [
      "[CV] ........................... C=0.01, score=0.297872, total=   0.7s\n",
      "[CV] C=0.01 ..........................................................\n"
     ]
    },
    {
     "name": "stderr",
     "output_type": "stream",
     "text": [
      "[Parallel(n_jobs=1)]: Done   9 out of   9 | elapsed:    9.5s remaining:    0.0s\n"
     ]
    },
    {
     "name": "stdout",
     "output_type": "stream",
     "text": [
      "[CV] ........................... C=0.01, score=0.326180, total=   0.8s\n",
      "[CV] C=0.1 ...........................................................\n",
      "[CV] ............................ C=0.1, score=0.414226, total=   0.8s\n",
      "[CV] C=0.1 ...........................................................\n",
      "[CV] ............................ C=0.1, score=0.378151, total=   0.8s\n",
      "[CV] C=0.1 ...........................................................\n",
      "[CV] ............................ C=0.1, score=0.377119, total=   0.8s\n",
      "[CV] C=0.1 ...........................................................\n",
      "[CV] ............................ C=0.1, score=0.370213, total=   0.8s\n",
      "[CV] C=0.1 ...........................................................\n",
      "[CV] ............................ C=0.1, score=0.386266, total=   0.8s\n",
      "[CV] C=1 .............................................................\n",
      "[CV] .............................. C=1, score=0.397490, total=   0.9s\n",
      "[CV] C=1 .............................................................\n",
      "[CV] .............................. C=1, score=0.348739, total=   0.9s\n",
      "[CV] C=1 .............................................................\n",
      "[CV] .............................. C=1, score=0.347458, total=   0.9s\n",
      "[CV] C=1 .............................................................\n",
      "[CV] .............................. C=1, score=0.370213, total=   0.9s\n",
      "[CV] C=1 .............................................................\n",
      "[CV] .............................. C=1, score=0.360515, total=   0.9s\n",
      "[CV] C=10 ............................................................\n",
      "[CV] ............................. C=10, score=0.410042, total=   2.0s\n",
      "[CV] C=10 ............................................................\n",
      "[CV] ............................. C=10, score=0.319328, total=   1.9s\n",
      "[CV] C=10 ............................................................\n",
      "[CV] ............................. C=10, score=0.305085, total=   2.0s\n",
      "[CV] C=10 ............................................................\n",
      "[CV] ............................. C=10, score=0.353191, total=   1.9s\n",
      "[CV] C=10 ............................................................\n",
      "[CV] ............................. C=10, score=0.356223, total=   1.8s\n"
     ]
    },
    {
     "name": "stderr",
     "output_type": "stream",
     "text": [
      "[Parallel(n_jobs=1)]: Done  25 out of  25 | elapsed:   33.2s finished\n"
     ]
    },
    {
     "name": "stdout",
     "output_type": "stream",
     "text": [
      "{'C': 0.1}\n",
      "Real values: Counter({0: 105, -2: 95, -3: 69, 1: 58, 3: 53, 2: 35, -1: 34})\n",
      "Predicted values: Counter({-2: 214, 0: 173, 3: 43, 1: 17, -3: 2}) \n",
      "\n",
      "Accuracy: 0.305122494432\n",
      "Accuracy for small interval: 0.641425389755\n",
      "Accuracy for right direction: 0.550111358575 \n",
      "\n",
      "Classwise evaluation:\n",
      "             precision    recall  f1-score   support\n",
      "\n",
      "         -3       0.00      0.00      0.00        69\n",
      "         -2       0.00      0.00      0.00        95\n",
      "         -1       0.10      0.65      0.18        34\n",
      "          0       0.28      0.47      0.35       105\n",
      "          1       0.13      0.14      0.14        58\n",
      "          2       0.00      0.00      0.00        35\n",
      "          3       0.00      0.00      0.00        53\n",
      "\n",
      "avg / total       0.09      0.18      0.11       449\n",
      "\n"
     ]
    },
    {
     "name": "stderr",
     "output_type": "stream",
     "text": [
      "/home/hendaet/anaconda3/lib/python3.6/site-packages/sklearn/metrics/classification.py:1113: UndefinedMetricWarning: Precision is ill-defined and being set to 0.0 in labels with no predicted samples.\n",
      "  'precision', 'predicted', average, warn_for)\n",
      "/home/hendaet/anaconda3/lib/python3.6/site-packages/sklearn/metrics/classification.py:1113: UndefinedMetricWarning: F-score is ill-defined and being set to 0.0 in labels with no predicted samples.\n",
      "  'precision', 'predicted', average, warn_for)\n",
      "/home/hendaet/anaconda3/lib/python3.6/site-packages/sklearn/metrics/classification.py:1113: UndefinedMetricWarning: Precision and F-score are ill-defined and being set to 0.0 in labels with no predicted samples.\n",
      "  'precision', 'predicted', average, warn_for)\n"
     ]
    }
   ],
   "source": [
    "# Determining the hyperparameter C through grid search with cross validation\n",
    "cs = [0.001, 0.01, 0.1, 1, 10]\n",
    "grid = {'C': cs}\n",
    "\n",
    "grid_search = GridSearchCV(svm.LinearSVC(), grid, cv=5, verbose=10)\n",
    "grid_search.fit(X_train, y_train)\n",
    "print(grid_search.best_params_)\n",
    "evaluate_model(grid_search, X_test, y_test)\n"
   ]
  },
  {
   "cell_type": "markdown",
   "metadata": {},
   "source": [
    "## Feature Selection\n"
   ]
  },
  {
   "cell_type": "markdown",
   "metadata": {},
   "source": [
    "### Variance Threshold"
   ]
  },
  {
   "cell_type": "code",
   "execution_count": 20,
   "metadata": {},
   "outputs": [
    {
     "name": "stdout",
     "output_type": "stream",
     "text": [
      "Threshhold: 0\n",
      "Real values: Counter({0: 105, -2: 95, -3: 69, 1: 58, 3: 53, 2: 35, -1: 34})\n",
      "Predicted values: Counter({-2: 164, 3: 106, -3: 62, 0: 55, 1: 45, 2: 14, -1: 3}) \n",
      "\n",
      "Accuracy: 0.354120267261\n",
      "Accuracy for small interval: 0.608017817372\n",
      "Accuracy for right direction: 0.648106904232 \n",
      "\n",
      "Classwise evaluation:\n",
      "             precision    recall  f1-score   support\n",
      "\n",
      "         -3       0.00      0.00      0.00        69\n",
      "         -2       0.00      0.00      0.00        95\n",
      "         -1       0.10      0.68      0.17        34\n",
      "          0       0.36      0.19      0.25       105\n",
      "          1       0.25      0.71      0.37        58\n",
      "          2       0.00      0.00      0.00        35\n",
      "          3       0.00      0.00      0.00        53\n",
      "\n",
      "avg / total       0.12      0.19      0.12       449\n",
      "\n",
      "Threshhold: 0.01\n"
     ]
    },
    {
     "name": "stderr",
     "output_type": "stream",
     "text": [
      "/home/hendaet/anaconda3/lib/python3.6/site-packages/sklearn/metrics/classification.py:1113: UndefinedMetricWarning: Precision and F-score are ill-defined and being set to 0.0 in labels with no predicted samples.\n",
      "  'precision', 'predicted', average, warn_for)\n"
     ]
    },
    {
     "name": "stdout",
     "output_type": "stream",
     "text": [
      "Real values: Counter({0: 105, -2: 95, -3: 69, 1: 58, 3: 53, 2: 35, -1: 34})\n",
      "Predicted values: Counter({-2: 194, 0: 90, 2: 55, 3: 53, -3: 29, 1: 15, -1: 13}) \n",
      "\n",
      "Accuracy: 0.307349665924\n",
      "Accuracy for small interval: 0.619153674833\n",
      "Accuracy for right direction: 0.587973273942 \n",
      "\n",
      "Classwise evaluation:\n",
      "             precision    recall  f1-score   support\n",
      "\n",
      "         -3       0.00      0.00      0.00        69\n",
      "         -2       0.00      0.00      0.00        95\n",
      "         -1       0.10      0.68      0.17        34\n",
      "          0       0.29      0.25      0.27       105\n",
      "          1       0.18      0.38      0.24        58\n",
      "          2       0.00      0.00      0.00        35\n",
      "          3       0.00      0.00      0.00        53\n",
      "\n",
      "avg / total       0.10      0.16      0.11       449\n",
      "\n",
      "Threshhold: 0.05\n",
      "Real values: Counter({0: 105, -2: 95, -3: 69, 1: 58, 3: 53, 2: 35, -1: 34})\n",
      "Predicted values: Counter({-2: 118, 0: 103, -3: 62, 1: 62, -1: 50, 3: 45, 2: 9}) \n",
      "\n",
      "Accuracy: 0.340757238307\n",
      "Accuracy for small interval: 0.639198218263\n",
      "Accuracy for right direction: 0.583518930958 \n",
      "\n",
      "Classwise evaluation:\n",
      "             precision    recall  f1-score   support\n",
      "\n",
      "         -3       0.00      0.00      0.00        69\n",
      "         -2       0.00      0.00      0.00        95\n",
      "         -1       0.07      0.50      0.13        34\n",
      "          0       0.30      0.30      0.30       105\n",
      "          1       0.29      0.59      0.39        58\n",
      "          2       0.00      0.00      0.00        35\n",
      "          3       0.00      0.00      0.00        53\n",
      "\n",
      "avg / total       0.11      0.18      0.13       449\n",
      "\n",
      "Threshhold: 0.1\n",
      "Real values: Counter({0: 105, -2: 95, -3: 69, 1: 58, 3: 53, 2: 35, -1: 34})\n",
      "Predicted values: Counter({-2: 137, 0: 125, 1: 73, -3: 66, 3: 36, -1: 9, 2: 3}) \n",
      "\n",
      "Accuracy: 0.365256124722\n",
      "Accuracy for small interval: 0.659242761693\n",
      "Accuracy for right direction: 0.592427616927 \n",
      "\n",
      "Classwise evaluation:\n",
      "             precision    recall  f1-score   support\n",
      "\n",
      "         -3       0.00      0.00      0.00        69\n",
      "         -2       0.00      0.00      0.00        95\n",
      "         -1       0.08      0.53      0.15        34\n",
      "          0       0.29      0.34      0.31       105\n",
      "          1       0.23      0.45      0.31        58\n",
      "          2       0.00      0.00      0.00        35\n",
      "          3       0.00      0.00      0.00        53\n",
      "\n",
      "avg / total       0.10      0.18      0.12       449\n",
      "\n",
      "Threshhold: 0.5\n",
      "Real values: Counter({0: 105, -2: 95, -3: 69, 1: 58, 3: 53, 2: 35, -1: 34})\n",
      "Predicted values: Counter({-2: 143, 0: 129, 3: 96, -3: 69, 1: 12}) \n",
      "\n",
      "Accuracy: 0.340757238307\n",
      "Accuracy for small interval: 0.603563474388\n",
      "Accuracy for right direction: 0.58574610245 \n",
      "\n",
      "Classwise evaluation:\n",
      "             precision    recall  f1-score   support\n",
      "\n",
      "         -3       0.00      0.00      0.00        69\n",
      "         -2       0.00      0.00      0.00        95\n",
      "         -1       0.10      0.62      0.17        34\n",
      "          0       0.29      0.35      0.32       105\n",
      "          1       0.21      0.40      0.28        58\n",
      "          2       0.00      0.00      0.00        35\n",
      "          3       0.00      0.00      0.00        53\n",
      "\n",
      "avg / total       0.10      0.18      0.12       449\n",
      "\n"
     ]
    },
    {
     "name": "stderr",
     "output_type": "stream",
     "text": [
      "/home/hendaet/anaconda3/lib/python3.6/site-packages/sklearn/metrics/classification.py:1113: UndefinedMetricWarning: Precision is ill-defined and being set to 0.0 in labels with no predicted samples.\n",
      "  'precision', 'predicted', average, warn_for)\n",
      "/home/hendaet/anaconda3/lib/python3.6/site-packages/sklearn/metrics/classification.py:1113: UndefinedMetricWarning: F-score is ill-defined and being set to 0.0 in labels with no predicted samples.\n",
      "  'precision', 'predicted', average, warn_for)\n"
     ]
    }
   ],
   "source": [
    "# Variance threshold removes all the features which variance is smaller than a certain percentage\n",
    "thresholds = [0, 0.01, 0.05, 0.1, 0.5]\n",
    "\n",
    "for threshold in thresholds:\n",
    "    print(\"Threshhold:\", threshold)\n",
    "    \n",
    "    variance_selector = VarianceThreshold(threshold)\n",
    "    X_train_selected = variance_selector.fit_transform(X_train_nn)\n",
    "    X_test_selected = variance_selector.transform(X_test_nn)\n",
    "    \n",
    "    fit_and_eval_svm(X_train_selected, y_train, X_test_selected, y_test)\n"
   ]
  },
  {
   "cell_type": "markdown",
   "metadata": {},
   "source": [
    "### Selection of kBest"
   ]
  },
  {
   "cell_type": "code",
   "execution_count": 21,
   "metadata": {},
   "outputs": [
    {
     "name": "stdout",
     "output_type": "stream",
     "text": [
      "k: 10\n"
     ]
    },
    {
     "name": "stderr",
     "output_type": "stream",
     "text": [
      "/home/hendaet/anaconda3/lib/python3.6/site-packages/sklearn/feature_selection/univariate_selection.py:113: UserWarning: Features [ 2  5 11 16 17 18 21 22 23 24 25 26 36 43 46] are constant.\n",
      "  UserWarning)\n",
      "/home/hendaet/anaconda3/lib/python3.6/site-packages/sklearn/feature_selection/univariate_selection.py:114: RuntimeWarning: invalid value encountered in true_divide\n",
      "  f = msb / msw\n"
     ]
    },
    {
     "name": "stdout",
     "output_type": "stream",
     "text": [
      "Num hashtags: False\n",
      "Num mult punct: False\n",
      "Pos tags Counter({False: 46})\n",
      "Word vectors Counter({False: 41532})\n",
      "Char vectors Counter({False: 79869, True: 4})\n",
      "Emoticon sum: False\n",
      "Emoticon max: False\n",
      "Emoticon last: False\n",
      "Hashtag sum: True\n",
      "Hashtag max: True\n",
      "Hashtag last: True\n",
      "Token sum: True\n",
      "Token max: True\n",
      "Token last: True \n",
      "\n",
      "Real values: Counter({0: 105, -2: 95, -3: 69, 1: 58, 3: 53, 2: 35, -1: 34})\n",
      "Predicted values: Counter({0: 220, -2: 147, 3: 46, -3: 31, 1: 5}) \n",
      "\n",
      "Accuracy: 0.371937639198\n",
      "Accuracy for small interval: 0.663697104677\n",
      "Accuracy for right direction: 0.552338530067 \n",
      "\n",
      "Classwise evaluation:\n",
      "             precision    recall  f1-score   support\n",
      "\n",
      "         -3       0.00      0.00      0.00        69\n",
      "         -2       0.00      0.00      0.00        95\n",
      "         -1       0.09      0.47      0.15        34\n",
      "          0       0.31      0.66      0.42       105\n",
      "          1       0.16      0.14      0.15        58\n",
      "          2       0.00      0.00      0.00        35\n",
      "          3       0.00      0.00      0.00        53\n",
      "\n",
      "avg / total       0.10      0.21      0.13       449\n",
      "\n",
      "k: 50\n"
     ]
    },
    {
     "name": "stderr",
     "output_type": "stream",
     "text": [
      "/home/hendaet/anaconda3/lib/python3.6/site-packages/sklearn/metrics/classification.py:1113: UndefinedMetricWarning: Precision is ill-defined and being set to 0.0 in labels with no predicted samples.\n",
      "  'precision', 'predicted', average, warn_for)\n",
      "/home/hendaet/anaconda3/lib/python3.6/site-packages/sklearn/metrics/classification.py:1113: UndefinedMetricWarning: F-score is ill-defined and being set to 0.0 in labels with no predicted samples.\n",
      "  'precision', 'predicted', average, warn_for)\n",
      "/home/hendaet/anaconda3/lib/python3.6/site-packages/sklearn/metrics/classification.py:1113: UndefinedMetricWarning: Precision and F-score are ill-defined and being set to 0.0 in labels with no predicted samples.\n",
      "  'precision', 'predicted', average, warn_for)\n"
     ]
    },
    {
     "name": "stdout",
     "output_type": "stream",
     "text": [
      "Num hashtags: True\n",
      "Num mult punct: False\n",
      "Pos tags Counter({False: 46})\n",
      "Word vectors Counter({False: 41532})\n",
      "Char vectors Counter({False: 79830, True: 43})\n",
      "Emoticon sum: False\n",
      "Emoticon max: False\n",
      "Emoticon last: False\n",
      "Hashtag sum: True\n",
      "Hashtag max: True\n",
      "Hashtag last: True\n",
      "Token sum: True\n",
      "Token max: True\n",
      "Token last: True \n",
      "\n",
      "Real values: Counter({0: 105, -2: 95, -3: 69, 1: 58, 3: 53, 2: 35, -1: 34})\n",
      "Predicted values: Counter({0: 241, -2: 155, 3: 30, -3: 21, 1: 2}) \n",
      "\n",
      "Accuracy: 0.325167037862\n",
      "Accuracy for small interval: 0.619153674833\n",
      "Accuracy for right direction: 0.487750556793 \n",
      "\n",
      "Classwise evaluation:\n",
      "             precision    recall  f1-score   support\n",
      "\n",
      "         -3       0.00      0.00      0.00        69\n",
      "         -2       0.00      0.00      0.00        95\n",
      "         -1       0.10      0.50      0.16        34\n",
      "          0       0.27      0.62      0.38       105\n",
      "          1       0.09      0.05      0.07        58\n",
      "          2       0.00      0.00      0.00        35\n",
      "          3       0.00      0.00      0.00        53\n",
      "\n",
      "avg / total       0.08      0.19      0.11       449\n",
      "\n",
      "k: 100\n",
      "Num hashtags: True\n",
      "Num mult punct: False\n",
      "Pos tags Counter({False: 46})\n",
      "Word vectors Counter({False: 41527, True: 5})\n",
      "Char vectors Counter({False: 79785, True: 88})\n",
      "Emoticon sum: False\n",
      "Emoticon max: False\n",
      "Emoticon last: False\n",
      "Hashtag sum: True\n",
      "Hashtag max: True\n",
      "Hashtag last: True\n",
      "Token sum: True\n",
      "Token max: True\n",
      "Token last: True \n",
      "\n",
      "Real values: Counter({0: 105, -2: 95, -3: 69, 1: 58, 3: 53, 2: 35, -1: 34})\n",
      "Predicted values: Counter({0: 243, -2: 161, 3: 23, -3: 19, 1: 3}) \n",
      "\n",
      "Accuracy: 0.327394209354\n",
      "Accuracy for small interval: 0.62583518931\n",
      "Accuracy for right direction: 0.489977728285 \n",
      "\n",
      "Classwise evaluation:\n",
      "             precision    recall  f1-score   support\n",
      "\n",
      "         -3       0.00      0.00      0.00        69\n",
      "         -2       0.00      0.00      0.00        95\n",
      "         -1       0.10      0.53      0.17        34\n",
      "          0       0.28      0.64      0.39       105\n",
      "          1       0.04      0.02      0.02        58\n",
      "          2       0.00      0.00      0.00        35\n",
      "          3       0.00      0.00      0.00        53\n",
      "\n",
      "avg / total       0.08      0.19      0.11       449\n",
      "\n",
      "k: 200\n",
      "Num hashtags: True\n",
      "Num mult punct: False\n",
      "Pos tags Counter({False: 45, True: 1})\n",
      "Word vectors Counter({False: 41519, True: 13})\n",
      "Char vectors Counter({False: 79696, True: 177})\n",
      "Emoticon sum: True\n",
      "Emoticon max: True\n",
      "Emoticon last: False\n",
      "Hashtag sum: True\n",
      "Hashtag max: True\n",
      "Hashtag last: True\n",
      "Token sum: True\n",
      "Token max: True\n",
      "Token last: True \n",
      "\n",
      "Real values: Counter({0: 105, -2: 95, -3: 69, 1: 58, 3: 53, 2: 35, -1: 34})\n",
      "Predicted values: Counter({0: 237, -2: 156, -3: 22, 1: 22, 3: 12}) \n",
      "\n",
      "Accuracy: 0.325167037862\n",
      "Accuracy for small interval: 0.621380846325\n",
      "Accuracy for right direction: 0.496659242762 \n",
      "\n",
      "Classwise evaluation:\n",
      "             precision    recall  f1-score   support\n",
      "\n",
      "         -3       0.00      0.00      0.00        69\n",
      "         -2       0.00      0.00      0.00        95\n",
      "         -1       0.08      0.44      0.14        34\n",
      "          0       0.27      0.62      0.38       105\n",
      "          1       0.15      0.09      0.11        58\n",
      "          2       0.00      0.00      0.00        35\n",
      "          3       0.00      0.00      0.00        53\n",
      "\n",
      "avg / total       0.09      0.19      0.11       449\n",
      "\n",
      "k: 500\n",
      "Num hashtags: True\n",
      "Num mult punct: False\n",
      "Pos tags Counter({False: 45, True: 1})\n",
      "Word vectors Counter({False: 41488, True: 44})\n",
      "Char vectors Counter({False: 79427, True: 446})\n",
      "Emoticon sum: True\n",
      "Emoticon max: True\n",
      "Emoticon last: False\n",
      "Hashtag sum: True\n",
      "Hashtag max: True\n",
      "Hashtag last: True\n",
      "Token sum: True\n",
      "Token max: True\n",
      "Token last: True \n",
      "\n",
      "Real values: Counter({0: 105, -2: 95, -3: 69, 1: 58, 3: 53, 2: 35, -1: 34})\n",
      "Predicted values: Counter({0: 267, -2: 155, 1: 12, -3: 10, 3: 5}) \n",
      "\n",
      "Accuracy: 0.309576837416\n",
      "Accuracy for small interval: 0.623608017817\n",
      "Accuracy for right direction: 0.47438752784 \n",
      "\n",
      "Classwise evaluation:\n",
      "             precision    recall  f1-score   support\n",
      "\n",
      "         -3       0.00      0.00      0.00        69\n",
      "         -2       0.00      0.00      0.00        95\n",
      "         -1       0.08      0.38      0.13        34\n",
      "          0       0.27      0.70      0.39       105\n",
      "          1       0.18      0.05      0.08        58\n",
      "          2       0.00      0.00      0.00        35\n",
      "          3       0.00      0.00      0.00        53\n",
      "\n",
      "avg / total       0.09      0.20      0.11       449\n",
      "\n",
      "k: 1000\n",
      "Num hashtags: True\n",
      "Num mult punct: False\n",
      "Pos tags Counter({False: 45, True: 1})\n",
      "Word vectors Counter({False: 41460, True: 72})\n",
      "Char vectors Counter({False: 78956, True: 917})\n",
      "Emoticon sum: True\n",
      "Emoticon max: True\n",
      "Emoticon last: True\n",
      "Hashtag sum: True\n",
      "Hashtag max: True\n",
      "Hashtag last: True\n",
      "Token sum: True\n",
      "Token max: True\n",
      "Token last: True \n",
      "\n",
      "Real values: Counter({0: 105, -2: 95, -3: 69, 1: 58, 3: 53, 2: 35, -1: 34})\n",
      "Predicted values: Counter({0: 268, -2: 163, 1: 9, -3: 6, 3: 3}) \n",
      "\n",
      "Accuracy: 0.305122494432\n",
      "Accuracy for small interval: 0.630289532294\n",
      "Accuracy for right direction: 0.469933184855 \n",
      "\n",
      "Classwise evaluation:\n",
      "             precision    recall  f1-score   support\n",
      "\n",
      "         -3       0.00      0.00      0.00        69\n",
      "         -2       0.00      0.00      0.00        95\n",
      "         -1       0.08      0.38      0.13        34\n",
      "          0       0.27      0.70      0.39       105\n",
      "          1       0.08      0.02      0.03        58\n",
      "          2       0.00      0.00      0.00        35\n",
      "          3       0.00      0.00      0.00        53\n",
      "\n",
      "avg / total       0.08      0.19      0.10       449\n",
      "\n",
      "k: 5000\n",
      "Num hashtags: True\n",
      "Num mult punct: False\n",
      "Pos tags Counter({False: 44, True: 2})\n",
      "Word vectors Counter({False: 40236, True: 1296})\n",
      "Char vectors Counter({False: 76181, True: 3692})\n",
      "Emoticon sum: True\n",
      "Emoticon max: True\n",
      "Emoticon last: True\n",
      "Hashtag sum: True\n",
      "Hashtag max: True\n",
      "Hashtag last: True\n",
      "Token sum: True\n",
      "Token max: True\n",
      "Token last: True \n",
      "\n",
      "Real values: Counter({0: 105, -2: 95, -3: 69, 1: 58, 3: 53, 2: 35, -1: 34})\n",
      "Predicted values: Counter({0: 273, -2: 160, 1: 8, -3: 5, 3: 3}) \n",
      "\n",
      "Accuracy: 0.307349665924\n",
      "Accuracy for small interval: 0.628062360802\n",
      "Accuracy for right direction: 0.472160356347 \n",
      "\n",
      "Classwise evaluation:\n",
      "             precision    recall  f1-score   support\n",
      "\n",
      "         -3       0.00      0.00      0.00        69\n",
      "         -2       0.00      0.00      0.00        95\n",
      "         -1       0.08      0.38      0.13        34\n",
      "          0       0.28      0.72      0.40       105\n",
      "          1       0.18      0.03      0.06        58\n",
      "          2       0.00      0.00      0.00        35\n",
      "          3       0.00      0.00      0.00        53\n",
      "\n",
      "avg / total       0.09      0.20      0.11       449\n",
      "\n"
     ]
    }
   ],
   "source": [
    "from sklearn.feature_selection import f_classif\n",
    "\n",
    "# Uses chi square to find significance of features and only selects the top k features\n",
    "ks = [10, 50, 100, 200, 500, 1000, 5000]\n",
    "\n",
    "for k in ks:\n",
    "    print(\"k:\", k)\n",
    "    \n",
    "    kbest_selector = SelectKBest(f_classif, k=k)\n",
    "    X_train_selected = kbest_selector.fit_transform(X_train, y_train)\n",
    "    X_test_selected = kbest_selector.transform(X_test)\n",
    "    \n",
    "    support = kbest_selector.get_support()\n",
    "    print(\"Num hashtags:\", support[0])\n",
    "    print(\"Num mult punct:\", support[1])\n",
    "    print(\"Pos tags\", Counter(support[2:48]))\n",
    "    print(\"Word vectors\", Counter(support[48:41580]))\n",
    "    print(\"Char vectors\", Counter(support[41580:-9]))\n",
    "    print(\"Emoticon sum:\", support[-9])\n",
    "    print(\"Emoticon max:\", support[-8])\n",
    "    print(\"Emoticon last:\", support[-7])\n",
    "    print(\"Hashtag sum:\", support[-6])\n",
    "    print(\"Hashtag max:\", support[-5])\n",
    "    print(\"Hashtag last:\", support[-4])\n",
    "    print(\"Token sum:\", support[-3])\n",
    "    print(\"Token max:\", support[-2])\n",
    "    print(\"Token last:\", support[-1], \"\\n\")\n",
    "    \n",
    "    fit_and_eval_svm(X_train_selected, y_train, X_test_selected, y_test)\n"
   ]
  },
  {
   "cell_type": "code",
   "execution_count": 22,
   "metadata": {
    "scrolled": true
   },
   "outputs": [
    {
     "name": "stdout",
     "output_type": "stream",
     "text": [
      "[[0.34298440979955458, 0.65033407572383073, 0.61024498886414258, 0.38275938536416942, 0.34298440979955458, 0.28619360819738771], [0.23385300668151449, 0.43875278396436523, 0.23385300668151449, 0.054687228733984454, 0.23385300668151449, 0.088644641521873707], [0.21603563474387527, 0.41202672605790647, 0.29398663697104677, 0.11372578794627793, 0.21603563474387527, 0.13916877236466987], [0.30512249443207129, 0.64142538975501107, 0.55011135857461024, 0.35111462470286053, 0.30512249443207129, 0.23143988901447315], [0.35412026726057905, 0.60801781737193772, 0.64810690423162587, 0.32488280883762405, 0.35412026726057905, 0.31876701171969679], [0.30734966592427615, 0.61915367483296213, 0.58797327394209353, 0.31003466552931841, 0.30734966592427615, 0.27763493352054686], [0.34075723830734966, 0.63919821826280621, 0.5835189309576837, 0.33643365767514954, 0.34075723830734966, 0.33481332125343549], [0.36525612472160357, 0.65924276169265039, 0.59242761692650336, 0.35576139133066503, 0.36525612472160357, 0.34309573326180814], [0.34075723830734966, 0.60356347438752778, 0.58574610244988867, 0.27793459680372462, 0.34075723830734966, 0.29509459898102641], [0.37193763919821826, 0.66369710467706022, 0.5523385300668151, 0.31784646440280484, 0.37193763919821826, 0.31385428726185971], [0.32516703786191536, 0.61915367483296213, 0.48775055679287305, 0.29715153267928529, 0.32516703786191536, 0.26519463954663874], [0.32739420935412028, 0.62583518930957682, 0.48997772828507796, 0.30853929022585874, 0.32739420935412028, 0.26334596505681473], [0.32516703786191536, 0.6213808463251671, 0.49665924276169265, 0.32444860074472998, 0.32516703786191536, 0.26960187381449235], [0.30957683741648107, 0.62360801781737196, 0.47438752783964366, 0.32933475730234829, 0.30957683741648107, 0.22983033205286738], [0.30512249443207129, 0.63028953229398665, 0.46993318485523383, 0.38181233579144963, 0.30512249443207129, 0.21861944153395188], [0.30734966592427615, 0.62806236080178168, 0.47216035634743875, 0.34700152761121578, 0.30734966592427615, 0.21420350023127432]]\n"
     ]
    }
   ],
   "source": [
    "print(results)"
   ]
  },
  {
   "cell_type": "markdown",
   "metadata": {},
   "source": [
    "### Recursive Feature Elimination with Cross Validation\n"
   ]
  },
  {
   "cell_type": "code",
   "execution_count": 23,
   "metadata": {
    "collapsed": true
   },
   "outputs": [],
   "source": [
    "# Another form of feature selection\n",
    "\n",
    "# selector = RFECV(svm.LinearSVC(), step=500, cv=5, verbose=10)\n",
    "# selector.fit(X_train, y_train)\n",
    "# evaluate_model(selector, X_test, y_test)\n"
   ]
  },
  {
   "cell_type": "code",
   "execution_count": null,
   "metadata": {
    "collapsed": true
   },
   "outputs": [],
   "source": []
  }
 ],
 "metadata": {
  "kernelspec": {
   "display_name": "Python 3",
   "language": "python",
   "name": "python3"
  },
  "language_info": {
   "codemirror_mode": {
    "name": "ipython",
    "version": 3
   },
   "file_extension": ".py",
   "mimetype": "text/x-python",
   "name": "python",
   "nbconvert_exporter": "python",
   "pygments_lexer": "ipython3",
   "version": "3.6.1"
  }
 },
 "nbformat": 4,
 "nbformat_minor": 1
}
