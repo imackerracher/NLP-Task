{
 "cells": [
  {
   "cell_type": "code",
   "execution_count": 15,
   "metadata": {
    "collapsed": true
   },
   "outputs": [],
   "source": [
    "import csv\n",
    "\n",
    "tweets = []\n",
    "intensity = []\n",
    "\n",
    "with open('2018-Valence-oc-En-train.txt') as csvfile:\n",
    "    reader = csv.reader(csvfile, delimiter='\\t')\n",
    "    for row in reader:\n",
    "        assert len(row) == 4\n",
    "        tweets.append(row[1])\n",
    "        intensity.append(row[3].split(\":\")[0])\n"
   ]
  },
  {
   "cell_type": "code",
   "execution_count": 17,
   "metadata": {},
   "outputs": [
    {
     "name": "stdout",
     "output_type": "stream",
     "text": [
      "[\"@TheSandraGal Glad to see that you're having fun in the sun. Water sports are always fun, challenging, and exhilarating. #happiness #beauty\", 'LOVE LOVE LOVE #smile #fun #relaxationiskey', \"But the lady at the store said I had nice eyelashes so that's good, right? #optimism? @verizon\", '@airvistara as always it was indeed a wonderful experience flying with you guys today #bestinbusiness #delight #happyme', 'That was a lovely story to actually see Ruth and hubby who won the cashcow @sunriseon7.It was so funny when she left the phone #happy 😊']\n"
     ]
    }
   ],
   "source": [
    "print(tweets[20:25])"
   ]
  },
  {
   "cell_type": "markdown",
   "metadata": {},
   "source": [
    "replace Urls by <url>\n",
    "\n",
    "Several emoticons are replaced by the tokens <smile>, <sadface>, <lolface> or <neutralface>.\n",
    "\n",
    "e.g. “sooooo” is replaced by “soo”\n",
    "\n",
    "All tweets are lowercased."
   ]
  }
 ],
 "metadata": {
  "kernelspec": {
   "display_name": "Python 2",
   "language": "python",
   "name": "python2"
  },
  "language_info": {
   "codemirror_mode": {
    "name": "ipython",
    "version": 2
   },
   "file_extension": ".py",
   "mimetype": "text/x-python",
   "name": "python",
   "nbconvert_exporter": "python",
   "pygments_lexer": "ipython2",
   "version": "2.7.6"
  }
 },
 "nbformat": 4,
 "nbformat_minor": 0
}
